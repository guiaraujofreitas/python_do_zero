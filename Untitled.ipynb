{
 "cells": [
  {
   "cell_type": "code",
   "execution_count": 3,
   "id": "37a97381",
   "metadata": {},
   "outputs": [],
   "source": [
    "import pandas as pd"
   ]
  },
  {
   "cell_type": "code",
   "execution_count": 5,
   "id": "8a776d4c",
   "metadata": {},
   "outputs": [],
   "source": [
    "#loading data into memory\n",
    "data = pd.read_csv( './kc_house_data.csv' )"
   ]
  },
  {
   "cell_type": "code",
   "execution_count": 17,
   "id": "b42d1a70",
   "metadata": {},
   "outputs": [
    {
     "ename": "SyntaxError",
     "evalue": "unexpected EOF while parsing (1699651676.py, line 32)",
     "output_type": "error",
     "traceback": [
      "\u001b[0;36m  File \u001b[0;32m\"/tmp/ipykernel_5036/1699651676.py\"\u001b[0;36m, line \u001b[0;32m32\u001b[0m\n\u001b[0;31m    \u001b[0m\n\u001b[0m    ^\u001b[0m\n\u001b[0;31mSyntaxError\u001b[0m\u001b[0;31m:\u001b[0m unexpected EOF while parsing\n"
     ]
    }
   ],
   "source": [
    "import time\n",
    "from geopy.geocoders import Nominatim\n",
    "#\n",
    "geolocator = Nominatim( user_agent='geopiExercises' )\n",
    "#\n",
    "def get_longlat( x ):\n",
    "    \n",
    "    \n",
    "    index, row = x\n",
    "    #\n",
    "    time.sleep(1)\n",
    "    #\n",
    "    response = geolocator.reverse( row['query'] )\n",
    "    #\n",
    "    address = response.raw['address']\n",
    "    #\n",
    "    #\n",
    "    try:\n",
    "        \n",
    "        #\n",
    "        place_id = response.raw['place_id'] if 'place_id' in response.raw else 'NA'\n",
    "        #\n",
    "        osm_type = response.raw['osm_type'] if 'osm_type' in response.raw else 'NA'\n",
    "        #\n",
    "        #\n",
    "        country = address['country'] if 'country' in address else 'NA'\n",
    "        #\n",
    "        country_code = address['country_code'] if 'country_code' in address else 'NA'\n",
    "        #\n",
    "        #\n",
    "        return place_id, osm_type, country, country_code\n",
    "       "
   ]
  },
  {
   "cell_type": "code",
   "execution_count": 15,
   "id": "c5474aff",
   "metadata": {},
   "outputs": [],
   "source": [
    "import time\n",
    "import defs_original\n",
    "from multiprocessing import Pool"
   ]
  },
  {
   "cell_type": "code",
   "execution_count": 16,
   "id": "39914878",
   "metadata": {},
   "outputs": [
    {
     "name": "stdout",
     "output_type": "stream",
     "text": [
      "0.028039301000000183\n"
     ]
    }
   ],
   "source": [
    "data['query'] = data[['lat', 'long']].apply( lambda x: str( x['lat'] ) + ',' + str( x['long'] ), axis=1 )\n",
    "df1 = data[['id', 'query']].head()\n",
    "p = Pool(2)\n",
    "start = time.process_time()\n",
    "df1[['place_id', 'osm_type', 'country', 'country_code']] = p.map( defs_original.get_longlat, df1.iterrows() )\n",
    "\n",
    "print(time.process_time() - start)"
   ]
  }
 ],
 "metadata": {
  "kernelspec": {
   "display_name": "Python 3 (ipykernel)",
   "language": "python",
   "name": "python3"
  },
  "language_info": {
   "codemirror_mode": {
    "name": "ipython",
    "version": 3
   },
   "file_extension": ".py",
   "mimetype": "text/x-python",
   "name": "python",
   "nbconvert_exporter": "python",
   "pygments_lexer": "ipython3",
   "version": "3.8.10"
  }
 },
 "nbformat": 4,
 "nbformat_minor": 5
}
