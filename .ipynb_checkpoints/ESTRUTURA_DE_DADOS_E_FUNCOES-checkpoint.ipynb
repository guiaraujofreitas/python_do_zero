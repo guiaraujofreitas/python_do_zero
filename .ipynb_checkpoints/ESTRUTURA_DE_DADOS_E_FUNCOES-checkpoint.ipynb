{
 "cells": [
  {
   "cell_type": "code",
   "execution_count": 30,
   "id": "fa26bfae",
   "metadata": {},
   "outputs": [],
   "source": [
    "import pandas as pd"
   ]
  },
  {
   "cell_type": "code",
   "execution_count": 31,
   "id": "17df2a51",
   "metadata": {},
   "outputs": [],
   "source": [
    "data = pd.read_csv('./kc_house_data.csv')"
   ]
  },
  {
   "cell_type": "code",
   "execution_count": 34,
   "id": "9edeb748",
   "metadata": {},
   "outputs": [],
   "source": [
    "def conventer_data(arquivo):\n",
    "    x = pd.to_datetime(arquivo)\n",
    "    \n",
    "    return x"
   ]
  },
  {
   "cell_type": "code",
   "execution_count": 35,
   "id": "54170160",
   "metadata": {},
   "outputs": [],
   "source": [
    "data['date']= conventer_data(arquivo=data['date'])"
   ]
  },
  {
   "cell_type": "code",
   "execution_count": 36,
   "id": "c56fac4a",
   "metadata": {},
   "outputs": [
    {
     "data": {
      "text/plain": [
       "0   2014-10-13\n",
       "1   2014-12-09\n",
       "2   2015-02-25\n",
       "3   2014-12-09\n",
       "4   2015-02-18\n",
       "Name: date, dtype: datetime64[ns]"
      ]
     },
     "execution_count": 36,
     "metadata": {},
     "output_type": "execute_result"
    }
   ],
   "source": [
    "data['date']"
   ]
  },
  {
   "cell_type": "code",
   "execution_count": 30,
   "id": "66e3be81",
   "metadata": {},
   "outputs": [
    {
     "data": {
      "text/plain": [
       "id                        int64\n",
       "date             datetime64[ns]\n",
       "price                   float64\n",
       "bedrooms                  int64\n",
       "bathrooms               float64\n",
       "sqft_living               int64\n",
       "sqft_lot                  int64\n",
       "floors                  float64\n",
       "waterfront                int64\n",
       "view                      int64\n",
       "condition                 int64\n",
       "grade                     int64\n",
       "sqft_above                int64\n",
       "sqft_basement             int64\n",
       "yr_built                  int64\n",
       "yr_renovated              int64\n",
       "zipcode                   int64\n",
       "lat                     float64\n",
       "long                    float64\n",
       "sqft_living15             int64\n",
       "sqft_lot15                int64\n",
       "dtype: object"
      ]
     },
     "execution_count": 30,
     "metadata": {},
     "output_type": "execute_result"
    }
   ],
   "source": [
    "data.dtypes"
   ]
  },
  {
   "cell_type": "code",
   "execution_count": 37,
   "id": "83fe1a95",
   "metadata": {},
   "outputs": [],
   "source": [
    "#descriptive statics\n",
    "\n",
    "import numpy as np\n",
    "\n",
    "pd.set_option('display.float_format', lambda x: '%.3f' % x)\n",
    "\n",
    "num_attributes= data.select_dtypes(['int64','float64'])\n",
    "\n",
    "#Central Tendecy, mean and median\n",
    "media= pd.DataFrame(num_attributes.apply(np.mean,axis=0 ))\n",
    "\n",
    "mediana= pd.DataFrame(num_attributes.apply(np.median, axis=0))\n",
    "\n",
    "#std\n",
    "\n",
    "desvio= pd.DataFrame(num_attributes.apply(np.std, axis=0))\n",
    "\n",
    "#minimo\n",
    "min_ = pd.DataFrame(num_attributes.apply(np.min,axis=0))\n",
    "\n",
    "#maximo\n",
    "max_= pd.DataFrame(num_attributes.apply(np.max, axis=0))\n",
    "\n",
    "df1= pd.concat([max_,min_,desvio,media,mediana],axis=1).reset_index()\n",
    "\n",
    "df1.columns = ['attributes','maximo','minimo','std','media','mediana']\n",
    "\n"
   ]
  },
  {
   "cell_type": "markdown",
   "id": "68f4dca1",
   "metadata": {},
   "source": [
    "Crie uma nova coluna chamada:“dormitory_type”:\n",
    "Se o valor da coluna “bedrooms” for igual à 1 => ‘studio’\n",
    "Se o valor da coluna “bedrooms” forigual a 2 => ‘apartament’\n",
    "Se o valor da coluna “bedrooms” for maior que 2 => ‘house’"
   ]
  },
  {
   "cell_type": "code",
   "execution_count": 38,
   "id": "6cb7a4d9",
   "metadata": {},
   "outputs": [],
   "source": [
    "#método for\n",
    "\n",
    "data['dormitory_type']= 'NA'\n",
    "\n",
    "for i in range(len(data)):\n",
    "    \n",
    "    if data.loc[i,'bedrooms'] <= 1:\n",
    "        data.loc[i,'dormitory_type'] = 'studio'\n",
    "    \n",
    "    elif data.loc[i,'bedrooms'] == 2:\n",
    "        data.loc[i,'dormitory_type'] = 'apartament'\n",
    "    \n",
    "    else:\n",
    "        data.loc[i,'dormitory_type'] = 'house'"
   ]
  },
  {
   "cell_type": "code",
   "execution_count": 39,
   "id": "a752a527",
   "metadata": {},
   "outputs": [
    {
     "data": {
      "text/plain": [
       "array(['house', 'apartament'], dtype=object)"
      ]
     },
     "execution_count": 39,
     "metadata": {},
     "output_type": "execute_result"
    }
   ],
   "source": [
    "data['dormitory_type'].unique()"
   ]
  },
  {
   "cell_type": "markdown",
   "id": "18c7a22f",
   "metadata": {},
   "source": [
    "Qual a média do preço de compra dos imóveis por “Nível”?\n",
    "\n",
    " - Nível 0 -> Preço entre R$ 0 e R$ 321.950\n",
    " - Nível 1 -> Preço entre R$ 321.950 e R$ 450.000\n",
    " - Nível 2 -> Preço entre R$ 450.000 e R$ 645.000\n",
    " - Nível 3 -> Acima de R$ 645.00"
   ]
  },
  {
   "cell_type": "code",
   "execution_count": 40,
   "id": "8c196bb4",
   "metadata": {},
   "outputs": [],
   "source": [
    "data['level']= 'NA'\n",
    "\n",
    "for i in range(len(data)):\n",
    "    \n",
    "    if data.loc[i,'price']<= 321950:\n",
    "        data.loc[i,'level']= 'level0'\n",
    "    \n",
    "    elif (data.loc[i,'price']>321950) & (data.loc[i,'price']<=450000):\n",
    "        data.loc[i,'level']= 'level1'\n",
    "    \n",
    "    elif (data.loc[i,'price']>450000) & (data.loc[i,'price']<=645000):\n",
    "        data.loc[i,'level']= 'level2'\n",
    "    \n",
    "    else:\n",
    "        data.loc[i,'level'] = 'level3'\n",
    "        "
   ]
  },
  {
   "cell_type": "code",
   "execution_count": 17,
   "id": "70663b39",
   "metadata": {},
   "outputs": [],
   "source": [
    "#from geopy.geocoders import Nominatim\n",
    "from geopy.geocoders import Nominatim"
   ]
  },
  {
   "cell_type": "code",
   "execution_count": 32,
   "id": "0830291d",
   "metadata": {},
   "outputs": [],
   "source": [
    "geolocator = Nominatim(user_agent= 'geoapieExercise')\n",
    "\n",
    "#created empty\n",
    "data= data.head()\n",
    "\n",
    "data['road']= 'NA'\n",
    "data['house_number']= 'NA'\n",
    "data['state']= 'NA'\n",
    "data['country_code']= 'NA'\n",
    "data['country']= 'NA'\n",
    "\n",
    "for i in range(len(data)):\n",
    "    \n",
    "    query= str(data.loc[i,'lat']) + ',' + str(data.loc[i,'long'])\n",
    "    \n",
    "    response= geolocator.reverse(query)\n",
    "        \n",
    "    if 'road' in response.raw['address']:\n",
    "        data.loc[i,'road'] = response.raw['address']['road']\n",
    "    \n",
    "    if 'house_number' in response.raw['address']:\n",
    "        data.loc[i,'house_number'] = response.raw['address']['house_number']\n",
    "    \n",
    "    if 'country_code' in response.raw['address']:\n",
    "        data.loc[i,'country_code']= response.raw['address']['country_code']\n",
    "    \n",
    "    if 'state' in response.raw['address']:\n",
    "        data.loc[i,'state'] = response.raw['address']['state']\n",
    "    \n",
    "    if 'country'in response.raw['address']:\n",
    "        data.loc[i,'country'] = response.raw['address']['country']\n",
    "                                                        "
   ]
  },
  {
   "cell_type": "code",
   "execution_count": 41,
   "id": "ab42d345",
   "metadata": {},
   "outputs": [],
   "source": [
    "import plotly.express as px"
   ]
  },
  {
   "cell_type": "code",
   "execution_count": 43,
   "id": "5dc6976d",
   "metadata": {},
   "outputs": [],
   "source": [
    "houses= [['id','long','lat','price']]\n"
   ]
  },
  {
   "cell_type": "code",
   "execution_count": null,
   "id": "e5572194",
   "metadata": {},
   "outputs": [],
   "source": [
    "#construindo o mapa:\n",
    "\n",
    "mapa= px.scatter_mapbox(houses,\n",
    "                       lat= 'lat',\n",
    "                       lon= 'long',\n",
    "                       )"
   ]
  }
 ],
 "metadata": {
  "kernelspec": {
   "display_name": "Python 3 (ipykernel)",
   "language": "python",
   "name": "python3"
  },
  "language_info": {
   "codemirror_mode": {
    "name": "ipython",
    "version": 3
   },
   "file_extension": ".py",
   "mimetype": "text/x-python",
   "name": "python",
   "nbconvert_exporter": "python",
   "pygments_lexer": "ipython3",
   "version": "3.8.10"
  }
 },
 "nbformat": 4,
 "nbformat_minor": 5
}
