{
 "cells": [
  {
   "cell_type": "markdown",
   "id": "293a6577",
   "metadata": {},
   "source": [
    "# 0.0 QUESTIONS OF CEO"
   ]
  },
  {
   "cell_type": "markdown",
   "id": "4c19ab4c",
   "metadata": {},
   "source": [
    "1. Quantas casas estão dísponíveis para venda?\n",
    "\n",
    "2. Quantos atributos as casas posuem?\n",
    "\n",
    "3. Quais são os atributos da casa?\n",
    "\n",
    "4. Qual a casa mais cara? (Casa com maior valor de venda)\n",
    "\n",
    "5. Qual é maior casa com maior número de quartos?\n",
    "                "
   ]
  },
  {
   "cell_type": "markdown",
   "id": "436213eb",
   "metadata": {},
   "source": [
    "# 0.1 IMPORTS"
   ]
  },
  {
   "cell_type": "code",
   "execution_count": 2,
   "id": "9e6daa39",
   "metadata": {},
   "outputs": [],
   "source": [
    "import pandas as pd"
   ]
  },
  {
   "cell_type": "markdown",
   "id": "51389408",
   "metadata": {},
   "source": [
    "# 0.1 HELP FUNCTIONS"
   ]
  },
  {
   "cell_type": "markdown",
   "id": "9ef5307c",
   "metadata": {},
   "source": [
    "# 0.2 LOARDING DATE"
   ]
  },
  {
   "cell_type": "code",
   "execution_count": 4,
   "id": "95f4ee75",
   "metadata": {},
   "outputs": [],
   "source": [
    "df1= pd.read_csv('./kc_house_data.csv')"
   ]
  },
  {
   "cell_type": "markdown",
   "id": "32a3eeb0",
   "metadata": {},
   "source": [
    "# 1.0 DESCRITION DATE"
   ]
  },
  {
   "cell_type": "code",
   "execution_count": 5,
   "id": "442bc47c",
   "metadata": {},
   "outputs": [
    {
     "data": {
      "text/plain": [
       "Index(['id', 'date', 'price', 'bedrooms', 'bathrooms', 'sqft_living',\n",
       "       'sqft_lot', 'floors', 'waterfront', 'view', 'condition', 'grade',\n",
       "       'sqft_above', 'sqft_basement', 'yr_built', 'yr_renovated', 'zipcode',\n",
       "       'lat', 'long', 'sqft_living15', 'sqft_lot15'],\n",
       "      dtype='object')"
      ]
     },
     "execution_count": 5,
     "metadata": {},
     "output_type": "execute_result"
    }
   ],
   "source": [
    "df1.columns"
   ]
  },
  {
   "cell_type": "markdown",
   "id": "952f1b17",
   "metadata": {},
   "source": [
    "# 1.1 DATE DIMENSION"
   ]
  },
  {
   "cell_type": "code",
   "execution_count": 6,
   "id": "e76150ae",
   "metadata": {},
   "outputs": [
    {
     "name": "stdout",
     "output_type": "stream",
     "text": [
      "Number of Rows 21613\n",
      "Number of Columns 21\n"
     ]
    }
   ],
   "source": [
    "print('Number of Rows {}'.format(df1.shape[0]))\n",
    "print('Number of Columns {}'.format(df1.shape[1]))"
   ]
  },
  {
   "cell_type": "markdown",
   "id": "79c9fafd",
   "metadata": {},
   "source": [
    "# 1.2 DATE TYPE \n"
   ]
  },
  {
   "cell_type": "code",
   "execution_count": 8,
   "id": "a7175156",
   "metadata": {},
   "outputs": [],
   "source": [
    "df1['date']= pd.to_datetime(df1['date'])"
   ]
  },
  {
   "cell_type": "markdown",
   "id": "c465d636",
   "metadata": {},
   "source": [
    "# 1.3 Check NA"
   ]
  },
  {
   "cell_type": "code",
   "execution_count": 14,
   "id": "19dc70e1",
   "metadata": {},
   "outputs": [
    {
     "data": {
      "text/plain": [
       "id               0\n",
       "date             0\n",
       "price            0\n",
       "bedrooms         0\n",
       "bathrooms        0\n",
       "sqft_living      0\n",
       "sqft_lot         0\n",
       "floors           0\n",
       "waterfront       0\n",
       "view             0\n",
       "condition        0\n",
       "grade            0\n",
       "sqft_above       0\n",
       "sqft_basement    0\n",
       "yr_built         0\n",
       "yr_renovated     0\n",
       "zipcode          0\n",
       "lat              0\n",
       "long             0\n",
       "sqft_living15    0\n",
       "sqft_lot15       0\n",
       "dtype: int64"
      ]
     },
     "execution_count": 14,
     "metadata": {},
     "output_type": "execute_result"
    }
   ],
   "source": [
    "df1.isnull().sum()"
   ]
  },
  {
   "cell_type": "markdown",
   "id": "7b090354",
   "metadata": {},
   "source": [
    "# 1.5  Fillout NA"
   ]
  },
  {
   "cell_type": "code",
   "execution_count": 15,
   "id": "f264dcad",
   "metadata": {},
   "outputs": [
    {
     "data": {
      "text/html": [
       "<div>\n",
       "<style scoped>\n",
       "    .dataframe tbody tr th:only-of-type {\n",
       "        vertical-align: middle;\n",
       "    }\n",
       "\n",
       "    .dataframe tbody tr th {\n",
       "        vertical-align: top;\n",
       "    }\n",
       "\n",
       "    .dataframe thead th {\n",
       "        text-align: right;\n",
       "    }\n",
       "</style>\n",
       "<table border=\"1\" class=\"dataframe\">\n",
       "  <thead>\n",
       "    <tr style=\"text-align: right;\">\n",
       "      <th></th>\n",
       "      <th>id</th>\n",
       "      <th>date</th>\n",
       "      <th>price</th>\n",
       "      <th>bedrooms</th>\n",
       "      <th>bathrooms</th>\n",
       "      <th>sqft_living</th>\n",
       "      <th>sqft_lot</th>\n",
       "      <th>floors</th>\n",
       "      <th>waterfront</th>\n",
       "      <th>view</th>\n",
       "      <th>...</th>\n",
       "      <th>grade</th>\n",
       "      <th>sqft_above</th>\n",
       "      <th>sqft_basement</th>\n",
       "      <th>yr_built</th>\n",
       "      <th>yr_renovated</th>\n",
       "      <th>zipcode</th>\n",
       "      <th>lat</th>\n",
       "      <th>long</th>\n",
       "      <th>sqft_living15</th>\n",
       "      <th>sqft_lot15</th>\n",
       "    </tr>\n",
       "  </thead>\n",
       "  <tbody>\n",
       "    <tr>\n",
       "      <th>10943</th>\n",
       "      <td>3630060070</td>\n",
       "      <td>2014-10-21</td>\n",
       "      <td>472500.0</td>\n",
       "      <td>2</td>\n",
       "      <td>2.25</td>\n",
       "      <td>1700</td>\n",
       "      <td>2383</td>\n",
       "      <td>2.0</td>\n",
       "      <td>0</td>\n",
       "      <td>0</td>\n",
       "      <td>...</td>\n",
       "      <td>8</td>\n",
       "      <td>1700</td>\n",
       "      <td>0</td>\n",
       "      <td>2005</td>\n",
       "      <td>0</td>\n",
       "      <td>98029</td>\n",
       "      <td>47.547</td>\n",
       "      <td>-121.997</td>\n",
       "      <td>1700</td>\n",
       "      <td>2700</td>\n",
       "    </tr>\n",
       "  </tbody>\n",
       "</table>\n",
       "<p>1 rows × 21 columns</p>\n",
       "</div>"
      ],
      "text/plain": [
       "               id       date     price  bedrooms  bathrooms  sqft_living  \\\n",
       "10943  3630060070 2014-10-21  472500.0         2       2.25         1700   \n",
       "\n",
       "       sqft_lot  floors  waterfront  view  ...  grade  sqft_above  \\\n",
       "10943      2383     2.0           0     0  ...      8        1700   \n",
       "\n",
       "       sqft_basement  yr_built  yr_renovated  zipcode     lat     long  \\\n",
       "10943              0      2005             0    98029  47.547 -121.997   \n",
       "\n",
       "       sqft_living15  sqft_lot15  \n",
       "10943           1700        2700  \n",
       "\n",
       "[1 rows x 21 columns]"
      ]
     },
     "execution_count": 15,
     "metadata": {},
     "output_type": "execute_result"
    }
   ],
   "source": [
    "df1.sample(1)"
   ]
  },
  {
   "cell_type": "markdown",
   "id": "2353f456",
   "metadata": {},
   "source": [
    "# RESPONSE QUESTION  CEO"
   ]
  },
  {
   "cell_type": "markdown",
   "id": "f3a6b023",
   "metadata": {},
   "source": [
    "### Quantas casas estão dísponíveis para venda?"
   ]
  },
  {
   "cell_type": "code",
   "execution_count": 24,
   "id": "d9961de8",
   "metadata": {},
   "outputs": [
    {
     "data": {
      "text/plain": [
       "21613"
      ]
     },
     "execution_count": 24,
     "metadata": {},
     "output_type": "execute_result"
    }
   ],
   "source": [
    "df1.shape[0]"
   ]
  },
  {
   "cell_type": "markdown",
   "id": "21d5169a",
   "metadata": {},
   "source": [
    "### Quantos atributos as casas posuem?"
   ]
  },
  {
   "cell_type": "code",
   "execution_count": 28,
   "id": "e12a65f8",
   "metadata": {},
   "outputs": [
    {
     "data": {
      "text/plain": [
       "21"
      ]
     },
     "execution_count": 28,
     "metadata": {},
     "output_type": "execute_result"
    }
   ],
   "source": [
    "df1.shape[1] "
   ]
  },
  {
   "cell_type": "markdown",
   "id": "299b24d3",
   "metadata": {},
   "source": [
    "### Quais são os atributos das casas?"
   ]
  },
  {
   "cell_type": "code",
   "execution_count": 30,
   "id": "ac74b98e",
   "metadata": {},
   "outputs": [
    {
     "data": {
      "text/plain": [
       "Index(['id', 'date', 'price', 'bedrooms', 'bathrooms', 'sqft_living',\n",
       "       'sqft_lot', 'floors', 'waterfront', 'view', 'condition', 'grade',\n",
       "       'sqft_above', 'sqft_basement', 'yr_built', 'yr_renovated', 'zipcode',\n",
       "       'lat', 'long', 'sqft_living15', 'sqft_lot15'],\n",
       "      dtype='object')"
      ]
     },
     "execution_count": 30,
     "metadata": {},
     "output_type": "execute_result"
    }
   ],
   "source": [
    "df1.columns"
   ]
  },
  {
   "cell_type": "markdown",
   "id": "e699b9f1",
   "metadata": {},
   "source": [
    "### Qual a casa mais cara? (Casa com maior valor de venda)"
   ]
  },
  {
   "cell_type": "code",
   "execution_count": 35,
   "id": "beb54295",
   "metadata": {},
   "outputs": [
    {
     "name": "stdout",
     "output_type": "stream",
     "text": [
      "The house with price expense has value R$ 7700000.0\n"
     ]
    }
   ],
   "source": [
    "print('The house with price expense has value R$ {}'.format(df1['price'].max()))\n",
    "      #rint('Number of Columns {}'.format(df1.shape[1]))"
   ]
  },
  {
   "cell_type": "code",
   "execution_count": null,
   "id": "ada9c3b1",
   "metadata": {},
   "outputs": [],
   "source": []
  }
 ],
 "metadata": {
  "kernelspec": {
   "display_name": "Python 3 (ipykernel)",
   "language": "python",
   "name": "python3"
  },
  "language_info": {
   "codemirror_mode": {
    "name": "ipython",
    "version": 3
   },
   "file_extension": ".py",
   "mimetype": "text/x-python",
   "name": "python",
   "nbconvert_exporter": "python",
   "pygments_lexer": "ipython3",
   "version": "3.8.10"
  }
 },
 "nbformat": 4,
 "nbformat_minor": 5
}
