{
 "cells": [
  {
   "cell_type": "markdown",
   "id": "293a6577",
   "metadata": {},
   "source": [
    "# 0.0 IMPORTS"
   ]
  },
  {
   "cell_type": "code",
   "execution_count": 2,
   "id": "9e6daa39",
   "metadata": {},
   "outputs": [],
   "source": [
    "import pandas as pd"
   ]
  },
  {
   "cell_type": "markdown",
   "id": "51389408",
   "metadata": {},
   "source": [
    "# 0.1 HELP FUNCTIONS"
   ]
  },
  {
   "cell_type": "markdown",
   "id": "9ef5307c",
   "metadata": {},
   "source": [
    "# 0.2 LOARDING DATE"
   ]
  },
  {
   "cell_type": "code",
   "execution_count": 26,
   "id": "95f4ee75",
   "metadata": {},
   "outputs": [],
   "source": [
    "df1= pd.read_csv('./kc_house_data.csv')"
   ]
  },
  {
   "cell_type": "markdown",
   "id": "32a3eeb0",
   "metadata": {},
   "source": [
    "# 1.0 DESCRITION DATE"
   ]
  },
  {
   "cell_type": "code",
   "execution_count": 27,
   "id": "442bc47c",
   "metadata": {},
   "outputs": [
    {
     "data": {
      "text/plain": [
       "Index(['id', 'date', 'price', 'bedrooms', 'bathrooms', 'sqft_living',\n",
       "       'sqft_lot', 'floors', 'waterfront', 'view', 'condition', 'grade',\n",
       "       'sqft_above', 'sqft_basement', 'yr_built', 'yr_renovated', 'zipcode',\n",
       "       'lat', 'long', 'sqft_living15', 'sqft_lot15'],\n",
       "      dtype='object')"
      ]
     },
     "execution_count": 27,
     "metadata": {},
     "output_type": "execute_result"
    }
   ],
   "source": [
    "df1.columns"
   ]
  },
  {
   "cell_type": "markdown",
   "id": "952f1b17",
   "metadata": {},
   "source": [
    "# 1.1 DATE DIMENSION"
   ]
  },
  {
   "cell_type": "code",
   "execution_count": 31,
   "id": "e76150ae",
   "metadata": {},
   "outputs": [
    {
     "name": "stdout",
     "output_type": "stream",
     "text": [
      "Number of Rows 21613\n",
      "Number of Columns 21\n"
     ]
    }
   ],
   "source": [
    "print('Number of Rows {}'.format(df1.shape[0]))\n",
    "print('Number of Columns {}'.format(df1.shape[1]))"
   ]
  },
  {
   "cell_type": "markdown",
   "id": "79c9fafd",
   "metadata": {},
   "source": [
    "# 1.2 DATE TYPE \n"
   ]
  },
  {
   "cell_type": "code",
   "execution_count": 32,
   "id": "a7175156",
   "metadata": {},
   "outputs": [
    {
     "ename": "SyntaxError",
     "evalue": "invalid syntax (1304709748.py, line 1)",
     "output_type": "error",
     "traceback": [
      "\u001b[0;36m  File \u001b[0;32m\"/tmp/ipykernel_3875/1304709748.py\"\u001b[0;36m, line \u001b[0;32m1\u001b[0m\n\u001b[0;31m    df1['date']= pd.to_datetime(df1.['date'])\u001b[0m\n\u001b[0m                                    ^\u001b[0m\n\u001b[0;31mSyntaxError\u001b[0m\u001b[0;31m:\u001b[0m invalid syntax\n"
     ]
    }
   ],
   "source": [
    "df1['date']= pd.to_datetime(df1.['date'])"
   ]
  },
  {
   "cell_type": "code",
   "execution_count": null,
   "id": "bec9cb76",
   "metadata": {},
   "outputs": [],
   "source": []
  }
 ],
 "metadata": {
  "kernelspec": {
   "display_name": "Python 3 (ipykernel)",
   "language": "python",
   "name": "python3"
  },
  "language_info": {
   "codemirror_mode": {
    "name": "ipython",
    "version": 3
   },
   "file_extension": ".py",
   "mimetype": "text/x-python",
   "name": "python",
   "nbconvert_exporter": "python",
   "pygments_lexer": "ipython3",
   "version": "3.8.10"
  }
 },
 "nbformat": 4,
 "nbformat_minor": 5
}
