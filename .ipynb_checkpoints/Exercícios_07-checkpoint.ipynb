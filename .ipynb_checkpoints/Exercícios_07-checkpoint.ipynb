{
 "cells": [
  {
   "cell_type": "markdown",
   "id": "6f5c7c3d",
   "metadata": {},
   "source": [
    "1. Qual a média do preço de compra dos\n",
    "imóveis por “Nível”?\n",
    "- Nível 0 -> Preço entre R$ 0 e R$\n",
    "321.950\n",
    "- Nível 1 -> Preço entre R$ 321.950 e\n",
    "R$ 450.000\n",
    "- Nível 2 -> Preço entre R$ 450.000 e\n",
    "R$ 645.000\n",
    "- Nível 3 -> Acima de R$ 645.000\n",
    "\n",
    "2. Qual a média do tamanho da sala de\n",
    "estar dos imóveis por “Size” ?\n",
    "- Size 0 -> Tamanho entre 0 e 1427\n",
    "sqft\n",
    "- Size 1 -> Tamanho entre 1427 e 1910 sqft\n",
    "- Size 2 -> Tamanho entre 1910 e\n",
    "2550 sqft\n",
    "- Size 3 -> Tamanho acima de 2550\n",
    "sqft\n",
    "\n",
    "3. Adicione as seguinte informações ao\n",
    "conjunto de dados original:\n",
    "- Place ID: Identificação da\n",
    "localização\n",
    "- OSM Type: Open Street Map type\n",
    "- Country: Nome do País\n",
    "- Country Code: Código do País\n",
    "\n",
    "4. Adicione os seguinte filtros no Mapa:\n",
    "- Tamanho mínimo da área da sala\n",
    "de estar.\n",
    "- Número mínimo de banheiros.\n",
    "- Valor Máximo do Preço.\n",
    "- Tamanho máximo da área do\n",
    "porão.\n",
    "- Filtro das Condições do Imóvel.\n",
    "- Filtro por Ano de Construção.\n",
    "\n",
    "5. Adicione os seguinte filtros no\n",
    "Dashboard:\n",
    "\n",
    "- Filtro por data disponível para\n",
    "compra.\n",
    "- Filtro por ano de renovação.\n",
    "- Filtro se possui vista para a água\n",
    "ou não."
   ]
  },
  {
   "cell_type": "code",
   "execution_count": 1,
   "id": "380e0fbc",
   "metadata": {},
   "outputs": [],
   "source": [
    "import pandas as pd"
   ]
  },
  {
   "cell_type": "markdown",
   "id": "6fa37f2b",
   "metadata": {},
   "source": [
    "Qual a média do preço de compra dos imóveis por “Nível”?\n",
    "Nível 0 -> Preço entre R 0𝑒𝑅 \n",
    "321.950\n",
    "\n",
    "Nível 1 -> Preço entre R 321.950𝑒𝑅  450.000\n",
    "Nível 2 -> Preço entre R 450.000𝑒𝑅  645.000\n",
    "Nível 3 -> Acima de R$ 645.000"
   ]
  },
  {
   "cell_type": "code",
   "execution_count": 3,
   "id": "914ee95e",
   "metadata": {},
   "outputs": [],
   "source": [
    "df = pd.read_csv('./kc_house_data.csv')"
   ]
  },
  {
   "cell_type": "code",
   "execution_count": 9,
   "id": "177482f9",
   "metadata": {},
   "outputs": [
    {
     "data": {
      "text/html": [
       "<div>\n",
       "<style scoped>\n",
       "    .dataframe tbody tr th:only-of-type {\n",
       "        vertical-align: middle;\n",
       "    }\n",
       "\n",
       "    .dataframe tbody tr th {\n",
       "        vertical-align: top;\n",
       "    }\n",
       "\n",
       "    .dataframe thead th {\n",
       "        text-align: right;\n",
       "    }\n",
       "</style>\n",
       "<table border=\"1\" class=\"dataframe\">\n",
       "  <thead>\n",
       "    <tr style=\"text-align: right;\">\n",
       "      <th></th>\n",
       "      <th>id</th>\n",
       "      <th>date</th>\n",
       "      <th>price</th>\n",
       "      <th>bedrooms</th>\n",
       "      <th>bathrooms</th>\n",
       "      <th>sqft_living</th>\n",
       "      <th>sqft_lot</th>\n",
       "      <th>floors</th>\n",
       "      <th>waterfront</th>\n",
       "      <th>view</th>\n",
       "      <th>...</th>\n",
       "      <th>grade</th>\n",
       "      <th>sqft_above</th>\n",
       "      <th>sqft_basement</th>\n",
       "      <th>yr_built</th>\n",
       "      <th>yr_renovated</th>\n",
       "      <th>zipcode</th>\n",
       "      <th>lat</th>\n",
       "      <th>long</th>\n",
       "      <th>sqft_living15</th>\n",
       "      <th>sqft_lot15</th>\n",
       "    </tr>\n",
       "  </thead>\n",
       "  <tbody>\n",
       "    <tr>\n",
       "      <th>9129</th>\n",
       "      <td>5700002510</td>\n",
       "      <td>20140611T000000</td>\n",
       "      <td>1085000.0</td>\n",
       "      <td>5</td>\n",
       "      <td>2.5</td>\n",
       "      <td>2340</td>\n",
       "      <td>6000</td>\n",
       "      <td>2.0</td>\n",
       "      <td>0</td>\n",
       "      <td>0</td>\n",
       "      <td>...</td>\n",
       "      <td>10</td>\n",
       "      <td>2340</td>\n",
       "      <td>0</td>\n",
       "      <td>1922</td>\n",
       "      <td>0</td>\n",
       "      <td>98144</td>\n",
       "      <td>47.5764</td>\n",
       "      <td>-122.287</td>\n",
       "      <td>2350</td>\n",
       "      <td>6000</td>\n",
       "    </tr>\n",
       "  </tbody>\n",
       "</table>\n",
       "<p>1 rows × 21 columns</p>\n",
       "</div>"
      ],
      "text/plain": [
       "              id             date      price  bedrooms  bathrooms  \\\n",
       "9129  5700002510  20140611T000000  1085000.0         5        2.5   \n",
       "\n",
       "      sqft_living  sqft_lot  floors  waterfront  view  ...  grade  sqft_above  \\\n",
       "9129         2340      6000     2.0           0     0  ...     10        2340   \n",
       "\n",
       "      sqft_basement  yr_built  yr_renovated  zipcode      lat     long  \\\n",
       "9129              0      1922             0    98144  47.5764 -122.287   \n",
       "\n",
       "      sqft_living15  sqft_lot15  \n",
       "9129           2350        6000  \n",
       "\n",
       "[1 rows x 21 columns]"
      ]
     },
     "execution_count": 9,
     "metadata": {},
     "output_type": "execute_result"
    }
   ],
   "source": [
    "df.sample()"
   ]
  },
  {
   "cell_type": "code",
   "execution_count": 10,
   "id": "7f27a4ac",
   "metadata": {},
   "outputs": [],
   "source": [
    "df['nivel'] = df['price'].apply(lambda x: 0 if x< 321950 else 1 if (x>= 321950) & (x< 450000) else \n",
    "                                2 if (x>= 450000) & (x<645000) else 3)\n",
    "\n"
   ]
  },
  {
   "cell_type": "code",
   "execution_count": 20,
   "id": "e7a7d3d8",
   "metadata": {},
   "outputs": [
    {
     "data": {
      "text/html": [
       "<div>\n",
       "<style scoped>\n",
       "    .dataframe tbody tr th:only-of-type {\n",
       "        vertical-align: middle;\n",
       "    }\n",
       "\n",
       "    .dataframe tbody tr th {\n",
       "        vertical-align: top;\n",
       "    }\n",
       "\n",
       "    .dataframe thead th {\n",
       "        text-align: right;\n",
       "    }\n",
       "</style>\n",
       "<table border=\"1\" class=\"dataframe\">\n",
       "  <thead>\n",
       "    <tr style=\"text-align: right;\">\n",
       "      <th></th>\n",
       "      <th>price</th>\n",
       "    </tr>\n",
       "  </thead>\n",
       "  <tbody>\n",
       "    <tr>\n",
       "      <th>0</th>\n",
       "      <td>251544.621507</td>\n",
       "    </tr>\n",
       "    <tr>\n",
       "      <th>1</th>\n",
       "      <td>383585.205332</td>\n",
       "    </tr>\n",
       "    <tr>\n",
       "      <th>2</th>\n",
       "      <td>536164.422840</td>\n",
       "    </tr>\n",
       "    <tr>\n",
       "      <th>3</th>\n",
       "      <td>985008.983189</td>\n",
       "    </tr>\n",
       "  </tbody>\n",
       "</table>\n",
       "</div>"
      ],
      "text/plain": [
       "           price\n",
       "0  251544.621507\n",
       "1  383585.205332\n",
       "2  536164.422840\n",
       "3  985008.983189"
      ]
     },
     "execution_count": 20,
     "metadata": {},
     "output_type": "execute_result"
    }
   ],
   "source": [
    "df[['nivel','price']].groupby('nivel').mean().reset_index(drop=True)"
   ]
  },
  {
   "cell_type": "markdown",
   "id": "b63f6c07",
   "metadata": {},
   "source": [
    "Qual a média do tamanho da sala de estar dos imóveis por “Size” ?\n",
    "Size 0 -> Tamanho entre 0 e 1427 sqft\n",
    "Size 1 -> Tamanho entre 1427 e 1910 sqft\n",
    "Size 2 -> Tamanho entre 1910 e 2550 sqft\n",
    "Size 3 -> Tamanho acima de 2550 sqft"
   ]
  },
  {
   "cell_type": "code",
   "execution_count": 21,
   "id": "dc8c2aa8",
   "metadata": {},
   "outputs": [],
   "source": [
    "df['size'] = df['sqft_living'].apply(lambda x: 0 if x< 1427 else 1 if (x>= 1427) & (x< 1910) else\n",
    "                                    2 if (x>= 1910) & (x< 2550) else 3)"
   ]
  }
 ],
 "metadata": {
  "kernelspec": {
   "display_name": "Python 3 (ipykernel)",
   "language": "python",
   "name": "python3"
  },
  "language_info": {
   "codemirror_mode": {
    "name": "ipython",
    "version": 3
   },
   "file_extension": ".py",
   "mimetype": "text/x-python",
   "name": "python",
   "nbconvert_exporter": "python",
   "pygments_lexer": "ipython3",
   "version": "3.8.10"
  }
 },
 "nbformat": 4,
 "nbformat_minor": 5
}
