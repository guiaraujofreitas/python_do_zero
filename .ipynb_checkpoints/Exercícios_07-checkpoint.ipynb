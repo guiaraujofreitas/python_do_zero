{
 "cells": [
  {
   "cell_type": "markdown",
   "id": "ccac534a",
   "metadata": {},
   "source": [
    "1. Qual a média do preço de compra dos\n",
    "imóveis por “Nível”?\n",
    "- Nível 0 -> Preço entre R$ 0 e R$\n",
    "321.950\n",
    "- Nível 1 -> Preço entre R$ 321.950 e\n",
    "R$ 450.000\n",
    "- Nível 2 -> Preço entre R$ 450.000 e\n",
    "R$ 645.000\n",
    "- Nível 3 -> Acima de R$ 645.000\n",
    "\n",
    "2. Qual a média do tamanho da sala de\n",
    "estar dos imóveis por “Size” ?\n",
    "- Size 0 -> Tamanho entre 0 e 1427\n",
    "sqft\n",
    "- Size 1 -> Tamanho entre 1427 e 1910 sqft\n",
    "- Size 2 -> Tamanho entre 1910 e\n",
    "2550 sqft\n",
    "- Size 3 -> Tamanho acima de 2550\n",
    "sqft\n",
    "\n",
    "3. Adicione as seguinte informações ao\n",
    "conjunto de dados original:\n",
    "- Place ID: Identificação da\n",
    "localização\n",
    "- OSM Type: Open Street Map type\n",
    "- Country: Nome do País\n",
    "- Country Code: Código do País\n",
    "\n",
    "4. Adicione os seguinte filtros no Mapa:\n",
    "- Tamanho mínimo da área da sala\n",
    "de estar.\n",
    "- Número mínimo de banheiros.\n",
    "- Valor Máximo do Preço.\n",
    "- Tamanho máximo da área do\n",
    "porão.\n",
    "- Filtro das Condições do Imóvel.\n",
    "- Filtro por Ano de Construção.\n",
    "\n",
    "5. Adicione os seguinte filtros no\n",
    "Dashboard:\n",
    "\n",
    "- Filtro por data disponível para\n",
    "compra.\n",
    "- Filtro por ano de renovação.\n",
    "- Filtro se possui vista para a água\n",
    "ou não."
   ]
  },
  {
   "cell_type": "code",
   "execution_count": 1,
   "id": "57daf797",
   "metadata": {},
   "outputs": [],
   "source": [
    "import pandas as pd\n",
    "import ipywidgets as widgets\n",
    "import matplotlib as plt\n",
    "from matplotlib import gridspec\n",
    "from ipywidgets import fixed\n",
    "from matplotlib import pyplot as plt"
   ]
  },
  {
   "cell_type": "markdown",
   "id": "ff675ca7",
   "metadata": {},
   "source": [
    "Qual a média do preço de compra dos imóveis por “Nível”?\n",
    "Nível 0 -> Preço entre R 0𝑒𝑅 \n",
    "321.950\n",
    "\n",
    "Nível 1 -> Preço entre R 321.950𝑒𝑅  450.000\n",
    "Nível 2 -> Preço entre R 450.000𝑒𝑅  645.000\n",
    "Nível 3 -> Acima de R$ 645.000"
   ]
  },
  {
   "cell_type": "code",
   "execution_count": 2,
   "id": "7f4daa6f",
   "metadata": {},
   "outputs": [],
   "source": [
    "df = pd.read_csv('./kc_house_data.csv')"
   ]
  },
  {
   "cell_type": "code",
   "execution_count": 3,
   "id": "53723fd1",
   "metadata": {},
   "outputs": [
    {
     "data": {
      "text/plain": [
       "array([   0, 1991, 2002, 2010, 1999, 1992, 2013, 1994, 1978, 2005, 2008,\n",
       "       2003, 1984, 1954, 2014, 2011, 1974, 1983, 1945, 1990, 1988, 1957,\n",
       "       1977, 1981, 1995, 2000, 1998, 1970, 1989, 2004, 1986, 2009, 2007,\n",
       "       1987, 1973, 2006, 1985, 2001, 1980, 1971, 1979, 1997, 1950, 1969,\n",
       "       1948, 2015, 1968, 2012, 1963, 1951, 1993, 1962, 1996, 1972, 1953,\n",
       "       1955, 1982, 1956, 1940, 1976, 1946, 1975, 1958, 1964, 1959, 1960,\n",
       "       1967, 1965, 1934, 1944])"
      ]
     },
     "execution_count": 3,
     "metadata": {},
     "output_type": "execute_result"
    }
   ],
   "source": [
    "df['yr_renovated'].unique()"
   ]
  },
  {
   "cell_type": "code",
   "execution_count": 4,
   "id": "8c1c3ccc",
   "metadata": {},
   "outputs": [
    {
     "data": {
      "text/html": [
       "<div>\n",
       "<style scoped>\n",
       "    .dataframe tbody tr th:only-of-type {\n",
       "        vertical-align: middle;\n",
       "    }\n",
       "\n",
       "    .dataframe tbody tr th {\n",
       "        vertical-align: top;\n",
       "    }\n",
       "\n",
       "    .dataframe thead th {\n",
       "        text-align: right;\n",
       "    }\n",
       "</style>\n",
       "<table border=\"1\" class=\"dataframe\">\n",
       "  <thead>\n",
       "    <tr style=\"text-align: right;\">\n",
       "      <th></th>\n",
       "      <th>id</th>\n",
       "      <th>date</th>\n",
       "      <th>price</th>\n",
       "      <th>bedrooms</th>\n",
       "      <th>bathrooms</th>\n",
       "      <th>sqft_living</th>\n",
       "      <th>sqft_lot</th>\n",
       "      <th>floors</th>\n",
       "      <th>waterfront</th>\n",
       "      <th>view</th>\n",
       "      <th>...</th>\n",
       "      <th>grade</th>\n",
       "      <th>sqft_above</th>\n",
       "      <th>sqft_basement</th>\n",
       "      <th>yr_built</th>\n",
       "      <th>yr_renovated</th>\n",
       "      <th>zipcode</th>\n",
       "      <th>lat</th>\n",
       "      <th>long</th>\n",
       "      <th>sqft_living15</th>\n",
       "      <th>sqft_lot15</th>\n",
       "    </tr>\n",
       "  </thead>\n",
       "  <tbody>\n",
       "    <tr>\n",
       "      <th>19740</th>\n",
       "      <td>3630240140</td>\n",
       "      <td>20150123T000000</td>\n",
       "      <td>585000.0</td>\n",
       "      <td>4</td>\n",
       "      <td>3.0</td>\n",
       "      <td>2110</td>\n",
       "      <td>1286</td>\n",
       "      <td>2.0</td>\n",
       "      <td>0</td>\n",
       "      <td>0</td>\n",
       "      <td>...</td>\n",
       "      <td>9</td>\n",
       "      <td>1710</td>\n",
       "      <td>400</td>\n",
       "      <td>2007</td>\n",
       "      <td>0</td>\n",
       "      <td>98029</td>\n",
       "      <td>47.5444</td>\n",
       "      <td>-122.014</td>\n",
       "      <td>2000</td>\n",
       "      <td>1286</td>\n",
       "    </tr>\n",
       "  </tbody>\n",
       "</table>\n",
       "<p>1 rows × 21 columns</p>\n",
       "</div>"
      ],
      "text/plain": [
       "               id             date     price  bedrooms  bathrooms  \\\n",
       "19740  3630240140  20150123T000000  585000.0         4        3.0   \n",
       "\n",
       "       sqft_living  sqft_lot  floors  waterfront  view  ...  grade  \\\n",
       "19740         2110      1286     2.0           0     0  ...      9   \n",
       "\n",
       "       sqft_above  sqft_basement  yr_built  yr_renovated  zipcode      lat  \\\n",
       "19740        1710            400      2007             0    98029  47.5444   \n",
       "\n",
       "          long  sqft_living15  sqft_lot15  \n",
       "19740 -122.014           2000        1286  \n",
       "\n",
       "[1 rows x 21 columns]"
      ]
     },
     "execution_count": 4,
     "metadata": {},
     "output_type": "execute_result"
    }
   ],
   "source": [
    "df.sample()"
   ]
  },
  {
   "cell_type": "code",
   "execution_count": 5,
   "id": "28e138f3",
   "metadata": {},
   "outputs": [],
   "source": [
    "df['nivel'] = df['price'].apply(lambda x: 0 if x< 321950 else 1 if (x>= 321950) & (x< 450000) else \n",
    "                                2 if (x>= 450000) & (x<645000) else 3)\n",
    "\n"
   ]
  },
  {
   "cell_type": "code",
   "execution_count": 6,
   "id": "4a568c29",
   "metadata": {},
   "outputs": [
    {
     "data": {
      "text/html": [
       "<div>\n",
       "<style scoped>\n",
       "    .dataframe tbody tr th:only-of-type {\n",
       "        vertical-align: middle;\n",
       "    }\n",
       "\n",
       "    .dataframe tbody tr th {\n",
       "        vertical-align: top;\n",
       "    }\n",
       "\n",
       "    .dataframe thead th {\n",
       "        text-align: right;\n",
       "    }\n",
       "</style>\n",
       "<table border=\"1\" class=\"dataframe\">\n",
       "  <thead>\n",
       "    <tr style=\"text-align: right;\">\n",
       "      <th></th>\n",
       "      <th>price</th>\n",
       "    </tr>\n",
       "  </thead>\n",
       "  <tbody>\n",
       "    <tr>\n",
       "      <th>0</th>\n",
       "      <td>251544.621507</td>\n",
       "    </tr>\n",
       "    <tr>\n",
       "      <th>1</th>\n",
       "      <td>383585.205332</td>\n",
       "    </tr>\n",
       "    <tr>\n",
       "      <th>2</th>\n",
       "      <td>536164.422840</td>\n",
       "    </tr>\n",
       "    <tr>\n",
       "      <th>3</th>\n",
       "      <td>985008.983189</td>\n",
       "    </tr>\n",
       "  </tbody>\n",
       "</table>\n",
       "</div>"
      ],
      "text/plain": [
       "           price\n",
       "0  251544.621507\n",
       "1  383585.205332\n",
       "2  536164.422840\n",
       "3  985008.983189"
      ]
     },
     "execution_count": 6,
     "metadata": {},
     "output_type": "execute_result"
    }
   ],
   "source": [
    "df[['nivel','price']].groupby('nivel').mean().reset_index(drop=True)"
   ]
  },
  {
   "cell_type": "markdown",
   "id": "0c85d4da",
   "metadata": {},
   "source": [
    "Qual a média do tamanho da sala de estar dos imóveis por “Size” ?\n",
    "Size 0 -> Tamanho entre 0 e 1427 sqft\n",
    "Size 1 -> Tamanho entre 1427 e 1910 sqft\n",
    "Size 2 -> Tamanho entre 1910 e 2550 sqft\n",
    "Size 3 -> Tamanho acima de 2550 sqft"
   ]
  },
  {
   "cell_type": "code",
   "execution_count": 7,
   "id": "517a599f",
   "metadata": {},
   "outputs": [
    {
     "data": {
      "text/html": [
       "<div>\n",
       "<style scoped>\n",
       "    .dataframe tbody tr th:only-of-type {\n",
       "        vertical-align: middle;\n",
       "    }\n",
       "\n",
       "    .dataframe tbody tr th {\n",
       "        vertical-align: top;\n",
       "    }\n",
       "\n",
       "    .dataframe thead th {\n",
       "        text-align: right;\n",
       "    }\n",
       "</style>\n",
       "<table border=\"1\" class=\"dataframe\">\n",
       "  <thead>\n",
       "    <tr style=\"text-align: right;\">\n",
       "      <th></th>\n",
       "      <th>sqft_living</th>\n",
       "    </tr>\n",
       "  </thead>\n",
       "  <tbody>\n",
       "    <tr>\n",
       "      <th>0</th>\n",
       "      <td>1123.832531</td>\n",
       "    </tr>\n",
       "    <tr>\n",
       "      <th>1</th>\n",
       "      <td>1664.962334</td>\n",
       "    </tr>\n",
       "    <tr>\n",
       "      <th>2</th>\n",
       "      <td>2211.792786</td>\n",
       "    </tr>\n",
       "    <tr>\n",
       "      <th>3</th>\n",
       "      <td>3329.607016</td>\n",
       "    </tr>\n",
       "  </tbody>\n",
       "</table>\n",
       "</div>"
      ],
      "text/plain": [
       "   sqft_living\n",
       "0  1123.832531\n",
       "1  1664.962334\n",
       "2  2211.792786\n",
       "3  3329.607016"
      ]
     },
     "execution_count": 7,
     "metadata": {},
     "output_type": "execute_result"
    }
   ],
   "source": [
    "df['size'] = df['sqft_living'].apply(lambda x: 0 if x<= 1427 else 1 if (x> 1427) & (x<= 1910) else\n",
    "                                    2 if (x> 1910) & (x<= 2550) else 3)\n",
    "\n",
    "\n",
    "df[['size','sqft_living']].groupby('size').mean().reset_index(drop=True)"
   ]
  },
  {
   "cell_type": "markdown",
   "id": "f8780624",
   "metadata": {},
   "source": [
    "Adicione as seguinte informações ao conjunto de dados original:\n",
    "Place ID: Identificação da localização\n",
    "OSM Type: Open Street Map type\n",
    "Country: Nome do País\n",
    "Country Code: Código do País"
   ]
  },
  {
   "cell_type": "code",
   "execution_count": 3,
   "id": "2c94bbe5",
   "metadata": {},
   "outputs": [],
   "source": [
    "df = pd.read_csv('./kc_house_data.csv')\n",
    "\n",
    "#achar uma bibiotca que ache essas informações: No caso o geopy\n",
    "from geopy.geocoders import Nominatim\n",
    "\n",
    "#inicializando a requisição API\n",
    "\n",
    "geolocator = Nominatim(user_agent= 'geoapiExercises') #porteiro\n",
    "\n",
    "\n",
    "import time #library to control the time\n",
    "from multiprocessing import Pool #pacote para fazer várias tarefas ao mesmo tempo.(pool criar as tarefas)\n",
    "\n",
    "\n",
    "df['query']= df[['lat','long']].apply(lambda x: str(x['lat']) + ',' + str(x['long']), axis=1)\n",
    "\n",
    "\n",
    "\n"
   ]
  },
  {
   "cell_type": "code",
   "execution_count": 42,
   "id": "cbea994f",
   "metadata": {},
   "outputs": [
    {
     "ename": "SyntaxError",
     "evalue": "unexpected EOF while parsing (1228791383.py, line 16)",
     "output_type": "error",
     "traceback": [
      "\u001b[0;36m  File \u001b[0;32m\"/tmp/ipykernel_2643/1228791383.py\"\u001b[0;36m, line \u001b[0;32m16\u001b[0m\n\u001b[0;31m    \u001b[0m\n\u001b[0m    ^\u001b[0m\n\u001b[0;31mSyntaxError\u001b[0m\u001b[0;31m:\u001b[0m unexpected EOF while parsing\n"
     ]
    }
   ],
   "source": [
    "def get_data (x):\n",
    "    \n",
    "    index,row = x\n",
    "    time.sleep (1)\n",
    "    \n",
    "    #chamada api\n",
    "    response = geolocator.reverse(raw['query'])\n",
    "    \n",
    "    try:\n",
    "        place_id= response.raw['place_id']\n",
    "        osm_type= response.raw['osm_type']\n",
    "        country= response.raw['address']['country']\n",
    "        country_code= response.raw['address']['country_code']\n",
    "        \n",
    "        return place_id,osm_type,country,country_code    "
   ]
  },
  {
   "cell_type": "code",
   "execution_count": 9,
   "id": "f0011e7b",
   "metadata": {},
   "outputs": [],
   "source": [
    "df = pd.read_csv('./kc_house_data.csv')\n",
    "\n",
    "#achar uma bibiotca que ache essas informações: No caso o geopy\n",
    "from geopy.geocoders import Nominatim\n",
    "\n",
    "#inicializando a requisição API\n",
    "\n",
    "geolocator = Nominatim(user_agent= 'geoapiExercises') #porteiro\n",
    "\n",
    "\n",
    "import time #library to control the time\n",
    "from multiprocessing import Pool #pacote para fazer várias tarefas ao mesmo tempo.(pool criar as tarefas)\n",
    "\n",
    "\n",
    "df['query']= df[['lat','long']].apply(lambda x: str(x['lat']) + ',' + str(x['long']), axis=1)\n",
    "\n",
    "\n",
    "\n"
   ]
  },
  {
   "cell_type": "raw",
   "id": "de20eb11",
   "metadata": {},
   "source": [
    "import defs\n",
    "\n",
    "df1= df[['id','query']].head()\n",
    "\n",
    "p= Pool (3)\n",
    "\n",
    "start = time.process_time()\n",
    "\n",
    "df1[['place_id','osm_type','country_code','country']]= p.map(defs.get_data, df1.iterrows())\n",
    "\n",
    "end= time.process_time()\n",
    "\n",
    "print('Time Elapsed {}', end-start)\n"
   ]
  },
  {
   "cell_type": "code",
   "execution_count": 8,
   "id": "ef68d7f6",
   "metadata": {},
   "outputs": [
    {
     "data": {
      "text/html": [
       "<div>\n",
       "<style scoped>\n",
       "    .dataframe tbody tr th:only-of-type {\n",
       "        vertical-align: middle;\n",
       "    }\n",
       "\n",
       "    .dataframe tbody tr th {\n",
       "        vertical-align: top;\n",
       "    }\n",
       "\n",
       "    .dataframe thead th {\n",
       "        text-align: right;\n",
       "    }\n",
       "</style>\n",
       "<table border=\"1\" class=\"dataframe\">\n",
       "  <thead>\n",
       "    <tr style=\"text-align: right;\">\n",
       "      <th></th>\n",
       "      <th>id</th>\n",
       "      <th>date</th>\n",
       "      <th>price</th>\n",
       "      <th>bedrooms</th>\n",
       "      <th>bathrooms</th>\n",
       "      <th>sqft_living</th>\n",
       "      <th>sqft_lot</th>\n",
       "      <th>floors</th>\n",
       "      <th>waterfront</th>\n",
       "      <th>view</th>\n",
       "      <th>...</th>\n",
       "      <th>sqft_above</th>\n",
       "      <th>sqft_basement</th>\n",
       "      <th>yr_built</th>\n",
       "      <th>yr_renovated</th>\n",
       "      <th>zipcode</th>\n",
       "      <th>lat</th>\n",
       "      <th>long</th>\n",
       "      <th>sqft_living15</th>\n",
       "      <th>sqft_lot15</th>\n",
       "      <th>query</th>\n",
       "    </tr>\n",
       "  </thead>\n",
       "  <tbody>\n",
       "    <tr>\n",
       "      <th>0</th>\n",
       "      <td>7129300520</td>\n",
       "      <td>20141013T000000</td>\n",
       "      <td>221900.0</td>\n",
       "      <td>3</td>\n",
       "      <td>1.00</td>\n",
       "      <td>1180</td>\n",
       "      <td>5650</td>\n",
       "      <td>1.0</td>\n",
       "      <td>0</td>\n",
       "      <td>0</td>\n",
       "      <td>...</td>\n",
       "      <td>1180</td>\n",
       "      <td>0</td>\n",
       "      <td>1955</td>\n",
       "      <td>0</td>\n",
       "      <td>98178</td>\n",
       "      <td>47.5112</td>\n",
       "      <td>-122.257</td>\n",
       "      <td>1340</td>\n",
       "      <td>5650</td>\n",
       "      <td>47.5112,-122.257</td>\n",
       "    </tr>\n",
       "    <tr>\n",
       "      <th>1</th>\n",
       "      <td>6414100192</td>\n",
       "      <td>20141209T000000</td>\n",
       "      <td>538000.0</td>\n",
       "      <td>3</td>\n",
       "      <td>2.25</td>\n",
       "      <td>2570</td>\n",
       "      <td>7242</td>\n",
       "      <td>2.0</td>\n",
       "      <td>0</td>\n",
       "      <td>0</td>\n",
       "      <td>...</td>\n",
       "      <td>2170</td>\n",
       "      <td>400</td>\n",
       "      <td>1951</td>\n",
       "      <td>1991</td>\n",
       "      <td>98125</td>\n",
       "      <td>47.7210</td>\n",
       "      <td>-122.319</td>\n",
       "      <td>1690</td>\n",
       "      <td>7639</td>\n",
       "      <td>47.721,-122.319</td>\n",
       "    </tr>\n",
       "    <tr>\n",
       "      <th>2</th>\n",
       "      <td>5631500400</td>\n",
       "      <td>20150225T000000</td>\n",
       "      <td>180000.0</td>\n",
       "      <td>2</td>\n",
       "      <td>1.00</td>\n",
       "      <td>770</td>\n",
       "      <td>10000</td>\n",
       "      <td>1.0</td>\n",
       "      <td>0</td>\n",
       "      <td>0</td>\n",
       "      <td>...</td>\n",
       "      <td>770</td>\n",
       "      <td>0</td>\n",
       "      <td>1933</td>\n",
       "      <td>0</td>\n",
       "      <td>98028</td>\n",
       "      <td>47.7379</td>\n",
       "      <td>-122.233</td>\n",
       "      <td>2720</td>\n",
       "      <td>8062</td>\n",
       "      <td>47.7379,-122.233</td>\n",
       "    </tr>\n",
       "    <tr>\n",
       "      <th>3</th>\n",
       "      <td>2487200875</td>\n",
       "      <td>20141209T000000</td>\n",
       "      <td>604000.0</td>\n",
       "      <td>4</td>\n",
       "      <td>3.00</td>\n",
       "      <td>1960</td>\n",
       "      <td>5000</td>\n",
       "      <td>1.0</td>\n",
       "      <td>0</td>\n",
       "      <td>0</td>\n",
       "      <td>...</td>\n",
       "      <td>1050</td>\n",
       "      <td>910</td>\n",
       "      <td>1965</td>\n",
       "      <td>0</td>\n",
       "      <td>98136</td>\n",
       "      <td>47.5208</td>\n",
       "      <td>-122.393</td>\n",
       "      <td>1360</td>\n",
       "      <td>5000</td>\n",
       "      <td>47.5208,-122.393</td>\n",
       "    </tr>\n",
       "    <tr>\n",
       "      <th>4</th>\n",
       "      <td>1954400510</td>\n",
       "      <td>20150218T000000</td>\n",
       "      <td>510000.0</td>\n",
       "      <td>3</td>\n",
       "      <td>2.00</td>\n",
       "      <td>1680</td>\n",
       "      <td>8080</td>\n",
       "      <td>1.0</td>\n",
       "      <td>0</td>\n",
       "      <td>0</td>\n",
       "      <td>...</td>\n",
       "      <td>1680</td>\n",
       "      <td>0</td>\n",
       "      <td>1987</td>\n",
       "      <td>0</td>\n",
       "      <td>98074</td>\n",
       "      <td>47.6168</td>\n",
       "      <td>-122.045</td>\n",
       "      <td>1800</td>\n",
       "      <td>7503</td>\n",
       "      <td>47.6168,-122.045</td>\n",
       "    </tr>\n",
       "  </tbody>\n",
       "</table>\n",
       "<p>5 rows × 22 columns</p>\n",
       "</div>"
      ],
      "text/plain": [
       "           id             date     price  bedrooms  bathrooms  sqft_living  \\\n",
       "0  7129300520  20141013T000000  221900.0         3       1.00         1180   \n",
       "1  6414100192  20141209T000000  538000.0         3       2.25         2570   \n",
       "2  5631500400  20150225T000000  180000.0         2       1.00          770   \n",
       "3  2487200875  20141209T000000  604000.0         4       3.00         1960   \n",
       "4  1954400510  20150218T000000  510000.0         3       2.00         1680   \n",
       "\n",
       "   sqft_lot  floors  waterfront  view  ...  sqft_above  sqft_basement  \\\n",
       "0      5650     1.0           0     0  ...        1180              0   \n",
       "1      7242     2.0           0     0  ...        2170            400   \n",
       "2     10000     1.0           0     0  ...         770              0   \n",
       "3      5000     1.0           0     0  ...        1050            910   \n",
       "4      8080     1.0           0     0  ...        1680              0   \n",
       "\n",
       "   yr_built  yr_renovated  zipcode      lat     long  sqft_living15  \\\n",
       "0      1955             0    98178  47.5112 -122.257           1340   \n",
       "1      1951          1991    98125  47.7210 -122.319           1690   \n",
       "2      1933             0    98028  47.7379 -122.233           2720   \n",
       "3      1965             0    98136  47.5208 -122.393           1360   \n",
       "4      1987             0    98074  47.6168 -122.045           1800   \n",
       "\n",
       "   sqft_lot15             query  \n",
       "0        5650  47.5112,-122.257  \n",
       "1        7639   47.721,-122.319  \n",
       "2        8062  47.7379,-122.233  \n",
       "3        5000  47.5208,-122.393  \n",
       "4        7503  47.6168,-122.045  \n",
       "\n",
       "[5 rows x 22 columns]"
      ]
     },
     "execution_count": 8,
     "metadata": {},
     "output_type": "execute_result"
    }
   ],
   "source": [
    "df.head()"
   ]
  },
  {
   "cell_type": "markdown",
   "id": "a29a0cb2",
   "metadata": {},
   "source": [
    "4. Adicione os seguinte filtros no Mapa: \n",
    "    Tamanho mínimo da área da sala de estar.\n",
    "    Número mínimo de banheiros.\n",
    "    Valor Máximo do Preço.\n",
    "    Tamanho máximo da área do porão.\n",
    "    Filtro das Condições do Imóvel.\n",
    "    Filtro por Ano de Construção\n"
   ]
  },
  {
   "cell_type": "code",
   "execution_count": 28,
   "id": "dedb3ceb",
   "metadata": {},
   "outputs": [
    {
     "data": {
      "text/html": [
       "<div>\n",
       "<style scoped>\n",
       "    .dataframe tbody tr th:only-of-type {\n",
       "        vertical-align: middle;\n",
       "    }\n",
       "\n",
       "    .dataframe tbody tr th {\n",
       "        vertical-align: top;\n",
       "    }\n",
       "\n",
       "    .dataframe thead th {\n",
       "        text-align: right;\n",
       "    }\n",
       "</style>\n",
       "<table border=\"1\" class=\"dataframe\">\n",
       "  <thead>\n",
       "    <tr style=\"text-align: right;\">\n",
       "      <th></th>\n",
       "      <th>id</th>\n",
       "      <th>date</th>\n",
       "      <th>price</th>\n",
       "      <th>bedrooms</th>\n",
       "      <th>bathrooms</th>\n",
       "      <th>sqft_living</th>\n",
       "      <th>sqft_lot</th>\n",
       "      <th>floors</th>\n",
       "      <th>waterfront</th>\n",
       "      <th>view</th>\n",
       "      <th>...</th>\n",
       "      <th>grade</th>\n",
       "      <th>sqft_above</th>\n",
       "      <th>sqft_basement</th>\n",
       "      <th>yr_built</th>\n",
       "      <th>yr_renovated</th>\n",
       "      <th>zipcode</th>\n",
       "      <th>lat</th>\n",
       "      <th>long</th>\n",
       "      <th>sqft_living15</th>\n",
       "      <th>sqft_lot15</th>\n",
       "    </tr>\n",
       "  </thead>\n",
       "  <tbody>\n",
       "    <tr>\n",
       "      <th>13420</th>\n",
       "      <td>7236300065</td>\n",
       "      <td>20140718T000000</td>\n",
       "      <td>275000.0</td>\n",
       "      <td>3</td>\n",
       "      <td>1.5</td>\n",
       "      <td>1320</td>\n",
       "      <td>7695</td>\n",
       "      <td>1.0</td>\n",
       "      <td>0</td>\n",
       "      <td>0</td>\n",
       "      <td>...</td>\n",
       "      <td>7</td>\n",
       "      <td>1320</td>\n",
       "      <td>0</td>\n",
       "      <td>1959</td>\n",
       "      <td>0</td>\n",
       "      <td>98056</td>\n",
       "      <td>47.4908</td>\n",
       "      <td>-122.181</td>\n",
       "      <td>1370</td>\n",
       "      <td>8295</td>\n",
       "    </tr>\n",
       "  </tbody>\n",
       "</table>\n",
       "<p>1 rows × 21 columns</p>\n",
       "</div>"
      ],
      "text/plain": [
       "               id             date     price  bedrooms  bathrooms  \\\n",
       "13420  7236300065  20140718T000000  275000.0         3        1.5   \n",
       "\n",
       "       sqft_living  sqft_lot  floors  waterfront  view  ...  grade  \\\n",
       "13420         1320      7695     1.0           0     0  ...      7   \n",
       "\n",
       "       sqft_above  sqft_basement  yr_built  yr_renovated  zipcode      lat  \\\n",
       "13420        1320              0      1959             0    98056  47.4908   \n",
       "\n",
       "          long  sqft_living15  sqft_lot15  \n",
       "13420 -122.181           1370        8295  \n",
       "\n",
       "[1 rows x 21 columns]"
      ]
     },
     "execution_count": 28,
     "metadata": {},
     "output_type": "execute_result"
    }
   ],
   "source": [
    "df.sample()"
   ]
  },
  {
   "cell_type": "code",
   "execution_count": 71,
   "id": "4a289d36",
   "metadata": {},
   "outputs": [
    {
     "data": {
      "text/plain": [
       "0       2014-10-13\n",
       "1       2014-12-09\n",
       "2       2015-02-25\n",
       "3       2014-12-09\n",
       "4       2015-02-18\n",
       "           ...    \n",
       "21608   2014-05-21\n",
       "21609   2015-02-23\n",
       "21610   2014-06-23\n",
       "21611   2015-01-16\n",
       "21612   2014-10-15\n",
       "Name: date, Length: 21613, dtype: datetime64[ns]"
      ]
     },
     "execution_count": 71,
     "metadata": {},
     "output_type": "execute_result"
    }
   ],
   "source": [
    "#carregando os dados\n",
    "df= pd.read_csv('./kc_house_data.csv')\n",
    "\n",
    "\n",
    "#conventendo os dados:\n",
    "\n",
    "df['date']= pd.to_datetime(df['date'])\n",
    "\n",
    "df['date']"
   ]
  },
  {
   "cell_type": "code",
   "execution_count": 3,
   "id": "3c44b9b9",
   "metadata": {},
   "outputs": [
    {
     "data": {
      "text/plain": [
       "Timestamp('2015-01-01 00:00:00')"
      ]
     },
     "execution_count": 3,
     "metadata": {},
     "output_type": "execute_result"
    }
   ],
   "source": [
    "df['yr_built']= pd.to_datetime(df['yr_built'],format= '%Y')\n",
    "\n",
    "df['yr_built'].max()"
   ]
  },
  {
   "cell_type": "code",
   "execution_count": 9,
   "id": "d9b50da0",
   "metadata": {},
   "outputs": [
    {
     "data": {
      "application/vnd.jupyter.widget-view+json": {
       "model_id": "4eb79e372f7f44bbb0c76e4082f23f2e",
       "version_major": 2,
       "version_minor": 0
      },
      "text/plain": [
       "FloatSlider(value=7540.0, continuous_update=False, description='Test:', max=13540.0, min=290.0, readout_format…"
      ]
     },
     "metadata": {},
     "output_type": "display_data"
    }
   ],
   "source": [
    "sala= widgets.FloatSlider(\n",
    "        value=7540,\n",
    "        min=290,\n",
    "        max=13540,\n",
    "        step=10,\n",
    "        description='Test:',\n",
    "        disabled=False,\n",
    "        continuous_update=False,\n",
    "        orientation='horizontal',\n",
    "        readout=True,\n",
    "        readout_format='.1f',)\n",
    "sala"
   ]
  },
  {
   "cell_type": "code",
   "execution_count": 5,
   "id": "cb5ab1f4",
   "metadata": {},
   "outputs": [
    {
     "data": {
      "application/vnd.jupyter.widget-view+json": {
       "model_id": "9023040993404fb6b4d20dc675de4c84",
       "version_major": 2,
       "version_minor": 0
      },
      "text/plain": [
       "BoundedIntText(value=754525, description='Preços:', max=7700000, min=75000, step=500)"
      ]
     },
     "metadata": {},
     "output_type": "display_data"
    }
   ],
   "source": [
    "precos= widgets.BoundedIntText(\n",
    "        value=754525,\n",
    "        min=75000,\n",
    "        max=7700000,\n",
    "        step=500,\n",
    "        description='Preços:',\n",
    "        disabled=False)\n",
    "precos"
   ]
  },
  {
   "cell_type": "code",
   "execution_count": 6,
   "id": "bf706164",
   "metadata": {},
   "outputs": [
    {
     "data": {
      "application/vnd.jupyter.widget-view+json": {
       "model_id": "2dd10710950c46bfb240d874dcb4ea5c",
       "version_major": 2,
       "version_minor": 0
      },
      "text/plain": [
       "IntSlider(value=4, continuous_update=False, description='Banheiros:', max=8)"
      ]
     },
     "metadata": {},
     "output_type": "display_data"
    }
   ],
   "source": [
    "banheiros= widgets.IntSlider(\n",
    "        value=4,\n",
    "        min=0,\n",
    "        max=8,\n",
    "        step=1,\n",
    "        description='Banheiros:',\n",
    "        disabled=False,\n",
    "        continuous_update=False,\n",
    "        orientation='horizontal',\n",
    "        readout=True,\n",
    "        readout_format='d')\n",
    "\n",
    "banheiros"
   ]
  },
  {
   "cell_type": "code",
   "execution_count": 10,
   "id": "3cd96350",
   "metadata": {},
   "outputs": [
    {
     "data": {
      "application/vnd.jupyter.widget-view+json": {
       "model_id": "0f2e16eba42f40a384316e2147c20446",
       "version_major": 2,
       "version_minor": 0
      },
      "text/plain": [
       "IntSlider(value=1965, continuous_update=False, description='Test:', max=2015, min=1900, orientation='vertical'…"
      ]
     },
     "metadata": {},
     "output_type": "display_data"
    }
   ],
   "source": [
    "construido= widgets.IntSlider(\n",
    "            value=1965,\n",
    "            min=1900,\n",
    "            max=2015,\n",
    "            step=1,\n",
    "            description='Test:',\n",
    "            disabled=False,\n",
    "            continuous_update=False,\n",
    "            orientation='vertical',\n",
    "            readout=True,\n",
    "            readout_format='d')\n",
    "construido"
   ]
  },
  {
   "cell_type": "code",
   "execution_count": 175,
   "id": "17e4d3d3",
   "metadata": {},
   "outputs": [
    {
     "data": {
      "application/vnd.jupyter.widget-view+json": {
       "model_id": "1c0ae49370f34a46a2247fad9a8eced3",
       "version_major": 2,
       "version_minor": 0
      },
      "text/plain": [
       "Dropdown(description='Number:', index=2, options=(('One', 1), ('Two', 2), ('Three', 3), ('Four', 4), ('Five', …"
      ]
     },
     "metadata": {},
     "output_type": "display_data"
    }
   ],
   "source": [
    "condicao= widgets.Dropdown(\n",
    "        options=[('One',1), ('Two', 2), ('Three', 3),('Four', 4),('Five', 5)],\n",
    "        value=3,\n",
    "        description='Number:',)\n",
    "condicao"
   ]
  },
  {
   "cell_type": "code",
   "execution_count": 2,
   "id": "a89cb6a5",
   "metadata": {},
   "outputs": [],
   "source": [
    "df= pd.read_csv('./kc_house_data.csv')"
   ]
  },
  {
   "cell_type": "markdown",
   "id": "c08e0400",
   "metadata": {},
   "source": [
    "5. Adicione os seguinte filtros no Dashboard:\n",
    "    Filtro por data disponível para compra.\n",
    "    Filtro por ano de renovação.\n",
    "    Filtro se possui vista para a água ou não."
   ]
  },
  {
   "cell_type": "code",
   "execution_count": 3,
   "id": "e5d1d7c4",
   "metadata": {},
   "outputs": [
    {
     "data": {
      "text/plain": [
       "21613"
      ]
     },
     "execution_count": 3,
     "metadata": {},
     "output_type": "execute_result"
    }
   ],
   "source": [
    "df['date'] = pd.to_datetime(df['date']).dt.strftime('%Y-%m-%d')\n",
    "df['ano'] = pd.to_datetime(df['date']).dt.strftime('%Y')\n",
    "df['semana_ano']= pd.to_datetime(df['date']).dt.strftime('%Y-%U')\n",
    "\n",
    "len(df['ano'])"
   ]
  },
  {
   "cell_type": "code",
   "execution_count": 8,
   "id": "9a0146ff",
   "metadata": {},
   "outputs": [],
   "source": [
    "data_disponivel= widgets.SelectionSlider(options= df['date'].sort_values().unique().tolist(),\n",
    "                     values= '2014-12-01',\n",
    "                      description= 'Disponível',\n",
    "                      disable=False,\n",
    "                      continuous_update=False,\n",
    "                     orientation= 'horizontal',\n",
    "                     readout=True)\n",
    "\n",
    "\n",
    "def atualizar_dash(limit,df):\n",
    "    \n",
    "    df = df[df['date']>= limit].copy()\n",
    "    \n",
    "    fig = plt.figure(figsize=(24,12))\n",
    "\n",
    "    spec= gridspec.GridSpec(nrows=2, ncols=2, figure=fig)\n",
    "\n",
    "    ax1= fig.add_subplot(spec[0,:])\n",
    "    ax2= fig.add_subplot(spec[1,0])\n",
    "    ax3= fig.add_subplot(spec[1,1])\n",
    "\n",
    "    anual=  df[['ano','id']].groupby('ano').sum().reset_index()\n",
    "    ax1.bar(anual['ano'],anual['id'])\n",
    "\n",
    "    diario= df[['date','id']].groupby('date').mean().reset_index()\n",
    "    ax2.bar(diario['date'],diario['id'])\n",
    "\n",
    "    ano_semana = df[['semana_ano','id']].groupby('semana_ano').mean().reset_index()\n",
    "    ax3.plot(ano_semana['semana_ano'], ano_semana['semana_ano'])\n",
    "\n",
    "    plt.xticks(rotation=60);\n",
    "\n",
    "\n",
    " \n"
   ]
  },
  {
   "cell_type": "code",
   "execution_count": 9,
   "id": "fdbf920a",
   "metadata": {},
   "outputs": [
    {
     "data": {
      "application/vnd.jupyter.widget-view+json": {
       "model_id": "05bbd33709cb4a4c832f49eb95eb342a",
       "version_major": 2,
       "version_minor": 0
      },
      "text/plain": [
       "interactive(children=(SelectionSlider(continuous_update=False, description='Disponível', options=('2014-05-02'…"
      ]
     },
     "metadata": {},
     "output_type": "display_data"
    }
   ],
   "source": [
    "widgets.interactive(atualizar_dash, df=fixed(df),limit= data_disponivel)"
   ]
  },
  {
   "cell_type": "markdown",
   "id": "f7fb3df6",
   "metadata": {},
   "source": [
    "# Filtro por ano de renovação"
   ]
  },
  {
   "cell_type": "code",
   "execution_count": 49,
   "id": "d5a2d1f5",
   "metadata": {},
   "outputs": [],
   "source": [
    "df['yr_renovated']= df['yr_renovated'].apply(lambda x: pd.to_datetime('1900-01-01', format= '%Y-%m-%d') if 0== x\n",
    "                                            else pd.to_datetime(x, format= '%Y'))\n",
    "\n",
    "r_year= pd.to_datetime(df['yr_renovated']).dt.strftime('%Y')\n",
    "r_week= pd.to_datetime(df['yr_renovated']).dt.strftime('%Y-%U')\n",
    "r_day = pd.to_datetime(df['yr_renovated']).dt.strftime('%Y--%m-%d')\n",
    "\n"
   ]
  },
  {
   "cell_type": "code",
   "execution_count": 51,
   "id": "e115fda9",
   "metadata": {},
   "outputs": [
    {
     "data": {
      "text/plain": [
       "0        1900-00\n",
       "1        1991-00\n",
       "2        1900-00\n",
       "3        1900-00\n",
       "4        1900-00\n",
       "          ...   \n",
       "21608    1900-00\n",
       "21609    1900-00\n",
       "21610    1900-00\n",
       "21611    1900-00\n",
       "21612    1900-00\n",
       "Name: yr_renovated, Length: 21613, dtype: object"
      ]
     },
     "execution_count": 51,
     "metadata": {},
     "output_type": "execute_result"
    }
   ],
   "source": [
    "r_week"
   ]
  },
  {
   "cell_type": "code",
   "execution_count": 43,
   "id": "3c1e5f0a",
   "metadata": {},
   "outputs": [
    {
     "data": {
      "text/plain": [
       "array(['1900', '1991', '2002', '2010', '1999', '1992', '2013', '1994',\n",
       "       '1978', '2005', '2008', '2003', '1984', '1954', '2014', '2011',\n",
       "       '1974', '1983', '1945', '1990', '1988', '1957', '1977', '1981',\n",
       "       '1995', '2000', '1998', '1970', '1989', '2004', '1986', '2009',\n",
       "       '2007', '1987', '1973', '2006', '1985', '2001', '1980', '1971',\n",
       "       '1979', '1997', '1950', '1969', '1948', '2015', '1968', '2012',\n",
       "       '1963', '1951', '1993', '1962', '1996', '1972', '1953', '1955',\n",
       "       '1982', '1956', '1940', '1976', '1946', '1975', '1958', '1964',\n",
       "       '1959', '1960', '1967', '1965', '1934', '1944'], dtype=object)"
      ]
     },
     "execution_count": 43,
     "metadata": {},
     "output_type": "execute_result"
    }
   ],
   "source": [
    "\n",
    "\n"
   ]
  },
  {
   "cell_type": "code",
   "execution_count": 73,
   "id": "939fccf1",
   "metadata": {},
   "outputs": [
    {
     "data": {
      "application/vnd.jupyter.widget-view+json": {
       "model_id": "c88bead438dd46a6822842a2c417fd52",
       "version_major": 2,
       "version_minor": 0
      },
      "text/plain": [
       "SelectionSlider(continuous_update=False, description='Data de Renovação', options=('1970',), orientation='vert…"
      ]
     },
     "metadata": {},
     "output_type": "display_data"
    }
   ],
   "source": [
    "#filtro de renovacao\n",
    "df['foi_renovado'] = pd.to_datetime(df['yr_renovated']).dt.strftime('%Y')\n",
    "\n",
    "\n",
    "#construindo o botão\n",
    "renovado= widgets.SelectionSlider(options= df['foi_renovado'].unique().tolist(),\n",
    "                             values= '2000-01-01',\n",
    "                              description= 'Data de Renovação',\n",
    "                              disable=False,\n",
    "                              continuous_update=False,\n",
    "                             orientation= 'vertical',\n",
    "                             readout=True)\n",
    "\n",
    "renovado"
   ]
  },
  {
   "cell_type": "code",
   "execution_count": 66,
   "id": "0e5a81fc",
   "metadata": {},
   "outputs": [
    {
     "data": {
      "text/plain": [
       "0        1900-00\n",
       "1        1991-00\n",
       "2        1900-00\n",
       "3        1900-00\n",
       "4        1900-00\n",
       "          ...   \n",
       "21608    1900-00\n",
       "21609    1900-00\n",
       "21610    1900-00\n",
       "21611    1900-00\n",
       "21612    1900-00\n",
       "Name: r_week, Length: 21613, dtype: object"
      ]
     },
     "execution_count": 66,
     "metadata": {},
     "output_type": "execute_result"
    }
   ],
   "source": []
  },
  {
   "cell_type": "code",
   "execution_count": 162,
   "id": "f1f4b48d",
   "metadata": {},
   "outputs": [],
   "source": [
    "#df['yr_renovated']= df['yr_renovated'].apply(lambda x: pd.to_datetime('1900-01-01', format= '%Y-%m-%d') if 0== x\n",
    "                                            #else pd.to_datetime(x, format= '%Y'))\n",
    "df= pd.read_csv('./kc_house_data.csv')\n",
    "\n",
    "#filtro\n",
    "df['foi_renovado']= df['yr_renovated'].apply(lambda x: pd.to_datetime('1900', format= '%Y') \n",
    "                                             if 0== x else pd.to_datetime(x, format= '%Y'))\n",
    "\n",
    "df['r_year']= pd.to_datetime(df['yr_renovated'])\n",
    "#df['r_week']= pd.to_datetime(df['yr_renovated']).dt.strftime('%Y-%U')\n",
    "#df['r_day']= pd.to_datetime(df['yr_renovated']).dt.strftime('%Y--%m-%d')\n",
    "\n",
    "#construindo o botão\n",
    "renovado= widgets.SelectionSlider(options= pd.to_datetime(df['foi_renovado'].sort_values().unique().tolist()),\n",
    "                             values= '2000-01-01',\n",
    "                              description= 'Data de Renovação',\n",
    "                              disable=False,\n",
    "                              continuous_update=False,\n",
    "                             orientation= 'vertical',\n",
    "                             readout=True)\n",
    "\n",
    "\n",
    "#função de atualizar dash\n",
    "def update_renovacao(reformado,df):\n",
    "    \n",
    "    #filtro\n",
    "    df = df[df['foi_renovado']>= reformado].copy() \n",
    "    \n",
    "    #criando dashboard:\n",
    "    fig = plt.figure(figsize=(24,12))\n",
    "\n",
    "    spec= gridspec.GridSpec(nrows=2, ncols=2, figure=fig)\n",
    "\n",
    "\n",
    "    ax1= fig.add_subplot(spec[0,:])\n",
    "    #ax2= fig.add_subplot(spec[1,0])\n",
    "    #ax3= fig.add_subplot(spec[1,1])\n",
    "\n",
    "\n",
    "    ano_renovacao= df[['r_year','id']].groupby('r_year').sum().reset_index()\n",
    "    ax1.bar(ano_renovacao['r_year'],ano_renovacao['id'])\n",
    "\n",
    "    #dia_renovacao= df[['r_day','id']].groupby('r_day').mean().reset_index()\n",
    "    #ax2.bar(dia_renovacao['r_day'],dia_renovacao['id'])\n",
    "\n",
    "    #semana_renovacao= df[['r_week','id']].groupby('r_week')\n",
    "    #ax3.bar(semana_renovacao['r_week'],semana_renovacao['id'])\n",
    "\n"
   ]
  },
  {
   "cell_type": "code",
   "execution_count": 163,
   "id": "ef040a58",
   "metadata": {},
   "outputs": [
    {
     "data": {
      "text/plain": [
       "0       1900-01-01\n",
       "1       1991-01-01\n",
       "2       1900-01-01\n",
       "3       1900-01-01\n",
       "4       1900-01-01\n",
       "           ...    \n",
       "21608   1900-01-01\n",
       "21609   1900-01-01\n",
       "21610   1900-01-01\n",
       "21611   1900-01-01\n",
       "21612   1900-01-01\n",
       "Name: foi_renovado, Length: 21613, dtype: datetime64[ns]"
      ]
     },
     "execution_count": 163,
     "metadata": {},
     "output_type": "execute_result"
    }
   ],
   "source": [
    "df['foi_renovado']"
   ]
  },
  {
   "cell_type": "code",
   "execution_count": 164,
   "id": "7ab05305",
   "metadata": {},
   "outputs": [
    {
     "data": {
      "application/vnd.jupyter.widget-view+json": {
       "model_id": "808ee66ae86344369f0eea520902823e",
       "version_major": 2,
       "version_minor": 0
      },
      "text/plain": [
       "interactive(children=(SelectionSlider(continuous_update=False, description='Data de Renovação', options=(Times…"
      ]
     },
     "metadata": {},
     "output_type": "display_data"
    }
   ],
   "source": [
    "widgets.interactive(update_renovacao,df=fixed(df), reformado=renovado)"
   ]
  },
  {
   "cell_type": "markdown",
   "id": "dc99c1e1",
   "metadata": {},
   "source": [
    "# Filtro se possui vista para a água ou não."
   ]
  },
  {
   "cell_type": "code",
   "execution_count": 2,
   "id": "d117a364",
   "metadata": {},
   "outputs": [
    {
     "data": {
      "text/html": [
       "<div>\n",
       "<style scoped>\n",
       "    .dataframe tbody tr th:only-of-type {\n",
       "        vertical-align: middle;\n",
       "    }\n",
       "\n",
       "    .dataframe tbody tr th {\n",
       "        vertical-align: top;\n",
       "    }\n",
       "\n",
       "    .dataframe thead th {\n",
       "        text-align: right;\n",
       "    }\n",
       "</style>\n",
       "<table border=\"1\" class=\"dataframe\">\n",
       "  <thead>\n",
       "    <tr style=\"text-align: right;\">\n",
       "      <th></th>\n",
       "      <th>id</th>\n",
       "      <th>date</th>\n",
       "      <th>price</th>\n",
       "      <th>bedrooms</th>\n",
       "      <th>bathrooms</th>\n",
       "      <th>sqft_living</th>\n",
       "      <th>sqft_lot</th>\n",
       "      <th>floors</th>\n",
       "      <th>waterfront</th>\n",
       "      <th>view</th>\n",
       "      <th>...</th>\n",
       "      <th>grade</th>\n",
       "      <th>sqft_above</th>\n",
       "      <th>sqft_basement</th>\n",
       "      <th>yr_built</th>\n",
       "      <th>yr_renovated</th>\n",
       "      <th>zipcode</th>\n",
       "      <th>lat</th>\n",
       "      <th>long</th>\n",
       "      <th>sqft_living15</th>\n",
       "      <th>sqft_lot15</th>\n",
       "    </tr>\n",
       "  </thead>\n",
       "  <tbody>\n",
       "    <tr>\n",
       "      <th>8321</th>\n",
       "      <td>2902200234</td>\n",
       "      <td>20141209T000000</td>\n",
       "      <td>525000.0</td>\n",
       "      <td>3</td>\n",
       "      <td>2.25</td>\n",
       "      <td>1290</td>\n",
       "      <td>1182</td>\n",
       "      <td>2.0</td>\n",
       "      <td>0</td>\n",
       "      <td>0</td>\n",
       "      <td>...</td>\n",
       "      <td>8</td>\n",
       "      <td>1000</td>\n",
       "      <td>290</td>\n",
       "      <td>2006</td>\n",
       "      <td>0</td>\n",
       "      <td>98102</td>\n",
       "      <td>47.637</td>\n",
       "      <td>-122.327</td>\n",
       "      <td>1300</td>\n",
       "      <td>1169</td>\n",
       "    </tr>\n",
       "  </tbody>\n",
       "</table>\n",
       "<p>1 rows × 21 columns</p>\n",
       "</div>"
      ],
      "text/plain": [
       "              id             date     price  bedrooms  bathrooms  sqft_living  \\\n",
       "8321  2902200234  20141209T000000  525000.0         3       2.25         1290   \n",
       "\n",
       "      sqft_lot  floors  waterfront  view  ...  grade  sqft_above  \\\n",
       "8321      1182     2.0           0     0  ...      8        1000   \n",
       "\n",
       "      sqft_basement  yr_built  yr_renovated  zipcode     lat     long  \\\n",
       "8321            290      2006             0    98102  47.637 -122.327   \n",
       "\n",
       "      sqft_living15  sqft_lot15  \n",
       "8321           1300        1169  \n",
       "\n",
       "[1 rows x 21 columns]"
      ]
     },
     "execution_count": 2,
     "metadata": {},
     "output_type": "execute_result"
    }
   ],
   "source": [
    "df= pd.read_csv('./kc_house_data.csv')\n",
    "\n",
    "df.sample()"
   ]
  },
  {
   "cell_type": "code",
   "execution_count": 3,
   "id": "b7d7de76",
   "metadata": {},
   "outputs": [
    {
     "data": {
      "application/vnd.jupyter.widget-view+json": {
       "model_id": "23158dcd20ff4059944d42e649f0478f",
       "version_major": 2,
       "version_minor": 0
      },
      "text/plain": [
       "RadioButtons(description='C/Vista:', layout=Layout(width='max-content'), options=('Não', 'Sim'), value='Não')"
      ]
     },
     "metadata": {},
     "output_type": "display_data"
    }
   ],
   "source": [
    "#criando os filtros\n",
    "\n",
    "df['is_waterfront'] = df['waterfront'].apply( lambda x: 'Sim' if x==1 else 'Não' )\n",
    "\n",
    "# criando o botão:\n",
    "com_vista= widgets.RadioButtons(\n",
    "        options= df['is_waterfront'].unique().tolist(),\n",
    "        value='Não', \n",
    "       layout={'width': 'max-content'}, # If the items' names are long\n",
    "        description='C/Vista:',\n",
    "        disabled=False)\n",
    "com_vista"
   ]
  },
  {
   "cell_type": "code",
   "execution_count": 6,
   "id": "7c0ca253",
   "metadata": {},
   "outputs": [],
   "source": [
    "#criando função dash\n",
    "\n",
    "\n",
    "def water_bar(df,waterfront):\n",
    "    \n",
    "    df= df[df['is_waterfront']== waterfront]\n",
    "\n",
    "    #criado os specs\n",
    "    fig = plt.figure(figsize=(24,12))\n",
    "\n",
    "    spec= gridspec.GridSpec(nrows=1 , ncols=1, figure=fig)\n",
    "\n",
    "    ax1= fig.add_subplot(spec[0,:])\n",
    "\n",
    "    water_grafico = df[['waterfront','id']].groupby('waterfront').mean().reset_index()\n",
    "    ax1.bar(water_grafico['waterfront'], water_grafico['id'])\n",
    "\n",
    "\n"
   ]
  },
  {
   "cell_type": "code",
   "execution_count": 7,
   "id": "d0322477",
   "metadata": {},
   "outputs": [
    {
     "data": {
      "application/vnd.jupyter.widget-view+json": {
       "model_id": "a957dd99abf74cc8972fb062adb2f0df",
       "version_major": 2,
       "version_minor": 0
      },
      "text/plain": [
       "interactive(children=(RadioButtons(description='C/Vista:', index=1, layout=Layout(width='max-content'), option…"
      ]
     },
     "metadata": {},
     "output_type": "display_data"
    }
   ],
   "source": [
    "widgets.interactive(water_bar,df=fixed(df),waterfront= com_vista)"
   ]
  },
  {
   "cell_type": "code",
   "execution_count": null,
   "id": "dacf557c",
   "metadata": {},
   "outputs": [],
   "source": []
  }
 ],
 "metadata": {
  "kernelspec": {
   "display_name": "Python 3 (ipykernel)",
   "language": "python",
   "name": "python3"
  },
  "language_info": {
   "codemirror_mode": {
    "name": "ipython",
    "version": 3
   },
   "file_extension": ".py",
   "mimetype": "text/x-python",
   "name": "python",
   "nbconvert_exporter": "python",
   "pygments_lexer": "ipython3",
   "version": "3.8.10"
  }
 },
 "nbformat": 4,
 "nbformat_minor": 5
}
