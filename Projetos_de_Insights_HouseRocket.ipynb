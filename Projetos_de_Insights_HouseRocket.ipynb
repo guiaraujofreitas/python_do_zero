{
 "cells": [
  {
   "cell_type": "markdown",
   "id": "45d972b3",
   "metadata": {},
   "source": [
    "# Quais os imóveis que House Rocket deveriam comprar?\n",
    "- coletador os dados no kangle\n",
    "- agrupar por região (zipcode)\n",
    "- Dentro de cada região, vou fazer a mediana dos preços dos imóveis\n",
    "- E entao sugerir a compra dos imóveis que estão abaixo do valor dessa mediana e com boas condições de compra.\n",
    "\n",
    "- Exemlo de Tabela:\n",
    "    Imóvel Cód Região\\ Preço do Imóvel \\ Preço da Mediana \\ Condição\\ Status:\n",
    "    328545            \\ 450 mil         \\ 500 mil         \\ boa     \\Compra\n",
    "    48578              \\625 mil          \\ 500 mil        \\boa     \\ Não Compra\n",
    "    58789              \\358 mil           \\ 485 mil       \\Não      \\Não Compra \n",
    "\n"
   ]
  },
  {
   "cell_type": "code",
   "execution_count": 1,
   "id": "e7c41978",
   "metadata": {},
   "outputs": [],
   "source": [
    "import pandas as pd\n",
    "import numpy as np\n",
    "import seaborn as sns\n",
    "from matplotlib import pyplot as plt\n",
    "from matplotlib import gridspec\n",
    "from IPython.core.display import HTML "
   ]
  },
  {
   "cell_type": "code",
   "execution_count": 10,
   "id": "9cb32dd1",
   "metadata": {},
   "outputs": [],
   "source": [
    "def jupyter_settings():\n",
    "    %matplotlib inline\n",
    "    %pylab inline\n",
    "    \n",
    "    plt.style.use( 'bmh' )\n",
    "    plt.rcParams['figure.figsize'] = [25, 12]\n",
    "    plt.rcParams['font.size'] = 24\n",
    "    \n",
    "    display( HTML( '<style>.container { width:100% !important; }</style>') )\n",
    "    pd.options.display.max_columns = None\n",
    "    pd.options.display.max_rows = None\n",
    "    pd.set_option( 'display.expand_frame_repr', False )\n",
    "    \n",
    "    sns.set()"
   ]
  },
  {
   "cell_type": "code",
   "execution_count": 11,
   "id": "95d808ec",
   "metadata": {},
   "outputs": [
    {
     "name": "stdout",
     "output_type": "stream",
     "text": [
      "Populating the interactive namespace from numpy and matplotlib\n"
     ]
    },
    {
     "data": {
      "text/html": [
       "<style>.container { width:100% !important; }</style>"
      ],
      "text/plain": [
       "<IPython.core.display.HTML object>"
      ]
     },
     "metadata": {},
     "output_type": "display_data"
    }
   ],
   "source": [
    "jupyter_settings()"
   ]
  },
  {
   "cell_type": "code",
   "execution_count": 2,
   "id": "379a5496",
   "metadata": {},
   "outputs": [],
   "source": [
    "df = pd.read_csv('./kc_house_data.csv')"
   ]
  },
  {
   "cell_type": "code",
   "execution_count": 3,
   "id": "7cc633b0",
   "metadata": {},
   "outputs": [
    {
     "data": {
      "text/html": [
       "<div>\n",
       "<style scoped>\n",
       "    .dataframe tbody tr th:only-of-type {\n",
       "        vertical-align: middle;\n",
       "    }\n",
       "\n",
       "    .dataframe tbody tr th {\n",
       "        vertical-align: top;\n",
       "    }\n",
       "\n",
       "    .dataframe thead th {\n",
       "        text-align: right;\n",
       "    }\n",
       "</style>\n",
       "<table border=\"1\" class=\"dataframe\">\n",
       "  <thead>\n",
       "    <tr style=\"text-align: right;\">\n",
       "      <th></th>\n",
       "      <th>id</th>\n",
       "      <th>date</th>\n",
       "      <th>price</th>\n",
       "      <th>bedrooms</th>\n",
       "      <th>bathrooms</th>\n",
       "      <th>sqft_living</th>\n",
       "      <th>sqft_lot</th>\n",
       "      <th>floors</th>\n",
       "      <th>waterfront</th>\n",
       "      <th>view</th>\n",
       "      <th>...</th>\n",
       "      <th>grade</th>\n",
       "      <th>sqft_above</th>\n",
       "      <th>sqft_basement</th>\n",
       "      <th>yr_built</th>\n",
       "      <th>yr_renovated</th>\n",
       "      <th>zipcode</th>\n",
       "      <th>lat</th>\n",
       "      <th>long</th>\n",
       "      <th>sqft_living15</th>\n",
       "      <th>sqft_lot15</th>\n",
       "    </tr>\n",
       "  </thead>\n",
       "  <tbody>\n",
       "    <tr>\n",
       "      <th>0</th>\n",
       "      <td>7129300520</td>\n",
       "      <td>20141013T000000</td>\n",
       "      <td>221900.0</td>\n",
       "      <td>3</td>\n",
       "      <td>1.00</td>\n",
       "      <td>1180</td>\n",
       "      <td>5650</td>\n",
       "      <td>1.0</td>\n",
       "      <td>0</td>\n",
       "      <td>0</td>\n",
       "      <td>...</td>\n",
       "      <td>7</td>\n",
       "      <td>1180</td>\n",
       "      <td>0</td>\n",
       "      <td>1955</td>\n",
       "      <td>0</td>\n",
       "      <td>98178</td>\n",
       "      <td>47.5112</td>\n",
       "      <td>-122.257</td>\n",
       "      <td>1340</td>\n",
       "      <td>5650</td>\n",
       "    </tr>\n",
       "    <tr>\n",
       "      <th>1</th>\n",
       "      <td>6414100192</td>\n",
       "      <td>20141209T000000</td>\n",
       "      <td>538000.0</td>\n",
       "      <td>3</td>\n",
       "      <td>2.25</td>\n",
       "      <td>2570</td>\n",
       "      <td>7242</td>\n",
       "      <td>2.0</td>\n",
       "      <td>0</td>\n",
       "      <td>0</td>\n",
       "      <td>...</td>\n",
       "      <td>7</td>\n",
       "      <td>2170</td>\n",
       "      <td>400</td>\n",
       "      <td>1951</td>\n",
       "      <td>1991</td>\n",
       "      <td>98125</td>\n",
       "      <td>47.7210</td>\n",
       "      <td>-122.319</td>\n",
       "      <td>1690</td>\n",
       "      <td>7639</td>\n",
       "    </tr>\n",
       "    <tr>\n",
       "      <th>2</th>\n",
       "      <td>5631500400</td>\n",
       "      <td>20150225T000000</td>\n",
       "      <td>180000.0</td>\n",
       "      <td>2</td>\n",
       "      <td>1.00</td>\n",
       "      <td>770</td>\n",
       "      <td>10000</td>\n",
       "      <td>1.0</td>\n",
       "      <td>0</td>\n",
       "      <td>0</td>\n",
       "      <td>...</td>\n",
       "      <td>6</td>\n",
       "      <td>770</td>\n",
       "      <td>0</td>\n",
       "      <td>1933</td>\n",
       "      <td>0</td>\n",
       "      <td>98028</td>\n",
       "      <td>47.7379</td>\n",
       "      <td>-122.233</td>\n",
       "      <td>2720</td>\n",
       "      <td>8062</td>\n",
       "    </tr>\n",
       "    <tr>\n",
       "      <th>3</th>\n",
       "      <td>2487200875</td>\n",
       "      <td>20141209T000000</td>\n",
       "      <td>604000.0</td>\n",
       "      <td>4</td>\n",
       "      <td>3.00</td>\n",
       "      <td>1960</td>\n",
       "      <td>5000</td>\n",
       "      <td>1.0</td>\n",
       "      <td>0</td>\n",
       "      <td>0</td>\n",
       "      <td>...</td>\n",
       "      <td>7</td>\n",
       "      <td>1050</td>\n",
       "      <td>910</td>\n",
       "      <td>1965</td>\n",
       "      <td>0</td>\n",
       "      <td>98136</td>\n",
       "      <td>47.5208</td>\n",
       "      <td>-122.393</td>\n",
       "      <td>1360</td>\n",
       "      <td>5000</td>\n",
       "    </tr>\n",
       "    <tr>\n",
       "      <th>4</th>\n",
       "      <td>1954400510</td>\n",
       "      <td>20150218T000000</td>\n",
       "      <td>510000.0</td>\n",
       "      <td>3</td>\n",
       "      <td>2.00</td>\n",
       "      <td>1680</td>\n",
       "      <td>8080</td>\n",
       "      <td>1.0</td>\n",
       "      <td>0</td>\n",
       "      <td>0</td>\n",
       "      <td>...</td>\n",
       "      <td>8</td>\n",
       "      <td>1680</td>\n",
       "      <td>0</td>\n",
       "      <td>1987</td>\n",
       "      <td>0</td>\n",
       "      <td>98074</td>\n",
       "      <td>47.6168</td>\n",
       "      <td>-122.045</td>\n",
       "      <td>1800</td>\n",
       "      <td>7503</td>\n",
       "    </tr>\n",
       "  </tbody>\n",
       "</table>\n",
       "<p>5 rows × 21 columns</p>\n",
       "</div>"
      ],
      "text/plain": [
       "           id             date     price  bedrooms  bathrooms  sqft_living  \\\n",
       "0  7129300520  20141013T000000  221900.0         3       1.00         1180   \n",
       "1  6414100192  20141209T000000  538000.0         3       2.25         2570   \n",
       "2  5631500400  20150225T000000  180000.0         2       1.00          770   \n",
       "3  2487200875  20141209T000000  604000.0         4       3.00         1960   \n",
       "4  1954400510  20150218T000000  510000.0         3       2.00         1680   \n",
       "\n",
       "   sqft_lot  floors  waterfront  view  ...  grade  sqft_above  sqft_basement  \\\n",
       "0      5650     1.0           0     0  ...      7        1180              0   \n",
       "1      7242     2.0           0     0  ...      7        2170            400   \n",
       "2     10000     1.0           0     0  ...      6         770              0   \n",
       "3      5000     1.0           0     0  ...      7        1050            910   \n",
       "4      8080     1.0           0     0  ...      8        1680              0   \n",
       "\n",
       "   yr_built  yr_renovated  zipcode      lat     long  sqft_living15  \\\n",
       "0      1955             0    98178  47.5112 -122.257           1340   \n",
       "1      1951          1991    98125  47.7210 -122.319           1690   \n",
       "2      1933             0    98028  47.7379 -122.233           2720   \n",
       "3      1965             0    98136  47.5208 -122.393           1360   \n",
       "4      1987             0    98074  47.6168 -122.045           1800   \n",
       "\n",
       "   sqft_lot15  \n",
       "0        5650  \n",
       "1        7639  \n",
       "2        8062  \n",
       "3        5000  \n",
       "4        7503  \n",
       "\n",
       "[5 rows x 21 columns]"
      ]
     },
     "execution_count": 3,
     "metadata": {},
     "output_type": "execute_result"
    }
   ],
   "source": [
    "df.head()"
   ]
  },
  {
   "cell_type": "code",
   "execution_count": 4,
   "id": "4a703435",
   "metadata": {},
   "outputs": [
    {
     "data": {
      "text/plain": [
       "450000.0"
      ]
     },
     "execution_count": 4,
     "metadata": {},
     "output_type": "execute_result"
    }
   ],
   "source": [
    "# conventando em datetime as datas\n",
    "df['date'] = pd.to_datetime(df['date'])\n",
    "\n",
    "#df['yr_built'].pd.to_datetime(df['yr_built']).dt.strftime('%Y-%m-%d')\n",
    "df['yr_built']= pd.to_datetime(df['yr_built'],format= '%Y')\n",
    "\n",
    "df['price'].median()\n"
   ]
  },
  {
   "cell_type": "code",
   "execution_count": 5,
   "id": "c2ee3cdf",
   "metadata": {},
   "outputs": [],
   "source": [
    "df['month'] = df['date'].dt.month\n",
    "\n",
    "df['year'] = df['date'].dt.year"
   ]
  },
  {
   "cell_type": "markdown",
   "id": "a4dbacb6",
   "metadata": {},
   "source": [
    "# H1: Imóveis que possuem vista para água, são 30% mais caros, na média.\n",
    "# H2: Imóveis com data de construção menor que 1955, são 50% mais baratos, na média.\n",
    "# H3: Imóveis sem porão possuem sqrt_lot, são 50%\n",
    "# maiores do que com porão.\n",
    "# H4: O crescimento do preço dos imóveis YoY ( Year over Year ) é de 10%\n",
    "# H5: Imóveis com 3 banheiros tem um crescimento MoM\n",
    "# H6: Casas reformadas depois do ano 2000 são 25% mais caras\n",
    "# H7: Casas localizadas com zipcode 98003, são 15% mais baratas\n",
    "# H8: Casas que tem uma nota maior, são as que contém mais quartos\n",
    "# H9: Casas que tem uma sala maior, são 20% mais caras\n",
    "# H10: Casas vendem mais do verão"
   ]
  },
  {
   "cell_type": "code",
   "execution_count": 6,
   "id": "bab5be7f",
   "metadata": {},
   "outputs": [
    {
     "data": {
      "text/html": [
       "<div>\n",
       "<style scoped>\n",
       "    .dataframe tbody tr th:only-of-type {\n",
       "        vertical-align: middle;\n",
       "    }\n",
       "\n",
       "    .dataframe tbody tr th {\n",
       "        vertical-align: top;\n",
       "    }\n",
       "\n",
       "    .dataframe thead th {\n",
       "        text-align: right;\n",
       "    }\n",
       "</style>\n",
       "<table border=\"1\" class=\"dataframe\">\n",
       "  <thead>\n",
       "    <tr style=\"text-align: right;\">\n",
       "      <th></th>\n",
       "      <th>zipcode</th>\n",
       "      <th>sqft_basement</th>\n",
       "    </tr>\n",
       "  </thead>\n",
       "  <tbody>\n",
       "    <tr>\n",
       "      <th>0</th>\n",
       "      <td>98001</td>\n",
       "      <td>0.0</td>\n",
       "    </tr>\n",
       "    <tr>\n",
       "      <th>1</th>\n",
       "      <td>98002</td>\n",
       "      <td>0.0</td>\n",
       "    </tr>\n",
       "    <tr>\n",
       "      <th>2</th>\n",
       "      <td>98003</td>\n",
       "      <td>0.0</td>\n",
       "    </tr>\n",
       "    <tr>\n",
       "      <th>3</th>\n",
       "      <td>98004</td>\n",
       "      <td>0.0</td>\n",
       "    </tr>\n",
       "    <tr>\n",
       "      <th>4</th>\n",
       "      <td>98005</td>\n",
       "      <td>305.0</td>\n",
       "    </tr>\n",
       "  </tbody>\n",
       "</table>\n",
       "</div>"
      ],
      "text/plain": [
       "   zipcode  sqft_basement\n",
       "0    98001            0.0\n",
       "1    98002            0.0\n",
       "2    98003            0.0\n",
       "3    98004            0.0\n",
       "4    98005          305.0"
      ]
     },
     "execution_count": 6,
     "metadata": {},
     "output_type": "execute_result"
    }
   ],
   "source": [
    "# estastiticas das hipoteses:\n",
    "#waterfront , zipcode, yr_built, sqft_lot,date, bathrooms, bedrooms, price, floors\n",
    "df_zipcode = df[['zipcode','id']].groupby('zipcode').count().reset_index()\n",
    "df_waterfront = df[['waterfront','zipcode']].groupby('zipcode').median().reset_index()\n",
    "df_price = df[['zipcode','price']].groupby('zipcode').median().reset_index()\n",
    "df_yr_built= df[['zipcode','yr_built']].groupby('zipcode').median().reset_index()\n",
    "df_sqft_lot = df[['zipcode','sqft_lot']].groupby('zipcode').median().reset_index()\n",
    "df_bedrooms = df[['zipcode','bedrooms']].groupby('zipcode').median().reset_index()\n",
    "df_bathrooms = df[['zipcode','bathrooms']].groupby('zipcode').median().reset_index()\n",
    "df_floors = df[['zipcode','floors']].groupby('zipcode').median().reset_index()\n",
    "df_sqft_basement = df[['zipcode','sqft_basement']].groupby('zipcode').median().reset_index()\n",
    "\n",
    "df_sqft_basement.head()"
   ]
  },
  {
   "cell_type": "code",
   "execution_count": 7,
   "id": "12e20e06",
   "metadata": {},
   "outputs": [
    {
     "data": {
      "text/html": [
       "<div>\n",
       "<style scoped>\n",
       "    .dataframe tbody tr th:only-of-type {\n",
       "        vertical-align: middle;\n",
       "    }\n",
       "\n",
       "    .dataframe tbody tr th {\n",
       "        vertical-align: top;\n",
       "    }\n",
       "\n",
       "    .dataframe thead th {\n",
       "        text-align: right;\n",
       "    }\n",
       "</style>\n",
       "<table border=\"1\" class=\"dataframe\">\n",
       "  <thead>\n",
       "    <tr style=\"text-align: right;\">\n",
       "      <th></th>\n",
       "      <th>zipcode</th>\n",
       "      <th>waterfront</th>\n",
       "      <th>price</th>\n",
       "      <th>yr_built</th>\n",
       "      <th>sqft_lot</th>\n",
       "      <th>bedrooms</th>\n",
       "      <th>bathrooms</th>\n",
       "      <th>id</th>\n",
       "      <th>sqft_basement</th>\n",
       "      <th>floors</th>\n",
       "    </tr>\n",
       "  </thead>\n",
       "  <tbody>\n",
       "    <tr>\n",
       "      <th>0</th>\n",
       "      <td>98001</td>\n",
       "      <td>0.0</td>\n",
       "      <td>260000.0</td>\n",
       "      <td>1981-01-01</td>\n",
       "      <td>9287.0</td>\n",
       "      <td>3.0</td>\n",
       "      <td>2.00</td>\n",
       "      <td>362</td>\n",
       "      <td>0.0</td>\n",
       "      <td>1.0</td>\n",
       "    </tr>\n",
       "    <tr>\n",
       "      <th>1</th>\n",
       "      <td>98002</td>\n",
       "      <td>0.0</td>\n",
       "      <td>235000.0</td>\n",
       "      <td>1966-01-01</td>\n",
       "      <td>7282.0</td>\n",
       "      <td>3.0</td>\n",
       "      <td>1.75</td>\n",
       "      <td>199</td>\n",
       "      <td>0.0</td>\n",
       "      <td>1.0</td>\n",
       "    </tr>\n",
       "    <tr>\n",
       "      <th>2</th>\n",
       "      <td>98003</td>\n",
       "      <td>0.0</td>\n",
       "      <td>267475.0</td>\n",
       "      <td>1975-01-01</td>\n",
       "      <td>8816.0</td>\n",
       "      <td>3.0</td>\n",
       "      <td>2.00</td>\n",
       "      <td>280</td>\n",
       "      <td>0.0</td>\n",
       "      <td>1.0</td>\n",
       "    </tr>\n",
       "    <tr>\n",
       "      <th>3</th>\n",
       "      <td>98004</td>\n",
       "      <td>0.0</td>\n",
       "      <td>1150000.0</td>\n",
       "      <td>1965-01-01</td>\n",
       "      <td>11119.0</td>\n",
       "      <td>4.0</td>\n",
       "      <td>2.50</td>\n",
       "      <td>317</td>\n",
       "      <td>0.0</td>\n",
       "      <td>1.0</td>\n",
       "    </tr>\n",
       "  </tbody>\n",
       "</table>\n",
       "</div>"
      ],
      "text/plain": [
       "   zipcode  waterfront      price   yr_built  sqft_lot  bedrooms  bathrooms  \\\n",
       "0    98001         0.0   260000.0 1981-01-01    9287.0       3.0       2.00   \n",
       "1    98002         0.0   235000.0 1966-01-01    7282.0       3.0       1.75   \n",
       "2    98003         0.0   267475.0 1975-01-01    8816.0       3.0       2.00   \n",
       "3    98004         0.0  1150000.0 1965-01-01   11119.0       4.0       2.50   \n",
       "\n",
       "    id  sqft_basement  floors  \n",
       "0  362            0.0     1.0  \n",
       "1  199            0.0     1.0  \n",
       "2  280            0.0     1.0  \n",
       "3  317            0.0     1.0  "
      ]
     },
     "execution_count": 7,
     "metadata": {},
     "output_type": "execute_result"
    }
   ],
   "source": [
    "# tabela de medianas\n",
    "m1 = pd.merge(df_waterfront,df_price, on='zipcode', how='inner')\n",
    "m2 = pd.merge(m1,df_yr_built,on='zipcode',how='inner')\n",
    "m3 = pd.merge(m2,df_sqft_lot,on='zipcode', how='inner')\n",
    "m4 = pd.merge(m3, df_bedrooms, on= 'zipcode', how='inner')\n",
    "m5 = pd.merge(m4, df_bathrooms, on='zipcode', how='inner')\n",
    "m6 = pd.merge(m5,df_zipcode,on='zipcode',how='inner')\n",
    "m7 = pd.merge(m6,df_sqft_basement, on='zipcode',how='inner')\n",
    "df1 = pd.merge(m7, df_floors, on='zipcode', how='inner')\n",
    "\n",
    "df1.head(4)"
   ]
  },
  {
   "cell_type": "code",
   "execution_count": 8,
   "id": "2e1a83bf",
   "metadata": {},
   "outputs": [
    {
     "data": {
      "text/html": [
       "<div>\n",
       "<style scoped>\n",
       "    .dataframe tbody tr th:only-of-type {\n",
       "        vertical-align: middle;\n",
       "    }\n",
       "\n",
       "    .dataframe tbody tr th {\n",
       "        vertical-align: top;\n",
       "    }\n",
       "\n",
       "    .dataframe thead th {\n",
       "        text-align: right;\n",
       "    }\n",
       "</style>\n",
       "<table border=\"1\" class=\"dataframe\">\n",
       "  <thead>\n",
       "    <tr style=\"text-align: right;\">\n",
       "      <th></th>\n",
       "      <th>ZIPCODE</th>\n",
       "      <th>IS_WATERFRONT</th>\n",
       "      <th>PRICE</th>\n",
       "      <th>YR_BUILT</th>\n",
       "      <th>SQFT_LOT</th>\n",
       "      <th>BEDROOMS</th>\n",
       "      <th>BATHROOMS</th>\n",
       "      <th>ID</th>\n",
       "      <th>BASEMENT</th>\n",
       "      <th>FLOORS</th>\n",
       "    </tr>\n",
       "  </thead>\n",
       "  <tbody>\n",
       "    <tr>\n",
       "      <th>0</th>\n",
       "      <td>98001</td>\n",
       "      <td>0.0</td>\n",
       "      <td>260000.0</td>\n",
       "      <td>1981-01-01</td>\n",
       "      <td>9287.0</td>\n",
       "      <td>3.0</td>\n",
       "      <td>2.00</td>\n",
       "      <td>362</td>\n",
       "      <td>0.0</td>\n",
       "      <td>1.0</td>\n",
       "    </tr>\n",
       "    <tr>\n",
       "      <th>1</th>\n",
       "      <td>98002</td>\n",
       "      <td>0.0</td>\n",
       "      <td>235000.0</td>\n",
       "      <td>1966-01-01</td>\n",
       "      <td>7282.0</td>\n",
       "      <td>3.0</td>\n",
       "      <td>1.75</td>\n",
       "      <td>199</td>\n",
       "      <td>0.0</td>\n",
       "      <td>1.0</td>\n",
       "    </tr>\n",
       "    <tr>\n",
       "      <th>2</th>\n",
       "      <td>98003</td>\n",
       "      <td>0.0</td>\n",
       "      <td>267475.0</td>\n",
       "      <td>1975-01-01</td>\n",
       "      <td>8816.0</td>\n",
       "      <td>3.0</td>\n",
       "      <td>2.00</td>\n",
       "      <td>280</td>\n",
       "      <td>0.0</td>\n",
       "      <td>1.0</td>\n",
       "    </tr>\n",
       "  </tbody>\n",
       "</table>\n",
       "</div>"
      ],
      "text/plain": [
       "   ZIPCODE  IS_WATERFRONT     PRICE   YR_BUILT  SQFT_LOT  BEDROOMS  BATHROOMS  \\\n",
       "0    98001            0.0  260000.0 1981-01-01    9287.0       3.0       2.00   \n",
       "1    98002            0.0  235000.0 1966-01-01    7282.0       3.0       1.75   \n",
       "2    98003            0.0  267475.0 1975-01-01    8816.0       3.0       2.00   \n",
       "\n",
       "    ID  BASEMENT  FLOORS  \n",
       "0  362       0.0     1.0  \n",
       "1  199       0.0     1.0  \n",
       "2  280       0.0     1.0  "
      ]
     },
     "execution_count": 8,
     "metadata": {},
     "output_type": "execute_result"
    }
   ],
   "source": [
    "#renomoeando as colunas\n",
    "df1.columns=['ZIPCODE','IS_WATERFRONT','PRICE','YR_BUILT','SQFT_LOT','BEDROOMS','BATHROOMS','ID','BASEMENT','FLOORS']\n",
    "df1.head(3)\n",
    "\n",
    "#df1['ZIPCODE'].iloc[0]"
   ]
  },
  {
   "cell_type": "code",
   "execution_count": 10,
   "id": "46a28fe1",
   "metadata": {},
   "outputs": [],
   "source": [
    "#help function \n",
    "\n",
    "def acrescimo (valor,porcentagem):\n",
    "    y = valor\n",
    "    x = porcentagem /100\n",
    "    valor_final = y + (valor * x)\n",
    "    \n",
    "    return valor_final"
   ]
  },
  {
   "cell_type": "markdown",
   "id": "2f597fb2",
   "metadata": {},
   "source": [
    "# (Simulado) H1: Imóveis que possuem vista para água, são 30% mais caros, na média."
   ]
  },
  {
   "cell_type": "code",
   "execution_count": 11,
   "id": "3a9a4a81",
   "metadata": {
    "scrolled": false
   },
   "outputs": [
    {
     "name": "stdout",
     "output_type": "stream",
     "text": [
      "447975.0\n",
      "582367.5\n"
     ]
    },
    {
     "data": {
      "text/html": [
       "<div>\n",
       "<style scoped>\n",
       "    .dataframe tbody tr th:only-of-type {\n",
       "        vertical-align: middle;\n",
       "    }\n",
       "\n",
       "    .dataframe tbody tr th {\n",
       "        vertical-align: top;\n",
       "    }\n",
       "\n",
       "    .dataframe thead th {\n",
       "        text-align: right;\n",
       "    }\n",
       "</style>\n",
       "<table border=\"1\" class=\"dataframe\">\n",
       "  <thead>\n",
       "    <tr style=\"text-align: right;\">\n",
       "      <th></th>\n",
       "      <th>ZIPCODE</th>\n",
       "      <th>IS_WATERFRONT</th>\n",
       "      <th>PRICE</th>\n",
       "      <th>YR_BUILT</th>\n",
       "      <th>SQFT_LOT</th>\n",
       "      <th>BEDROOMS</th>\n",
       "      <th>BATHROOMS</th>\n",
       "      <th>ID</th>\n",
       "      <th>BASEMENT</th>\n",
       "      <th>FLOORS</th>\n",
       "      <th>RESULTADO</th>\n",
       "    </tr>\n",
       "  </thead>\n",
       "  <tbody>\n",
       "    <tr>\n",
       "      <th>0</th>\n",
       "      <td>98001</td>\n",
       "      <td>0.0</td>\n",
       "      <td>260000.0</td>\n",
       "      <td>1981-01-01</td>\n",
       "      <td>9287.0</td>\n",
       "      <td>3.0</td>\n",
       "      <td>2.00</td>\n",
       "      <td>362</td>\n",
       "      <td>0.0</td>\n",
       "      <td>1.0</td>\n",
       "      <td>não</td>\n",
       "    </tr>\n",
       "    <tr>\n",
       "      <th>1</th>\n",
       "      <td>98002</td>\n",
       "      <td>0.0</td>\n",
       "      <td>235000.0</td>\n",
       "      <td>1966-01-01</td>\n",
       "      <td>7282.0</td>\n",
       "      <td>3.0</td>\n",
       "      <td>1.75</td>\n",
       "      <td>199</td>\n",
       "      <td>0.0</td>\n",
       "      <td>1.0</td>\n",
       "      <td>não</td>\n",
       "    </tr>\n",
       "    <tr>\n",
       "      <th>2</th>\n",
       "      <td>98003</td>\n",
       "      <td>0.0</td>\n",
       "      <td>267475.0</td>\n",
       "      <td>1975-01-01</td>\n",
       "      <td>8816.0</td>\n",
       "      <td>3.0</td>\n",
       "      <td>2.00</td>\n",
       "      <td>280</td>\n",
       "      <td>0.0</td>\n",
       "      <td>1.0</td>\n",
       "      <td>não</td>\n",
       "    </tr>\n",
       "    <tr>\n",
       "      <th>3</th>\n",
       "      <td>98004</td>\n",
       "      <td>0.0</td>\n",
       "      <td>1150000.0</td>\n",
       "      <td>1965-01-01</td>\n",
       "      <td>11119.0</td>\n",
       "      <td>4.0</td>\n",
       "      <td>2.50</td>\n",
       "      <td>317</td>\n",
       "      <td>0.0</td>\n",
       "      <td>1.0</td>\n",
       "      <td>não</td>\n",
       "    </tr>\n",
       "  </tbody>\n",
       "</table>\n",
       "</div>"
      ],
      "text/plain": [
       "   ZIPCODE  IS_WATERFRONT      PRICE   YR_BUILT  SQFT_LOT  BEDROOMS  \\\n",
       "0    98001            0.0   260000.0 1981-01-01    9287.0       3.0   \n",
       "1    98002            0.0   235000.0 1966-01-01    7282.0       3.0   \n",
       "2    98003            0.0   267475.0 1975-01-01    8816.0       3.0   \n",
       "3    98004            0.0  1150000.0 1965-01-01   11119.0       4.0   \n",
       "\n",
       "   BATHROOMS   ID  BASEMENT  FLOORS RESULTADO  \n",
       "0       2.00  362       0.0     1.0       não  \n",
       "1       1.75  199       0.0     1.0       não  \n",
       "2       2.00  280       0.0     1.0       não  \n",
       "3       2.50  317       0.0     1.0       não  "
      ]
     },
     "execution_count": 11,
     "metadata": {},
     "output_type": "execute_result"
    }
   ],
   "source": [
    "#imoveis c/ vista para água são + caras em 30% na média\n",
    "\n",
    "# MÉDIA DE PREÇOS DAS CASAS C/ VISTA P/ ÁGUA\n",
    "# DEFINIDO O BASELINE - TEMOS QUE COMPARAR C/ O VALOR ESTIMADO\n",
    "# COM ISSO TEREMOS A REPOSTA SE A HIPOTÉSE É VERDADEIRA OU FALSA:\n",
    "\n",
    "baseline = df1['PRICE'].median() \n",
    "\n",
    "media_acrescida=  acrescimo(valor= baseline,porcentagem=30)\n",
    "\n",
    "print(baseline)\n",
    "print(media_acrescida)\n",
    "#df1['MAIS_CARO']= df1['PRICE'].apply(lambda x: 'Verdadeiro' if (x>= baseline) & (df1.loc['IS_WATERFRONT']==0)  else 'Falso')\n",
    "\n",
    "for i in range(len(df1)):\n",
    "    if (df1.loc[i,'PRICE'] > media_acrescida) & (df1.loc[i,'IS_WATERFRONT']==1):\n",
    "        df1.loc[i,'RESULTADO'] = 'sim'\n",
    "    else:\n",
    "        df1.loc[i,'RESULTADO']= 'não'\n",
    "\n",
    "df1.head(4)\n"
   ]
  },
  {
   "cell_type": "code",
   "execution_count": 12,
   "id": "56eeb592",
   "metadata": {},
   "outputs": [
    {
     "name": "stdout",
     "output_type": "stream",
     "text": [
      "A Hipotése é inválida. Pois há 17 contra 0.Com isso é possível ver que o número de casas com \n",
      " esse perfil é maior\n"
     ]
    }
   ],
   "source": [
    "# forma utilizando filtro\n",
    "preco_mediano= df1.loc[df1['IS_WATERFRONT']==0, ['PRICE']].median()\n",
    "\n",
    "com_vista = len(df1.loc[(df1['PRICE']> media_acrescida) & (df1['IS_WATERFRONT']==1)])\n",
    "sem_vista= len(df1.loc[(df1['PRICE']> media_acrescida) & (df1['IS_WATERFRONT']==0),['PRICE','IS_WATERFRONT','ZIPCODE']])\n",
    "\n",
    "print('A Hipotése é inválida. Pois há {} contra {}.Com isso é possível ver que o número de casas com \\n esse perfil é maior'.format(sem_vista,com_vista))"
   ]
  },
  {
   "cell_type": "code",
   "execution_count": 13,
   "id": "3ccda9fc",
   "metadata": {},
   "outputs": [
    {
     "name": "stdout",
     "output_type": "stream",
     "text": [
      "A hipotéses de casas com vista para água ser um valor médio de 30% mais elevado é Falso.\n",
      " Pois dentro dessas condições há 70, contra 0 que não contém vista para o mar\n"
     ]
    }
   ],
   "source": [
    "no = len(df1.loc[df1['RESULTADO']=='não'])\n",
    "yes= len(df1.loc[df1['RESULTADO']=='sim'])\n",
    "\n",
    "\n",
    "\n",
    "print('A hipotéses de casas com vista para água ser um valor médio de 30% mais elevado é Falso.\\n Pois dentro dessas condições há {}, contra {} que não contém vista para o mar'.format(no,yes))"
   ]
  },
  {
   "cell_type": "markdown",
   "id": "cdddca2e",
   "metadata": {},
   "source": [
    "# H1: Imóveis que possuem vista para água, são 30% mais caros, na média.¶"
   ]
  },
  {
   "cell_type": "code",
   "execution_count": 46,
   "id": "d5a92599",
   "metadata": {},
   "outputs": [
    {
     "data": {
      "image/png": "[encoded data removed]",
      "text/plain": [
       "<Figure size 432x288 with 1 Axes>"
      ]
     },
     "metadata": {
      "needs_background": "light"
     },
     "output_type": "display_data"
    }
   ],
   "source": [
    "#df.loc[df['waterfront']==1].count()\n",
    "#df.loc[df['waterfront']==0].count()\n",
    "f_h1 = df[['waterfront','price']].groupby('waterfront').median().reset_index()\n",
    "\n",
    "#calculando a diferença em %\n",
    "\n",
    "# Valor da casa c/vista para o mar / Valor da casa s/vista p/mar\n",
    "porcentagem = np.round((f_h1['price'].loc[1]/ f_h1['price'].loc[0] -1) *100,2)\n",
    "\n",
    "#plotando o gráfico\n",
    "\n",
    "sns.barplot(x= 'waterfront', y='price', data = f_h1);"
   ]
  },
  {
   "cell_type": "code",
   "execution_count": 15,
   "id": "42cc1166",
   "metadata": {},
   "outputs": [],
   "source": [
    "#H2: Imóveis com data de construção menor que 1955, são 50% mais baratos, na média\n",
    "# selecionar coluna mediana de construção (yr_built)\n",
    "# saber o preço médiano dos imóveis desse perfil (fazer um filtro)\n",
    "# fazer estrutura de repetição que compare essa condição do imóvel\n"
   ]
  },
  {
   "cell_type": "code",
   "execution_count": 14,
   "id": "ee52405d",
   "metadata": {},
   "outputs": [
    {
     "name": "stdout",
     "output_type": "stream",
     "text": [
      "PRICE    220000.0\n",
      "dtype: float64\n"
     ]
    }
   ],
   "source": [
    "antes = df1.loc[df1['YR_BUILT']<'1955',['YR_BUILT','PRICE']].median(numeric_only=True)\n",
    "\n",
    "depois = df1.loc[df1['YR_BUILT']>'1955',['YR_BUILT','PRICE']].median(numeric_only=True)\n",
    "\n",
    "print(depois /2)\n",
    "\n",
    "\n",
    "#print(descontado)\n",
    "#antes"
   ]
  },
  {
   "cell_type": "code",
   "execution_count": 15,
   "id": "27d17285",
   "metadata": {},
   "outputs": [
    {
     "name": "stdout",
     "output_type": "stream",
     "text": [
      "Há 46 casas com esse perfil e 0 com esse perfil. Portando hipotese invalida\n"
     ]
    }
   ],
   "source": [
    "b = len(df1.loc[(df1['YR_BUILT']< pd.to_datetime('1955-01-01')) & (df1['PRICE']< 220000.0),['YR_BUILT','PRICE']])\n",
    "\n",
    "\n",
    "a = len(df1.loc[(df1['YR_BUILT']> pd.to_datetime('1955-01-01')) & (df1['PRICE']> 220000.0),['YR_BUILT','PRICE']])\n",
    "\n",
    "\n",
    "\n",
    "print('Há {} casas com esse perfil e {} com esse perfil. Portando hipotese invalida'.format(a,b))"
   ]
  },
  {
   "cell_type": "code",
   "execution_count": 16,
   "id": "1a7899f1",
   "metadata": {},
   "outputs": [
    {
     "data": {
      "text/html": [
       "<div>\n",
       "<style scoped>\n",
       "    .dataframe tbody tr th:only-of-type {\n",
       "        vertical-align: middle;\n",
       "    }\n",
       "\n",
       "    .dataframe tbody tr th {\n",
       "        vertical-align: top;\n",
       "    }\n",
       "\n",
       "    .dataframe thead th {\n",
       "        text-align: right;\n",
       "    }\n",
       "</style>\n",
       "<table border=\"1\" class=\"dataframe\">\n",
       "  <thead>\n",
       "    <tr style=\"text-align: right;\">\n",
       "      <th></th>\n",
       "      <th>ZIPCODE</th>\n",
       "      <th>IS_WATERFRONT</th>\n",
       "      <th>PRICE</th>\n",
       "      <th>YR_BUILT</th>\n",
       "      <th>SQFT_LOT</th>\n",
       "      <th>BEDROOMS</th>\n",
       "      <th>BATHROOMS</th>\n",
       "      <th>ID</th>\n",
       "      <th>BASEMENT</th>\n",
       "      <th>FLOORS</th>\n",
       "      <th>RESULTADO</th>\n",
       "      <th>STATUS_PRECO</th>\n",
       "    </tr>\n",
       "  </thead>\n",
       "  <tbody>\n",
       "    <tr>\n",
       "      <th>0</th>\n",
       "      <td>98001</td>\n",
       "      <td>0.0</td>\n",
       "      <td>260000.0</td>\n",
       "      <td>1981-01-01</td>\n",
       "      <td>9287.0</td>\n",
       "      <td>3.0</td>\n",
       "      <td>2.000</td>\n",
       "      <td>362</td>\n",
       "      <td>0.0</td>\n",
       "      <td>1.0</td>\n",
       "      <td>não</td>\n",
       "      <td>talvez</td>\n",
       "    </tr>\n",
       "    <tr>\n",
       "      <th>1</th>\n",
       "      <td>98002</td>\n",
       "      <td>0.0</td>\n",
       "      <td>235000.0</td>\n",
       "      <td>1966-01-01</td>\n",
       "      <td>7282.0</td>\n",
       "      <td>3.0</td>\n",
       "      <td>1.750</td>\n",
       "      <td>199</td>\n",
       "      <td>0.0</td>\n",
       "      <td>1.0</td>\n",
       "      <td>não</td>\n",
       "      <td>talvez</td>\n",
       "    </tr>\n",
       "    <tr>\n",
       "      <th>2</th>\n",
       "      <td>98003</td>\n",
       "      <td>0.0</td>\n",
       "      <td>267475.0</td>\n",
       "      <td>1975-01-01</td>\n",
       "      <td>8816.0</td>\n",
       "      <td>3.0</td>\n",
       "      <td>2.000</td>\n",
       "      <td>280</td>\n",
       "      <td>0.0</td>\n",
       "      <td>1.0</td>\n",
       "      <td>não</td>\n",
       "      <td>talvez</td>\n",
       "    </tr>\n",
       "    <tr>\n",
       "      <th>3</th>\n",
       "      <td>98004</td>\n",
       "      <td>0.0</td>\n",
       "      <td>1150000.0</td>\n",
       "      <td>1965-01-01</td>\n",
       "      <td>11119.0</td>\n",
       "      <td>4.0</td>\n",
       "      <td>2.500</td>\n",
       "      <td>317</td>\n",
       "      <td>0.0</td>\n",
       "      <td>1.0</td>\n",
       "      <td>não</td>\n",
       "      <td>talvez</td>\n",
       "    </tr>\n",
       "    <tr>\n",
       "      <th>4</th>\n",
       "      <td>98005</td>\n",
       "      <td>0.0</td>\n",
       "      <td>765475.0</td>\n",
       "      <td>1967-01-01</td>\n",
       "      <td>12220.0</td>\n",
       "      <td>4.0</td>\n",
       "      <td>2.375</td>\n",
       "      <td>168</td>\n",
       "      <td>305.0</td>\n",
       "      <td>1.0</td>\n",
       "      <td>não</td>\n",
       "      <td>talvez</td>\n",
       "    </tr>\n",
       "  </tbody>\n",
       "</table>\n",
       "</div>"
      ],
      "text/plain": [
       "   ZIPCODE  IS_WATERFRONT      PRICE   YR_BUILT  SQFT_LOT  BEDROOMS  \\\n",
       "0    98001            0.0   260000.0 1981-01-01    9287.0       3.0   \n",
       "1    98002            0.0   235000.0 1966-01-01    7282.0       3.0   \n",
       "2    98003            0.0   267475.0 1975-01-01    8816.0       3.0   \n",
       "3    98004            0.0  1150000.0 1965-01-01   11119.0       4.0   \n",
       "4    98005            0.0   765475.0 1967-01-01   12220.0       4.0   \n",
       "\n",
       "   BATHROOMS   ID  BASEMENT  FLOORS RESULTADO STATUS_PRECO  \n",
       "0      2.000  362       0.0     1.0       não       talvez  \n",
       "1      1.750  199       0.0     1.0       não       talvez  \n",
       "2      2.000  280       0.0     1.0       não       talvez  \n",
       "3      2.500  317       0.0     1.0       não       talvez  \n",
       "4      2.375  168     305.0     1.0       não       talvez  "
      ]
     },
     "execution_count": 16,
     "metadata": {},
     "output_type": "execute_result"
    }
   ],
   "source": [
    "# tabela de recomendação de compra\n",
    "for i in range(len(df1)):\n",
    "    if (df1.loc[i,'YR_BUILT']< pd.to_datetime('1955-01-01')) & (df1.loc[i,'PRICE']< 220000.0):\n",
    "        df1.loc[i,'STATUS_PRECO'] = 'barato'\n",
    "    \n",
    "    elif (df1.loc[i,'YR_BUILT']> pd.to_datetime('1955-01-01')) & (df1.loc[i,'PRICE']< 220000.0):\n",
    "         df1.loc[i,'STATUS_PRECO'] = 'talvez'\n",
    "            \n",
    "    elif (df1.loc[i,'YR_BUILT']> pd.to_datetime('1955-01-01')) & (df1.loc[i,'PRICE']> 220000.0):\n",
    "        df1.loc[i,'STATUS_PRECO'] = 'talvez'\n",
    "    else:\n",
    "        df1.loc[i,'STATUS_PRECO'] = 'caro'\n",
    "\n",
    "len(df1.loc[df1['STATUS_PRECO']=='talvez'])\n",
    "#len(df1.loc[df1['STATUS_PRECO']=='caro'])\n",
    "df1.head()"
   ]
  },
  {
   "cell_type": "code",
   "execution_count": 17,
   "id": "ddb49417",
   "metadata": {},
   "outputs": [
    {
     "name": "stdout",
     "output_type": "stream",
     "text": [
      "A hipotese de casas construidas de 1955 com preço menor é invalida, pois \n",
      " há 0 com esse perfil\n"
     ]
    }
   ],
   "source": [
    "\n",
    "after = len(df1.loc[df1['STATUS_PRECO']=='caro'])\n",
    "\n",
    "before = len(df1.loc[df1['STATUS_PRECO']=='barato'])\n",
    "\n",
    "print('A hipotese de casas construidas de 1955 com preço menor é invalida, pois \\n há {} com esse perfil'.\n",
    "      format(before))\n"
   ]
  },
  {
   "cell_type": "markdown",
   "id": "6aae47d4",
   "metadata": {},
   "source": [
    "# H2: Imóveis com data de construção menor que 1955, são 50% mais baratos, na média"
   ]
  },
  {
   "cell_type": "code",
   "execution_count": 29,
   "id": "d4b6dc5a",
   "metadata": {},
   "outputs": [
    {
     "data": {
      "image/png": "[encoded data removed]",
      "text/plain": [
       "<Figure size 432x288 with 1 Axes>"
      ]
     },
     "metadata": {
      "needs_background": "light"
     },
     "output_type": "display_data"
    }
   ],
   "source": [
    "f_h2 = df[['yr_built','price']].groupby('yr_built').median().reset_index()\n",
    "\n",
    "menor = f_h2.loc[f_h2['yr_built'] < '1955']\n",
    "maior = f_h2.loc[f_h2['yr_built'] > '1955']\n",
    "\n",
    "porcentagem = np.round((menor['price'].median() / maior['price'].median() -1) *100,2)\n",
    "\n",
    "#print(menor.median(numeric_only=True))\n",
    "#print(maior.median(numeric_only=True))\n",
    "sns.barplot(x= 'yr_built', y='price', data= maior);\n",
    "plt.xticks(rotation=90);"
   ]
  },
  {
   "cell_type": "code",
   "execution_count": null,
   "id": "2f7f8195",
   "metadata": {},
   "outputs": [],
   "source": []
  },
  {
   "cell_type": "markdown",
   "id": "8236753d",
   "metadata": {},
   "source": [
    "H3: Imóveis sem porão possuem sqrt_lot, são 50%¶\n",
    "maiores do que com porão.\n",
    "\n",
    " -- selecionar a coluna casas c/metragem mediana c/porão (BASEMENT)\n",
    " -- selecionar a coluna sqrt_lot\n",
    " -- fazer uma comparação entre casas c/ e s/ porão"
   ]
  },
  {
   "cell_type": "code",
   "execution_count": null,
   "id": "2219c15d",
   "metadata": {},
   "outputs": [],
   "source": []
  },
  {
   "cell_type": "code",
   "execution_count": 19,
   "id": "78f7d7d6",
   "metadata": {},
   "outputs": [
    {
     "name": "stdout",
     "output_type": "stream",
     "text": [
      "A Hipotése é invalida. Pois as casas sem porão são em média 71.39 maiores do que imóveis sem porão\n"
     ]
    }
   ],
   "source": [
    "#filtrando os imóveis\n",
    "\n",
    "#com porão (basement)\n",
    "aux1 = df1.loc[df1['BASEMENT']==0,['SQFT_LOT']].median()\n",
    "\n",
    "#sem porão (basement)\n",
    "aux2 = df1.loc[df1['BASEMENT']!= 0,['SQFT_LOT']].median()\n",
    "\n",
    "#calculo da diferença %\n",
    "diferenca = np.round((( 8681-5065) / 5065) *100,(2))\n",
    "diferenca\n",
    "\n",
    "print('A Hipotése é invalida. Pois as casas sem porão são em média {} maiores do que imóveis sem porão'.\n",
    "      format(diferenca))"
   ]
  },
  {
   "cell_type": "markdown",
   "id": "b17aef28",
   "metadata": {},
   "source": [
    "## H4: O crescimento do preço dos imóveis YoY ( Year over Year ) é de 10%"
   ]
  },
  {
   "cell_type": "code",
   "execution_count": 44,
   "id": "dbd5e518",
   "metadata": {},
   "outputs": [
    {
     "name": "stdout",
     "output_type": "stream",
     "text": [
      "Populating the interactive namespace from numpy and matplotlib\n"
     ]
    },
    {
     "data": {
      "text/html": [
       "<style>.container { width:100% !important; }</style>"
      ],
      "text/plain": [
       "<IPython.core.display.HTML object>"
      ]
     },
     "metadata": {},
     "output_type": "display_data"
    }
   ],
   "source": [
    "jupyter_settings()"
   ]
  },
  {
   "cell_type": "code",
   "execution_count": 21,
   "id": "4c45271c",
   "metadata": {
    "scrolled": true
   },
   "outputs": [
    {
     "data": {
      "image/png": "[encoded data removed]",
      "text/plain": [
       "<Figure size 1800x1296 with 2 Axes>"
      ]
     },
     "metadata": {},
     "output_type": "display_data"
    }
   ],
   "source": [
    "#grid = GridSpedc(1,1) \n",
    "\n",
    "# separando a data por ano\n",
    "df['year'] = pd.to_datetime(df['date']).dt.year\n",
    "\n",
    "# separando, agrupando e somando os valores dos respectivos anos do DF\n",
    "by_year = df[['price','year']].groupby('year').sum().reset_index()\n",
    "\n",
    "\n",
    "# fazendo o calculo % utilizndo função do pandas pct._charge() para calcular a diferença do ano para outro\n",
    "by_year['pct'] = by_year['price'].pct_change()\n",
    "\n",
    "#criando coluna para indentificar quais são os anos negativos e positivo\n",
    "by_year['color'] = by_year['pct'].apply(lambda x: 'negativo' if x<0 else 'positivo')\n",
    "\n",
    "# ===== montagem do gráfico ======= #\n",
    "# tamanho do gŕafico\n",
    "fig = plt.figure(figsize=(25,18))\n",
    "# estilo do gráfico\n",
    "sns.set_style('darkgrid') \n",
    "\n",
    "# selecionado as cores do gráfico\n",
    "color = ['green','red'] \n",
    "\n",
    "#plotando o gráfico \n",
    "plt.subplot(2,2,1)\n",
    "sns.barplot(x = 'year', y = 'price',hue = 'color', palette = color, data= by_year);\n",
    "\n",
    "plt.subplot(2,2,2)\n",
    "sns.barplot(x= 'year', y = 'pct', data= by_year, hue ='color',palette = color);\n",
    "#sns.barplot(x= 'year', y = 'pct', data= by_year, hue ='color',palette = color);\n",
    "\n",
    "plt.show()"
   ]
  },
  {
   "cell_type": "markdown",
   "id": "3f0a3ec9",
   "metadata": {},
   "source": [
    "## H5: Imóveis com 3 banheiros tem um crescimento MoM"
   ]
  },
  {
   "cell_type": "code",
   "execution_count": 31,
   "id": "83b4a7f8",
   "metadata": {},
   "outputs": [
    {
     "data": {
      "image/png": "[encoded data removed]",
      "text/plain": [
       "<Figure size 1800x1296 with 2 Axes>"
      ]
     },
     "metadata": {},
     "output_type": "display_data"
    }
   ],
   "source": [
    "df['month'] = df['date'].dt.month\n",
    "\n",
    "df_aux = df.loc[df['bathrooms']==3]\n",
    "\n",
    "\n",
    "#df_aux = df[df['bathrooms']==3].reset_index()\n",
    "\n",
    "df_aux1 =df_aux[['price','month','bathrooms']].groupby('month').median().reset_index()\n",
    "\n",
    "\n",
    "\n",
    "# fazendo o calculo % utilizndo função do pandas pct._charge() para calcular a diferença do ano para outro\n",
    "df_aux1['pct'] = df_aux1['price'].pct_change()\n",
    "\n",
    "\n",
    "df_aux1['color'] = df_aux1['pct'].apply(lambda x: 'negativo' if x<0 else 'positivo')\n",
    "\n",
    "# ===== montagem do gráfico ======= #\n",
    "# tamanho do gŕafico\n",
    "fig = plt.figure(figsize=(25,18))\n",
    "\n",
    "sns.set_style('darkgrid') \n",
    "\n",
    "# selecionado as cores do gráfico\n",
    "color2 = ['green','red'] \n",
    "\n",
    "\n",
    "plt.subplot(2,2,1)\n",
    "sns.barplot( x = 'month', y = 'price', hue='color',palette=color2, data= df_aux1);\n",
    "\n",
    "\n",
    "plt.subplot(2,2,2)\n",
    "sns.barplot( x= 'month', y = 'pct',hue ='color',palette = color2, data= df_aux1);"
   ]
  },
  {
   "cell_type": "markdown",
   "id": "df315644",
   "metadata": {},
   "source": [
    "### Hipotese 5 é falso. Pois como desmonstrado no gráfico 2 é possível notar que não há um crescimento mês a mês de 10% imóveis com 3 banheiros."
   ]
  },
  {
   "cell_type": "markdown",
   "id": "9e5f9fee",
   "metadata": {},
   "source": [
    "# H6: Casas reformadas depois do ano 2000 são mais caras"
   ]
  },
  {
   "cell_type": "code",
   "execution_count": 25,
   "id": "b6561d62",
   "metadata": {},
   "outputs": [
    {
     "data": {
      "image/png": "[encoded data removed]",
      "text/plain": [
       "<Figure size 1800x1296 with 2 Axes>"
      ]
     },
     "metadata": {},
     "output_type": "display_data"
    }
   ],
   "source": [
    "# selecionar a coluna das reformas (yr_reformed) e preço(price)\n",
    "# agrupar e fazer a mediana do valor de todas as casas\n",
    "# fazer um filtro dos anos anos (usando lambda / antes de 2000 e depois de 2000)\n",
    "# achar um gráfico de comparação entre os períodos \n",
    "\n",
    "fig = plt.figure(figsize=(25,18))\n",
    "\n",
    "\n",
    "df_filtro = df[['yr_renovated','price']].groupby('yr_renovated').median().reset_index()\n",
    "\n",
    "\n",
    "df_filtro['antes_depois'] = df_filtro['yr_renovated'].apply(lambda x: 'antes_2000' if x<= 2000 else 'depois_2000')\n",
    "\n",
    "aux_reforma= df_filtro[['antes_depois','price']].groupby('antes_depois').median().reset_index()\n",
    "\n",
    "plt.subplot(2,1,1)\n",
    "\n",
    "sns.barplot(x = 'yr_renovated', y= 'price', data = df_filtro);\n",
    "plt.xticks(rotation =90);\n",
    "\n",
    "plt.subplot(2,1,2)\n",
    "sns.barplot( x = 'antes_depois', y= 'price', data = aux_reforma);\n",
    "\n"
   ]
  },
  {
   "cell_type": "markdown",
   "id": "ec9242c3",
   "metadata": {},
   "source": [
    "## H7: Casas localizadas com zipcode 98003, são os imóveis mais baratos\n"
   ]
  },
  {
   "cell_type": "markdown",
   "id": "2d0945aa",
   "metadata": {},
   "source": [
    "Hipotese é falsa. Casas com zipcode não são as mais baratas"
   ]
  },
  {
   "cell_type": "code",
   "execution_count": 12,
   "id": "e0431050",
   "metadata": {},
   "outputs": [
    {
     "data": {
      "image/png": "[encoded data removed]",
      "text/plain": [
       "<Figure size 1800x864 with 1 Axes>"
      ]
     },
     "metadata": {},
     "output_type": "display_data"
    }
   ],
   "source": [
    "#selecionar coluna zipcode e price\n",
    "# fazer o agrupamento das colunas e fazer médiana\n",
    "# fazer o filtro do endereço (zipcode) e (criar uma/criar um novo df c/isso)\n",
    "# ordenar os preços\n",
    "df_h7 =df[['zipcode','price']].groupby('zipcode').median().reset_index()\n",
    "\n",
    "df_h7['crescente'] =df_h7['price'].sort_values(ascending=True)\n",
    "\n",
    "#fig = plt.figure(figsize=(16,12))\n",
    "\n",
    "sns.barplot( x = 'zipcode', y= 'crescente', data = df_h7);\n",
    "plt.xticks(rotation=90);\n",
    "\n",
    "#df_h7.loc[df_h7['price']==235000.0]"
   ]
  },
  {
   "cell_type": "markdown",
   "id": "3930e19c",
   "metadata": {},
   "source": [
    "## H8: Casas que tem uma nota maior, são as que contém mais quartos\n",
    "\n"
   ]
  },
  {
   "cell_type": "code",
   "execution_count": 10,
   "id": "42c6641f",
   "metadata": {
    "scrolled": true
   },
   "outputs": [
    {
     "data": {
      "image/png": "[encoded data removed]",
      "text/plain": [
       "<Figure size 432x288 with 1 Axes>"
      ]
     },
     "metadata": {
      "needs_background": "light"
     },
     "output_type": "display_data"
    }
   ],
   "source": [
    "#selecionar a coluna de notas e quartos\n",
    "# fazer o agrupamento c/groupby\n",
    "\n",
    "\n",
    "df_h8 = df[['grade','bedrooms']].groupby('grade').median().reset_index()\n",
    "\n",
    "sns.barplot(x = 'bedrooms', y = 'grade', data = df_h8);"
   ]
  },
  {
   "cell_type": "markdown",
   "id": "41e1268d",
   "metadata": {},
   "source": [
    "## H9: Casas que tem uma sala maior são mais caras"
   ]
  },
  {
   "cell_type": "code",
   "execution_count": 32,
   "id": "cc5f5c10",
   "metadata": {},
   "outputs": [
    {
     "data": {
      "image/png": "[encoded data removed]",
      "text/plain": [
       "<Figure size 1800x864 with 4 Axes>"
      ]
     },
     "metadata": {},
     "output_type": "display_data"
    }
   ],
   "source": [
    "#selecionar a coluna da sala sqft_living e de preço\n",
    "# separar agrupar e ordenar essas colunas\n",
    "# fazer um gráfico que revele a questão desta hipotesdf\n",
    "\n",
    "df_h9 = df[['price','sqft_living']].groupby('sqft_living').median().reset_index()\n",
    "\n",
    "plt.subplot(1,3,1)\n",
    "sns.barplot(x = 'sqft_living', y = 'price', data = df_h9);\n",
    "\n",
    "plt.subplot(1,3,2)\n",
    "sns.heatmap(df_h9.corr (method= 'pearson'), annot = True);\n",
    "\n",
    "plt.subplot(1,3,3)\n",
    "sns.regplot(x = 'sqft_living', y = 'price', data = df_h9);"
   ]
  },
  {
   "cell_type": "markdown",
   "id": "5da7ee9f",
   "metadata": {},
   "source": [
    "# H10: Há mais casas vendidas no verão.\n",
    "\n",
    "#### É falso. Há mais casas vendidas na primavera do que no verão"
   ]
  },
  {
   "cell_type": "code",
   "execution_count": 35,
   "id": "8ac8822b",
   "metadata": {},
   "outputs": [
    {
     "name": "stderr",
     "output_type": "stream",
     "text": [
      "/home/guilherme/.local/lib/python3.8/site-packages/seaborn/_decorators.py:36: FutureWarning: Pass the following variable as a keyword arg: x. From version 0.12, the only valid positional argument will be `data`, and passing other arguments without an explicit keyword will result in an error or misinterpretation.\n",
      "  warnings.warn(\n"
     ]
    },
    {
     "data": {
      "image/png": "[encoded data removed]",
      "text/plain": [
       "<Figure size 864x576 with 1 Axes>"
      ]
     },
     "metadata": {},
     "output_type": "display_data"
    }
   ],
   "source": [
    "\n",
    "# criando coluna adicional de estações do ano conforme as datas na coluna month\n",
    "df['seasons'] = df['month'].apply(lambda x: 'spring'  if (x>=3) & (x<=5) else 'summer' if (x>=6) & (x<=8) else \n",
    "                                      'fall' if (x>=9) & (x<=11) else 'winter')\n",
    "\n",
    "#montando o gráfico \n",
    "\n",
    "#ajustando o tamanho\n",
    "fig = plt.figure(figsize=(12,8))\n",
    "\n",
    "#plotando o gráfico para ilustrar a comparação\n",
    "sns.countplot(df['seasons'],label= 'Comparativo das estações');"
   ]
  },
  {
   "cell_type": "code",
   "execution_count": null,
   "id": "dd8df099",
   "metadata": {},
   "outputs": [],
   "source": []
  },
  {
   "cell_type": "code",
   "execution_count": null,
   "id": "67adbedf",
   "metadata": {},
   "outputs": [],
   "source": []
  }
 ],
 "metadata": {
  "kernelspec": {
   "display_name": "Python 3 (ipykernel)",
   "language": "python",
   "name": "python3"
  },
  "language_info": {
   "codemirror_mode": {
    "name": "ipython",
    "version": 3
   },
   "file_extension": ".py",
   "mimetype": "text/x-python",
   "name": "python",
   "nbconvert_exporter": "python",
   "pygments_lexer": "ipython3",
   "version": "3.8.10"
  }
 },
 "nbformat": 4,
 "nbformat_minor": 5
}
