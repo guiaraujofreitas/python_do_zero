{
 "cells": [
  {
   "cell_type": "markdown",
   "id": "7f8b0a55",
   "metadata": {},
   "source": [
    "# 0.0 NOVAS PERGUNTAS DO CEO"
   ]
  },
  {
   "cell_type": "markdown",
   "id": "076d46af",
   "metadata": {},
   "source": [
    "1. Crie uma nova coluna chamada \"house_age\"\n",
    "    - se o valor da coluna \"date\" for maior que 2014-01-01 = 'new_house'\n",
    "    - se o valor da coluna \"date\" for menor que 2014-01-01 = 'old_house'\n",
    "    \n",
    "2. Crie uma coluna chamada 'dormitory_type\n",
    "    - se o valor valor da coluna 'bedrooms' for igual à 1= 'studio'\n",
    "    - se o valor valor da coluna 'bedrooms' for igual à 2= 'apartament'\n",
    "    - se o valor valor da coluna 'bedrooms' for maior do que 2= 'house'\n",
    " \n",
    "3. Crie uma nova coluna chamada \"condition_type\"\n",
    "    - se o valor da coluna 'condition' for menor ou igual à 2 = 'bad'\n",
    "    - se o valor da coluna 'condition' for igual à 3 ou 4 = 'regular'\n",
    "    - se o valor da coluna 'condition' igual à 5 = 'good'\n",
    "\n",
    "4. Modifique o tipo a coluna 'condition' para string\n",
    "\n",
    "5. Delete a coluna \"sqft_living15' e 'sqft_lot15'\n",
    "\n",
    "6. Modifique o tipo a coluna 'yr_build' para date\n",
    "\n",
    "7. Modifiqu o tipo a coluna 'yr_renovated' para date\n",
    "\n",
    "8. Qual é data mais antiga da construção do imóvel?\n",
    "\n",
    "9. Qual é data mais antiga da renovação de um imóvel?\n",
    "\n",
    "10. Quantos imóveis tem 2 andares?\n",
    "\n",
    "11. Quantos imóveis estão com a condição igual à 'regular'?\n",
    "\n",
    "12. Quantos imóveis estão com condição igual à 'bad' e tem \"vista para água\"?\n",
    "\n",
    "13. Quantos imóveis estão com condição igual á 'good' e são 'new_house'?\n",
    "\n",
    "14. Qual é o valor do imóvel do tipo 'studio'?\n",
    "\n",
    "15. Quantos imóveis do tipo 'apartament' foram reformados em 2015?\n",
    "\n",
    "16. Qual é o mair número de quartos de um imóvel do tipo 'house' possui?\n",
    "\n",
    "17. Quantos imóveis 'new_house' foram reformados em 2014?\n",
    "\n",
    "18. Selecione as colunas 'id', 'date','price','floors','zipcode', pelo método:\n",
    "    - Direto pelo nomes das colunas;\n",
    "    - Pelos índices;\n",
    "    - Pelos índices das linhas e nomes da colunas;\n",
    "    - Índices Booleanos.\n",
    "\n",
    "19. Salve um arquivo .csv somente com as colunas do item 10. \n",
    "\n",
    "20. Modifique a cor dos pontos do mapa de 'pink' para 'verde-escurto'"
   ]
  },
  {
   "cell_type": "markdown",
   "id": "dc072440",
   "metadata": {},
   "source": [
    "# 0.1 IMPORT"
   ]
  },
  {
   "cell_type": "code",
   "execution_count": 1,
   "id": "9944c5a5",
   "metadata": {},
   "outputs": [],
   "source": [
    "import pandas as pd"
   ]
  },
  {
   "cell_type": "markdown",
   "id": "87a2a0af",
   "metadata": {},
   "source": [
    "# 0.1 CARREGANDO O ARQUIVO"
   ]
  },
  {
   "cell_type": "code",
   "execution_count": 2,
   "id": "c146d80c",
   "metadata": {},
   "outputs": [],
   "source": [
    "df= pd.read_csv('./kc_house_data.csv')\n"
   ]
  },
  {
   "cell_type": "markdown",
   "id": "3ffdf62e",
   "metadata": {},
   "source": [
    "# Tipos das colunas"
   ]
  },
  {
   "cell_type": "code",
   "execution_count": 3,
   "id": "93a85e0d",
   "metadata": {},
   "outputs": [
    {
     "data": {
      "text/plain": [
       "id                 int64\n",
       "date              object\n",
       "price            float64\n",
       "bedrooms           int64\n",
       "bathrooms        float64\n",
       "sqft_living        int64\n",
       "sqft_lot           int64\n",
       "floors           float64\n",
       "waterfront         int64\n",
       "view               int64\n",
       "condition          int64\n",
       "grade              int64\n",
       "sqft_above         int64\n",
       "sqft_basement      int64\n",
       "yr_built           int64\n",
       "yr_renovated       int64\n",
       "zipcode            int64\n",
       "lat              float64\n",
       "long             float64\n",
       "sqft_living15      int64\n",
       "sqft_lot15         int64\n",
       "dtype: object"
      ]
     },
     "execution_count": 3,
     "metadata": {},
     "output_type": "execute_result"
    }
   ],
   "source": [
    "df.dtypes"
   ]
  },
  {
   "cell_type": "code",
   "execution_count": 4,
   "id": "bb0fe1a9",
   "metadata": {},
   "outputs": [],
   "source": [
    "# transformado os tipos de váriaveis"
   ]
  },
  {
   "cell_type": "code",
   "execution_count": 5,
   "id": "8377251a",
   "metadata": {},
   "outputs": [],
   "source": [
    "df['date']= pd.to_datetime(df['date'])"
   ]
  },
  {
   "cell_type": "markdown",
   "id": "7129a371",
   "metadata": {},
   "source": [
    "## 1. Crie uma nova coluna chamada \"house_age\"\n",
    "     - se o valor da coluna \"date\" for maior que 2014-01-01 = 'new_house'\n",
    "    - se o valor da coluna \"date\" for menor que 2014-01-01 = 'old_house'\n",
    "    "
   ]
  },
  {
   "cell_type": "code",
   "execution_count": 6,
   "id": "f632831f",
   "metadata": {},
   "outputs": [],
   "source": [
    "# criar uma nova coluna\n",
    "# fazer um filtro para coluna date\n",
    "# fazer uma condição boleana para as data\n",
    "\n",
    "df['house_age'] = 'age'\n",
    "\n",
    "df.loc[df['date']>'2014-01-01','house_age']= 'new_house'\n",
    "\n",
    "df.loc[df['date']< '2014-01-01','house_age']=' old_house'"
   ]
  },
  {
   "cell_type": "markdown",
   "id": "760ab7c2",
   "metadata": {},
   "source": [
    "## 2. Crie uma coluna chamada 'dormitory_type\n",
    "\n",
    "se o valor valor da coluna 'bedrooms' for igual à 1= 'studio'\n",
    "se o valor valor da coluna 'bedrooms' for igual à 2= 'apartament'\n",
    "se o valor valor da coluna 'bedrooms' for maior do que 2= 'house'"
   ]
  },
  {
   "cell_type": "code",
   "execution_count": 7,
   "id": "f91a25da",
   "metadata": {},
   "outputs": [],
   "source": [
    "#criar uma coluna chamada 'dormitory_type'\n",
    "# fazer um filtro com a coluna 'bedrooms'\n",
    "# fazer uma condição boleana para as condições para classificar o tipo do imóvel\n",
    "\n",
    "df['dormitory_type'] = 'type'\n",
    "\n",
    "df.loc[df['bedrooms']==1,'dormitory_type'] = 'studio'\n",
    "df.loc[df['bedrooms']==2, 'dormitory_type'] = 'apartament'\n",
    "df.loc[df['bedrooms']>2, 'dormitory_type'] = 'house'"
   ]
  },
  {
   "cell_type": "markdown",
   "id": "80c3c776",
   "metadata": {},
   "source": [
    "## 3. Crie uma nova coluna chamada \"condition_type\"\n",
    "\n",
    "se o valor da coluna 'condition' for menor ou igual à 2 = 'bad'\n",
    "se o valor da coluna 'condition' for igual à 3 ou 4 = 'regular'\n",
    "se o valor da coluna 'condition' igual à 5 = 'good'"
   ]
  },
  {
   "cell_type": "code",
   "execution_count": 8,
   "id": "c216cb9d",
   "metadata": {},
   "outputs": [],
   "source": [
    "#criar uma nova coluna \n",
    "# fazer um filtro\n",
    "# fazer uma condição boleana. \n",
    "\n",
    "df['condition_type']= 'type'\n",
    "\n",
    "df.loc[df['condition']<=2,'condition_type']='bad'\n",
    "df.loc[df['condition']>=3,'condition_type']='regular'\n",
    "df.loc[df['condition']==5,'condition_type']='good'\n",
    "\n"
   ]
  },
  {
   "cell_type": "markdown",
   "id": "16657ed0",
   "metadata": {},
   "source": [
    "## 4. Modifique o tipo a coluna 'condition' para string"
   ]
  },
  {
   "cell_type": "code",
   "execution_count": 9,
   "id": "3040faf5",
   "metadata": {},
   "outputs": [],
   "source": [
    "df['condition']= df['condition'].astype(str)\n"
   ]
  },
  {
   "cell_type": "markdown",
   "id": "e654b710",
   "metadata": {},
   "source": [
    "## 5.Delete a coluna \"sqft_living15' e 'sqft_lot15'"
   ]
  },
  {
   "cell_type": "code",
   "execution_count": 10,
   "id": "586fc498",
   "metadata": {},
   "outputs": [],
   "source": [
    "df= df.drop(columns= ['sqft_living15','sqft_lot15'])\n",
    "\n",
    "\n",
    "\n"
   ]
  },
  {
   "cell_type": "markdown",
   "id": "e59bfe57",
   "metadata": {},
   "source": [
    "## 6. Modifique o tipo a coluna 'yr_built' para date"
   ]
  },
  {
   "cell_type": "code",
   "execution_count": 11,
   "id": "1661b71c",
   "metadata": {},
   "outputs": [],
   "source": [
    "df['yr_built']= pd.to_datetime(df['yr_built'])"
   ]
  },
  {
   "cell_type": "markdown",
   "id": "e5d02a3f",
   "metadata": {},
   "source": [
    "## 7. Modifiqu o tipo a coluna 'yr_renovated' para date"
   ]
  },
  {
   "cell_type": "code",
   "execution_count": 12,
   "id": "103a2bcc",
   "metadata": {},
   "outputs": [],
   "source": [
    "df['yr_renovated']= pd.to_datetime(df['yr_renovated'])"
   ]
  },
  {
   "cell_type": "markdown",
   "id": "89030f36",
   "metadata": {},
   "source": [
    "## 8. Qual é data mais antiga da construção do imóvel?"
   ]
  },
  {
   "cell_type": "code",
   "execution_count": 13,
   "id": "c1e5601a",
   "metadata": {},
   "outputs": [
    {
     "data": {
      "text/plain": [
       "Timestamp('2014-06-10 00:00:00')"
      ]
     },
     "execution_count": 13,
     "metadata": {},
     "output_type": "execute_result"
    }
   ],
   "source": [
    "## selecionar a coluna da construção\n",
    "## ordenar as datas em ordem do menor para maior\n",
    "\n",
    "df[['date','yr_built']].sort_values('yr_built',ascending=True).reset_index(drop=True).loc[0,'date']"
   ]
  },
  {
   "cell_type": "markdown",
   "id": "2f5cc671",
   "metadata": {},
   "source": [
    "## 9. Qual é data mais antiga da renovação de um imóvel?"
   ]
  },
  {
   "cell_type": "code",
   "execution_count": 14,
   "id": "8d7e1410",
   "metadata": {},
   "outputs": [
    {
     "data": {
      "text/plain": [
       "Timestamp('2014-10-13 00:00:00')"
      ]
     },
     "execution_count": 14,
     "metadata": {},
     "output_type": "execute_result"
    }
   ],
   "source": [
    "df[['date','yr_renovated']].sort_values('yr_renovated',ascending=True).reset_index(drop=True).loc[0,'date']"
   ]
  },
  {
   "cell_type": "markdown",
   "id": "a177d710",
   "metadata": {},
   "source": [
    "## 10. Quantos imóveis tem 2 andares?"
   ]
  },
  {
   "cell_type": "code",
   "execution_count": 15,
   "id": "2a36dbb0",
   "metadata": {},
   "outputs": [
    {
     "data": {
      "text/plain": [
       "8241"
      ]
     },
     "execution_count": 15,
     "metadata": {},
     "output_type": "execute_result"
    }
   ],
   "source": [
    "#selecionar a coluna dos andares\n",
    "# fazer um filtro\n",
    "# fazer uma condição boleana com o filtro\n",
    "# contar os imoveis com esse perfil\n",
    "\n",
    "len(df.loc[df['floors']==2,'floors'])"
   ]
  },
  {
   "cell_type": "markdown",
   "id": "545eee68",
   "metadata": {},
   "source": [
    "## 11. Quantos imóveis estão com a condição igual à 'regular'?"
   ]
  },
  {
   "cell_type": "code",
   "execution_count": 16,
   "id": "7a2cd3f3",
   "metadata": {},
   "outputs": [
    {
     "data": {
      "text/plain": [
       "19710"
      ]
     },
     "execution_count": 16,
     "metadata": {},
     "output_type": "execute_result"
    }
   ],
   "source": [
    "# selecionar a coluna do tipo de condição (condition_type)\n",
    "# fazer um filtro\n",
    "# fazer uma condição boleana \n",
    "# contar a quantidade de imoveis com esse perfil\n",
    "\n",
    "df.loc[df['condition_type']=='regular','condition_type'].size"
   ]
  },
  {
   "cell_type": "markdown",
   "id": "4becbff6",
   "metadata": {},
   "source": [
    "## 12. Quantos imóveis estão com condição igual à 'bad' e tem \"vista para água\"?"
   ]
  },
  {
   "cell_type": "code",
   "execution_count": 17,
   "id": "cdbc9f6a",
   "metadata": {},
   "outputs": [
    {
     "data": {
      "text/plain": [
       "44"
      ]
     },
     "execution_count": 17,
     "metadata": {},
     "output_type": "execute_result"
    }
   ],
   "source": [
    "# selecionar as colunas condition_type e waterfront\n",
    "# fazer um filtro com &\n",
    "# fazer uma condição boleana\n",
    "# contar (len/size)\n",
    "\n",
    "df.loc[(df['condition_type']=='bad') & (df['waterfront']==1)].size"
   ]
  },
  {
   "cell_type": "markdown",
   "id": "fc87789d",
   "metadata": {},
   "source": [
    "## 13. Quantos imóveis estão com condição igual á 'good' e são 'new_house'?"
   ]
  },
  {
   "cell_type": "code",
   "execution_count": 18,
   "id": "a64357e9",
   "metadata": {},
   "outputs": [
    {
     "data": {
      "text/plain": [
       "37422"
      ]
     },
     "execution_count": 18,
     "metadata": {},
     "output_type": "execute_result"
    }
   ],
   "source": [
    "# selecionar as coluas condition_tye e house_age\n",
    "# fazer um filtro com condição & e condição boleana\n",
    "# contar (len/size)\n",
    "\n",
    "df.loc[(df['condition_type']=='good') & (df['house_age']=='new_house')].size"
   ]
  },
  {
   "cell_type": "markdown",
   "id": "ec90f1b7",
   "metadata": {},
   "source": [
    "## 14. Qual é o valor do imóvel mais cara do tipo 'studio'?"
   ]
  },
  {
   "cell_type": "code",
   "execution_count": 19,
   "id": "17fc1c07",
   "metadata": {},
   "outputs": [
    {
     "data": {
      "text/plain": [
       "75000.0"
      ]
     },
     "execution_count": 19,
     "metadata": {},
     "output_type": "execute_result"
    }
   ],
   "source": [
    "# selecionar a coluna price e dormitory_type\n",
    "# ordenar do maior preço para o menor\n",
    "\n",
    "df[['price','dormitory_type']].sort_values('price',ascending=True).reset_index(drop=True).loc[0,'price']"
   ]
  },
  {
   "cell_type": "markdown",
   "id": "b0ba4f43",
   "metadata": {},
   "source": [
    "## 15. Quantos imóveis do tipo 'apartament' foram reformados em 2015?"
   ]
  },
  {
   "cell_type": "code",
   "execution_count": 20,
   "id": "0e3363b3",
   "metadata": {},
   "outputs": [
    {
     "data": {
      "text/plain": [
       "2760"
      ]
     },
     "execution_count": 20,
     "metadata": {},
     "output_type": "execute_result"
    }
   ],
   "source": [
    "# selecionar as colunas dormitory_type e  'yr_renovated'\n",
    "# fazer um filtro\n",
    "# contar (len/size)\n",
    "\n",
    "df.loc[df['dormitory_type']=='apartament','yr_renovated'].size"
   ]
  },
  {
   "cell_type": "markdown",
   "id": "ae20b38b",
   "metadata": {},
   "source": [
    "## 16. Qual é o mair número de quartos de um imóvel do tipo 'house' possui?"
   ]
  },
  {
   "cell_type": "code",
   "execution_count": 38,
   "id": "481c9283",
   "metadata": {},
   "outputs": [
    {
     "data": {
      "text/plain": [
       "33"
      ]
     },
     "execution_count": 38,
     "metadata": {},
     "output_type": "execute_result"
    }
   ],
   "source": [
    "# selecionar a coluna bedrooms e dormitory_type\n",
    "# fazer uma condição boleana \n",
    "# ordenar em ordem crescente / ou usar função max()\n",
    "\n",
    "\n",
    "df.loc[df['dormitory_type']=='house','bedrooms'].max()\n",
    "\n",
    "\n"
   ]
  },
  {
   "cell_type": "markdown",
   "id": "cbc2ed1c",
   "metadata": {},
   "source": [
    "## 17. Quantos imóveis 'new_house' foram reformados em 2014?"
   ]
  },
  {
   "cell_type": "code",
   "execution_count": 55,
   "id": "db258e14",
   "metadata": {},
   "outputs": [
    {
     "ename": "AttributeError",
     "evalue": "'DataFrame' object has no attribute 'df'",
     "output_type": "error",
     "traceback": [
      "\u001b[0;31m---------------------------------------------------------------------------\u001b[0m",
      "\u001b[0;31mAttributeError\u001b[0m                            Traceback (most recent call last)",
      "\u001b[0;32m/tmp/ipykernel_3258/1995960649.py\u001b[0m in \u001b[0;36m<module>\u001b[0;34m\u001b[0m\n\u001b[1;32m      6\u001b[0m \u001b[0;34m\u001b[0m\u001b[0m\n\u001b[1;32m      7\u001b[0m \u001b[0;34m\u001b[0m\u001b[0m\n\u001b[0;32m----> 8\u001b[0;31m \u001b[0mdf\u001b[0m\u001b[0;34m[\u001b[0m\u001b[0;34m[\u001b[0m\u001b[0;34m'ano'\u001b[0m\u001b[0;34m,\u001b[0m\u001b[0;34m'yr_renovated'\u001b[0m\u001b[0;34m]\u001b[0m\u001b[0;34m]\u001b[0m\u001b[0;34m.\u001b[0m\u001b[0mdf\u001b[0m\u001b[0;34m.\u001b[0m\u001b[0mgroupby\u001b[0m\u001b[0;34m(\u001b[0m\u001b[0;34m'yr_renovated'\u001b[0m\u001b[0;34m)\u001b[0m\u001b[0;34m.\u001b[0m\u001b[0msum\u001b[0m\u001b[0;34m(\u001b[0m\u001b[0;34m)\u001b[0m\u001b[0;34m.\u001b[0m\u001b[0mreset_index\u001b[0m\u001b[0;34m(\u001b[0m\u001b[0;34m)\u001b[0m\u001b[0;34m\u001b[0m\u001b[0;34m\u001b[0m\u001b[0m\n\u001b[0m",
      "\u001b[0;32m~/.local/lib/python3.8/site-packages/pandas/core/generic.py\u001b[0m in \u001b[0;36m__getattr__\u001b[0;34m(self, name)\u001b[0m\n\u001b[1;32m   5485\u001b[0m         ):\n\u001b[1;32m   5486\u001b[0m             \u001b[0;32mreturn\u001b[0m \u001b[0mself\u001b[0m\u001b[0;34m[\u001b[0m\u001b[0mname\u001b[0m\u001b[0;34m]\u001b[0m\u001b[0;34m\u001b[0m\u001b[0;34m\u001b[0m\u001b[0m\n\u001b[0;32m-> 5487\u001b[0;31m         \u001b[0;32mreturn\u001b[0m \u001b[0mobject\u001b[0m\u001b[0;34m.\u001b[0m\u001b[0m__getattribute__\u001b[0m\u001b[0;34m(\u001b[0m\u001b[0mself\u001b[0m\u001b[0;34m,\u001b[0m \u001b[0mname\u001b[0m\u001b[0;34m)\u001b[0m\u001b[0;34m\u001b[0m\u001b[0;34m\u001b[0m\u001b[0m\n\u001b[0m\u001b[1;32m   5488\u001b[0m \u001b[0;34m\u001b[0m\u001b[0m\n\u001b[1;32m   5489\u001b[0m     \u001b[0;32mdef\u001b[0m \u001b[0m__setattr__\u001b[0m\u001b[0;34m(\u001b[0m\u001b[0mself\u001b[0m\u001b[0;34m,\u001b[0m \u001b[0mname\u001b[0m\u001b[0;34m:\u001b[0m \u001b[0mstr\u001b[0m\u001b[0;34m,\u001b[0m \u001b[0mvalue\u001b[0m\u001b[0;34m)\u001b[0m \u001b[0;34m->\u001b[0m \u001b[0;32mNone\u001b[0m\u001b[0;34m:\u001b[0m\u001b[0;34m\u001b[0m\u001b[0;34m\u001b[0m\u001b[0m\n",
      "\u001b[0;31mAttributeError\u001b[0m: 'DataFrame' object has no attribute 'df'"
     ]
    }
   ],
   "source": [
    "# selecionar a coluna 'house_age'\n",
    "# fazer uma condição boleana\n",
    "# contar (len ou size)\n",
    "\n",
    "df['ano']= df['date'].dt.year\n",
    "\n",
    "\n",
    "df[['ano','yr_renovated']].df.groupby('yr_renovated').sum().reset_index()\n"
   ]
  }
 ],
 "metadata": {
  "kernelspec": {
   "display_name": "Python 3 (ipykernel)",
   "language": "python",
   "name": "python3"
  },
  "language_info": {
   "codemirror_mode": {
    "name": "ipython",
    "version": 3
   },
   "file_extension": ".py",
   "mimetype": "text/x-python",
   "name": "python",
   "nbconvert_exporter": "python",
   "pygments_lexer": "ipython3",
   "version": "3.8.10"
  }
 },
 "nbformat": 4,
 "nbformat_minor": 5
}
