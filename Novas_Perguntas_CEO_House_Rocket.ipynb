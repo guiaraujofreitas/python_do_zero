{
 "cells": [
  {
   "cell_type": "markdown",
   "id": "7f8b0a55",
   "metadata": {},
   "source": [
    "# 0.0 NOVAS PERGUNTAS DO CEO"
   ]
  },
  {
   "cell_type": "markdown",
   "id": "076d46af",
   "metadata": {},
   "source": [
    "1. Crie uma nova coluna chamada \"house_age\"\n",
    "    - se o valor da coluna \"date\" for maior que 2014-01-01 = 'new_house'\n",
    "    - se o valor da coluna \"date\" for menor que 2014-01-01 = 'old_house'\n",
    "    \n",
    "2. Crie uma coluna chamada 'dormitory_type\n",
    "    - se o valor valor da coluna 'bedrooms' for igual à 1= 'studio'\n",
    "    - se o valor valor da coluna 'bedrooms' for igual à 2= 'apartament'\n",
    "    - se o valor valor da coluna 'bedrooms' for maior do que 2= 'house'\n",
    " \n",
    "3. Crie uma nova coluna chamada \"condition_type\"\n",
    "    - se o valor da coluna 'condition' for menor ou igual à 2 = 'bad'\n",
    "    - se o valor da coluna 'condition' for igual à 3 ou 4 = 'regular'\n",
    "    - se o valor da coluna 'condition' igual à 5 = 'good'\n",
    "\n",
    "4. Modifique o tipo a coluna 'condition' para string\n",
    "\n",
    "5. Delete a coluna \"sqft_living15' e 'sqft_lot15'\n",
    "\n",
    "6. Modifique o tipo a coluna 'yr_build' para date\n",
    "\n",
    "7. Modifiqu o tipo a coluna 'yr_renovated' para date\n",
    "\n",
    "8. Qual é data mais antiga da construção do imóvel?\n",
    "\n",
    "9. Qual é data mais antiga da renovação de um imóvel?\n",
    "\n",
    "10. Quantos imóveis tem 2 andares?\n",
    "\n",
    "11. Quantos imóveis estão com a condição igual à 'regular'?\n",
    "\n",
    "12. Quantos imóveis estão com condição igual à 'bad' e tem \"vista para água\"?\n",
    "\n",
    "13. Quantos imóveis estão com condição igual á 'good' e são 'new_house'?\n",
    "\n",
    "14. Qual é o valor do imóvel do tipo 'studio'?\n",
    "\n",
    "15. Quantos imóveis do tipo 'apartament' foram reformados em 2015?\n",
    "\n",
    "16. Qual é o mair número de quartos de um imóvel do tipo 'house' possui?\n",
    "\n",
    "17. Quantos imóveis 'new_house' foram reformados em 2014?\n",
    "\n",
    "18. Selecione as colunas 'id', 'date','price','floors','zipcode', pelo método:\n",
    "    - Direto pelo nomes das colunas;\n",
    "    - Pelos índices;\n",
    "    - Pelos índices das linhas e nomes da colunas;\n",
    "    - Índices Booleanos.\n",
    "\n",
    "19. Salve um arquivo .csv somente com as colunas do item 10. \n",
    "\n",
    "20. Modifique a cor dos pontos do mapa de 'pink' para 'verde-escurto'"
   ]
  },
  {
   "cell_type": "markdown",
   "id": "dc072440",
   "metadata": {},
   "source": [
    "# 0.1 IMPORT"
   ]
  },
  {
   "cell_type": "code",
   "execution_count": 1,
   "id": "9944c5a5",
   "metadata": {},
   "outputs": [],
   "source": [
    "import pandas as pd"
   ]
  },
  {
   "cell_type": "markdown",
   "id": "87a2a0af",
   "metadata": {},
   "source": [
    "# 0.1 CARREGANDO O ARQUIVO"
   ]
  },
  {
   "cell_type": "code",
   "execution_count": 34,
   "id": "c146d80c",
   "metadata": {},
   "outputs": [],
   "source": [
    "df= pd.read_csv('./kc_house_data.csv')\n"
   ]
  },
  {
   "cell_type": "markdown",
   "id": "3ffdf62e",
   "metadata": {},
   "source": [
    "# Tipos das colunas"
   ]
  },
  {
   "cell_type": "code",
   "execution_count": 35,
   "id": "93a85e0d",
   "metadata": {},
   "outputs": [
    {
     "data": {
      "text/plain": [
       "id                 int64\n",
       "date              object\n",
       "price            float64\n",
       "bedrooms           int64\n",
       "bathrooms        float64\n",
       "sqft_living        int64\n",
       "sqft_lot           int64\n",
       "floors           float64\n",
       "waterfront         int64\n",
       "view               int64\n",
       "condition          int64\n",
       "grade              int64\n",
       "sqft_above         int64\n",
       "sqft_basement      int64\n",
       "yr_built           int64\n",
       "yr_renovated       int64\n",
       "zipcode            int64\n",
       "lat              float64\n",
       "long             float64\n",
       "sqft_living15      int64\n",
       "sqft_lot15         int64\n",
       "dtype: object"
      ]
     },
     "execution_count": 35,
     "metadata": {},
     "output_type": "execute_result"
    }
   ],
   "source": [
    "df.dtypes"
   ]
  },
  {
   "cell_type": "code",
   "execution_count": null,
   "id": "bb0fe1a9",
   "metadata": {},
   "outputs": [],
   "source": [
    "# transformado os tipos de váriaveis"
   ]
  },
  {
   "cell_type": "code",
   "execution_count": 36,
   "id": "8377251a",
   "metadata": {},
   "outputs": [],
   "source": [
    "df['date']= pd.to_datetime(df['date'])"
   ]
  },
  {
   "cell_type": "markdown",
   "id": "7129a371",
   "metadata": {},
   "source": [
    "## 1. Crie uma nova coluna chamada \"house_age\"\n",
    "     - se o valor da coluna \"date\" for maior que 2014-01-01 = 'new_house'\n",
    "    - se o valor da coluna \"date\" for menor que 2014-01-01 = 'old_house'\n",
    "    "
   ]
  },
  {
   "cell_type": "code",
   "execution_count": 41,
   "id": "f632831f",
   "metadata": {},
   "outputs": [],
   "source": [
    "# criar uma nova coluna\n",
    "# fazer um filtro para coluna date\n",
    "# fazer uma condição boleana para as data\n",
    "\n",
    "df['house_age'] = 'age'\n",
    "\n",
    "df.loc[df['date']>'2014-01-01','house_age']= 'new_house'\n",
    "\n",
    "df.loc[df['date']< '2014-01-01','house_age']=' old_house'"
   ]
  },
  {
   "cell_type": "markdown",
   "id": "760ab7c2",
   "metadata": {},
   "source": [
    "## 2. Crie uma coluna chamada 'dormitory_type\n",
    "\n",
    "se o valor valor da coluna 'bedrooms' for igual à 1= 'studio'\n",
    "se o valor valor da coluna 'bedrooms' for igual à 2= 'apartament'\n",
    "se o valor valor da coluna 'bedrooms' for maior do que 2= 'house'"
   ]
  },
  {
   "cell_type": "code",
   "execution_count": 50,
   "id": "f91a25da",
   "metadata": {},
   "outputs": [],
   "source": [
    "#criar uma coluna chamada 'dormitory_type'\n",
    "# fazer um filtro com a coluna 'bedrooms'\n",
    "# fazer uma condição boleana para as condições para classificar o tipo do imóvel\n",
    "\n",
    "df['dormitory_type'] = 'type'\n",
    "\n",
    "df.loc[df['bedrooms']==1,'dormitory_type'] = 'studio'\n",
    "df.loc[df['bedrooms']==2, 'dormitory_type'] = 'apartament'\n",
    "df.loc[df['bedrooms']>2, 'dormitory_type'] = 'house'"
   ]
  },
  {
   "cell_type": "code",
   "execution_count": null,
   "id": "4adfc774",
   "metadata": {},
   "outputs": [],
   "source": []
  },
  {
   "cell_type": "code",
   "execution_count": null,
   "id": "c216cb9d",
   "metadata": {},
   "outputs": [],
   "source": []
  }
 ],
 "metadata": {
  "kernelspec": {
   "display_name": "Python 3 (ipykernel)",
   "language": "python",
   "name": "python3"
  },
  "language_info": {
   "codemirror_mode": {
    "name": "ipython",
    "version": 3
   },
   "file_extension": ".py",
   "mimetype": "text/x-python",
   "name": "python",
   "nbconvert_exporter": "python",
   "pygments_lexer": "ipython3",
   "version": "3.8.10"
  }
 },
 "nbformat": 4,
 "nbformat_minor": 5
}
