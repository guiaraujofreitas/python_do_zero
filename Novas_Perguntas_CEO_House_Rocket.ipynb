{
 "cells": [
  {
   "cell_type": "markdown",
   "id": "7f8b0a55",
   "metadata": {},
   "source": [
    "# 0.0 NOVAS PERGUNTAS DO CEO"
   ]
  },
  {
   "cell_type": "markdown",
   "id": "076d46af",
   "metadata": {},
   "source": [
    "1. Crie uma nova coluna chamada \"house_age\"\n",
    "    - se o valor da coluna \"date\" for maior que 2014-01-01 = 'new_house'\n",
    "    - se o valor da coluna \"date\" for menor que 2014-01-01 = 'old_house'\n",
    "    \n",
    "2. Crie uma coluna chamada 'dormitory_type\n",
    "    - se o valor valor da coluna 'bedrooms' for igual à 1= 'studio'\n",
    "    - se o valor valor da coluna 'bedrooms' for igual à 2= 'apartament'\n",
    "    - se o valor valor da coluna 'bedrooms' for maior do que 2= 'house'\n",
    " \n",
    "3. Crie uma nova coluna chamada \"condition_type\"\n",
    "    - se o valor da coluna 'condition' for menor ou igual à 2 = 'bad'\n",
    "    - se o valor da coluna 'condition' for igual à 3 ou 4 = 'regular'\n",
    "    - se o valor da coluna 'condition' igual à 5 = 'good'\n",
    "\n",
    "4. Modifique o tipo a coluna 'condition' para string\n",
    "\n",
    "5. Delete a coluna \"sqft_living15' e 'sqft_lot15'\n",
    "\n",
    "6. Modifique o tipo a coluna 'yr_build' para date\n",
    "\n",
    "7. Modifiqu o tipo a coluna 'yr_renovated' para date\n",
    "\n",
    "8. Qual é data mais antiga da construção do imóvel?\n",
    "\n",
    "9. Qual é data mais antiga da renovação de um imóvel?\n",
    "\n",
    "10. Quantos imóveis tem 2 andares?\n",
    "\n",
    "11. Quantos imóveis estão com a condição igual à 'regular'?\n",
    "\n",
    "12. Quantos imóveis estão com condição igual à 'bad' e tem \"vista para água\"?\n",
    "\n",
    "13. Quantos imóveis estão com condição igual á 'good' e são 'new_house'?\n",
    "\n",
    "14. Qual é o valor do imóvel do tipo 'studio'?\n",
    "\n",
    "15. Quantos imóveis do tipo 'apartament' foram reformados em 2015?\n",
    "\n",
    "16. Qual é o mair número de quartos de um imóvel do tipo 'house' possui?\n",
    "\n",
    "17. Quantos imóveis 'new_house' foram reformados em 2014?\n",
    "\n",
    "18. Selecione as colunas 'id', 'date','price','floors','zipcode', pelo método:\n",
    "    - Direto pelo nomes das colunas;\n",
    "    - Pelos índices;\n",
    "    - Pelos índices das linhas e nomes da colunas;\n",
    "    - Índices Booleanos.\n",
    "\n",
    "19. Salve um arquivo .csv somente com as colunas do item 10. \n",
    "\n",
    "20. Modifique a cor dos pontos do mapa de 'pink' para 'verde-escurto'"
   ]
  },
  {
   "cell_type": "markdown",
   "id": "dc072440",
   "metadata": {},
   "source": [
    "# 0.1 IMPORT"
   ]
  },
  {
   "cell_type": "code",
   "execution_count": 1,
   "id": "9944c5a5",
   "metadata": {},
   "outputs": [],
   "source": [
    "import pandas as pd\n"
   ]
  },
  {
   "cell_type": "markdown",
   "id": "87a2a0af",
   "metadata": {},
   "source": [
    "# 0.1 CARREGANDO O ARQUIVO"
   ]
  },
  {
   "cell_type": "code",
   "execution_count": 2,
   "id": "c146d80c",
   "metadata": {},
   "outputs": [],
   "source": [
    "df= pd.read_csv('./kc_house_data.csv')\n"
   ]
  },
  {
   "cell_type": "markdown",
   "id": "3ffdf62e",
   "metadata": {},
   "source": [
    "# Tipos das colunas"
   ]
  },
  {
   "cell_type": "code",
   "execution_count": 3,
   "id": "93a85e0d",
   "metadata": {},
   "outputs": [
    {
     "data": {
      "text/plain": [
       "id                 int64\n",
       "date              object\n",
       "price            float64\n",
       "bedrooms           int64\n",
       "bathrooms        float64\n",
       "sqft_living        int64\n",
       "sqft_lot           int64\n",
       "floors           float64\n",
       "waterfront         int64\n",
       "view               int64\n",
       "condition          int64\n",
       "grade              int64\n",
       "sqft_above         int64\n",
       "sqft_basement      int64\n",
       "yr_built           int64\n",
       "yr_renovated       int64\n",
       "zipcode            int64\n",
       "lat              float64\n",
       "long             float64\n",
       "sqft_living15      int64\n",
       "sqft_lot15         int64\n",
       "dtype: object"
      ]
     },
     "execution_count": 3,
     "metadata": {},
     "output_type": "execute_result"
    }
   ],
   "source": [
    "df.dtypes"
   ]
  },
  {
   "cell_type": "code",
   "execution_count": 4,
   "id": "bb0fe1a9",
   "metadata": {},
   "outputs": [],
   "source": [
    "# transformado os tipos de váriaveis"
   ]
  },
  {
   "cell_type": "code",
   "execution_count": 5,
   "id": "8377251a",
   "metadata": {},
   "outputs": [],
   "source": [
    "df['date']= pd.to_datetime(df['date'])"
   ]
  },
  {
   "cell_type": "code",
   "execution_count": 6,
   "id": "3e0b4449",
   "metadata": {},
   "outputs": [
    {
     "data": {
      "text/plain": [
       "id                        int64\n",
       "date             datetime64[ns]\n",
       "price                   float64\n",
       "bedrooms                  int64\n",
       "bathrooms               float64\n",
       "sqft_living               int64\n",
       "sqft_lot                  int64\n",
       "floors                  float64\n",
       "waterfront                int64\n",
       "view                      int64\n",
       "condition                 int64\n",
       "grade                     int64\n",
       "sqft_above                int64\n",
       "sqft_basement             int64\n",
       "yr_built                  int64\n",
       "yr_renovated              int64\n",
       "zipcode                   int64\n",
       "lat                     float64\n",
       "long                    float64\n",
       "sqft_living15             int64\n",
       "sqft_lot15                int64\n",
       "dtype: object"
      ]
     },
     "execution_count": 6,
     "metadata": {},
     "output_type": "execute_result"
    }
   ],
   "source": [
    "df.dtypes"
   ]
  },
  {
   "cell_type": "markdown",
   "id": "7129a371",
   "metadata": {},
   "source": [
    "## 1. Crie uma nova coluna chamada \"house_age\"\n",
    "     - se o valor da coluna \"date\" for maior que 2014-01-01 = 'new_house'\n",
    "    - se o valor da coluna \"date\" for menor que 2014-01-01 = 'old_house'\n",
    "    "
   ]
  },
  {
   "cell_type": "code",
   "execution_count": 18,
   "id": "f632831f",
   "metadata": {},
   "outputs": [],
   "source": [
    "# criar uma nova coluna\n",
    "# fazer um filtro para coluna date\n",
    "# fazer uma condição boleana para as data\n",
    "\n",
    "#usando a função lambada x\n",
    "\n",
    "#df['house_age'] = 'age'\n",
    "\n",
    "df['house_age']= df['date'].apply(lambda x: 'new_house' if x>= pd.to_datetime('2014-01-01') else 'old_house')\n",
    "\n",
    "#usando fitro (mas deveria ter transformando 2014 em datetime)\n",
    "\n",
    "#df.loc[df['date']>'2014-01-01','house_age']= 'new_house'\n",
    "\n",
    "#df.loc[df['date']< '2014-01-01','house_age']=' old_house'"
   ]
  },
  {
   "cell_type": "code",
   "execution_count": null,
   "id": "57302b9f",
   "metadata": {},
   "outputs": [],
   "source": []
  },
  {
   "cell_type": "markdown",
   "id": "760ab7c2",
   "metadata": {},
   "source": [
    "## 2. Crie uma coluna chamada 'dormitory_type\n",
    "\n",
    "se o valor valor da coluna 'bedrooms' for igual à 1= 'studio'\n",
    "se o valor valor da coluna 'bedrooms' for igual à 2= 'apartament'\n",
    "se o valor valor da coluna 'bedrooms' for maior do que 2= 'house'"
   ]
  },
  {
   "cell_type": "code",
   "execution_count": 13,
   "id": "f7cbd191",
   "metadata": {},
   "outputs": [],
   "source": [
    "###### criar uma coluna chamada 'dormitory_type'\n",
    "# fazer um filtro com a coluna 'bedrooms'\n",
    "# fazer uma condição boleana para as condições para classificar o tipo do imóvel\n",
    "\n",
    "df['dormitory_type'] = 'type'\n",
    "\n",
    "df['dormitory_type']= df['bedrooms'].apply(lambda x: 'house' if x > 2 else \n",
    "                                           'apartament' \n",
    "                                           if x==2 else \n",
    "                                           'studio' if x==1 else 'NA') \n",
    "\n",
    "#usando filtros\n",
    "\n",
    "#df.loc[df['bedrooms']==1,'dormitory_type'] = 'studio'\n",
    "#df.loc[df['bedrooms']==2, 'dormitory_type'] = 'apartament'\n",
    "#df.loc[df['bedrooms']>2, 'dormitory_type'] = 'house'"
   ]
  },
  {
   "cell_type": "markdown",
   "id": "80c3c776",
   "metadata": {},
   "source": [
    "## 3. Crie uma nova coluna chamada \"condition_type\"\n",
    "\n",
    "se o valor da coluna 'condition' for menor ou igual à 2 = 'bad'\n",
    "se o valor da coluna 'condition' for igual à 3 ou 4 = 'regular'\n",
    "se o valor da coluna 'condition' igual à 5 = 'good'"
   ]
  },
  {
   "cell_type": "code",
   "execution_count": 14,
   "id": "c216cb9d",
   "metadata": {},
   "outputs": [],
   "source": [
    "#criar uma nova coluna \n",
    "# fazer um filtro\n",
    "# fazer uma condição boleana. \n",
    "\n",
    "df['condition_type']= df['condition'].apply(lambda x: 'good' if x== 5 else \n",
    "                                            'regular' if x>=3 else \n",
    "                                            'bad' if x<=2 else 'NA')\n",
    "\n",
    "\n",
    "#usando método com filtro\n",
    "#df['condition_type']= 'type'\n",
    "\n",
    "#df.loc[df['condition']<=2,'condition_type']='bad'\n",
    "#df.loc[df['condition']>=3,'condition_type']='regular'\n",
    "#df.loc[df['condition']==5,'condition_type']='good'\n",
    "\n"
   ]
  },
  {
   "cell_type": "code",
   "execution_count": 15,
   "id": "e6a3310e",
   "metadata": {},
   "outputs": [
    {
     "data": {
      "text/plain": [
       "0    regular\n",
       "1    regular\n",
       "2    regular\n",
       "3       good\n",
       "4    regular\n",
       "Name: condition_type, dtype: object"
      ]
     },
     "execution_count": 15,
     "metadata": {},
     "output_type": "execute_result"
    }
   ],
   "source": [
    "df['condition_type'].head()"
   ]
  },
  {
   "cell_type": "markdown",
   "id": "16657ed0",
   "metadata": {},
   "source": [
    "## 4. Modifique o tipo a coluna 'condition' para string"
   ]
  },
  {
   "cell_type": "code",
   "execution_count": 23,
   "id": "3040faf5",
   "metadata": {},
   "outputs": [
    {
     "data": {
      "text/plain": [
       "id                         int64\n",
       "date              datetime64[ns]\n",
       "price                    float64\n",
       "bedrooms                   int64\n",
       "bathrooms                float64\n",
       "sqft_living                int64\n",
       "sqft_lot                   int64\n",
       "floors                   float64\n",
       "waterfront                 int64\n",
       "view                       int64\n",
       "condition                 object\n",
       "grade                      int64\n",
       "sqft_above                 int64\n",
       "sqft_basement              int64\n",
       "yr_built                   int64\n",
       "yr_renovated               int64\n",
       "zipcode                    int64\n",
       "lat                      float64\n",
       "long                     float64\n",
       "house_age                 object\n",
       "dormitory_type            object\n",
       "condition_type            object\n",
       "dtype: object"
      ]
     },
     "execution_count": 23,
     "metadata": {},
     "output_type": "execute_result"
    }
   ],
   "source": [
    "df['condition']= df['condition'].astype(str)\n",
    "\n",
    "df.dtypes"
   ]
  },
  {
   "cell_type": "markdown",
   "id": "e654b710",
   "metadata": {},
   "source": [
    "## 5.Delete a coluna \"sqft_living15' e 'sqft_lot15'"
   ]
  },
  {
   "cell_type": "code",
   "execution_count": 24,
   "id": "586fc498",
   "metadata": {},
   "outputs": [
    {
     "ename": "KeyError",
     "evalue": "\"['sqft_living15' 'sqft_lot15'] not found in axis\"",
     "output_type": "error",
     "traceback": [
      "\u001b[0;31m---------------------------------------------------------------------------\u001b[0m",
      "\u001b[0;31mKeyError\u001b[0m                                  Traceback (most recent call last)",
      "\u001b[0;32m/tmp/ipykernel_7713/1354085762.py\u001b[0m in \u001b[0;36m<module>\u001b[0;34m\u001b[0m\n\u001b[0;32m----> 1\u001b[0;31m \u001b[0mdf\u001b[0m\u001b[0;34m=\u001b[0m \u001b[0mdf\u001b[0m\u001b[0;34m.\u001b[0m\u001b[0mdrop\u001b[0m\u001b[0;34m(\u001b[0m\u001b[0;34m[\u001b[0m\u001b[0;34m'sqft_living15'\u001b[0m\u001b[0;34m,\u001b[0m\u001b[0;34m'sqft_lot15'\u001b[0m\u001b[0;34m]\u001b[0m\u001b[0;34m,\u001b[0m\u001b[0maxis\u001b[0m\u001b[0;34m=\u001b[0m\u001b[0;36m1\u001b[0m\u001b[0;34m)\u001b[0m\u001b[0;34m\u001b[0m\u001b[0;34m\u001b[0m\u001b[0m\n\u001b[0m\u001b[1;32m      2\u001b[0m \u001b[0;34m\u001b[0m\u001b[0m\n\u001b[1;32m      3\u001b[0m \u001b[0;34m\u001b[0m\u001b[0m\n\u001b[1;32m      4\u001b[0m \u001b[0;34m\u001b[0m\u001b[0m\n",
      "\u001b[0;32m~/.local/lib/python3.8/site-packages/pandas/util/_decorators.py\u001b[0m in \u001b[0;36mwrapper\u001b[0;34m(*args, **kwargs)\u001b[0m\n\u001b[1;32m    309\u001b[0m                     \u001b[0mstacklevel\u001b[0m\u001b[0;34m=\u001b[0m\u001b[0mstacklevel\u001b[0m\u001b[0;34m,\u001b[0m\u001b[0;34m\u001b[0m\u001b[0;34m\u001b[0m\u001b[0m\n\u001b[1;32m    310\u001b[0m                 )\n\u001b[0;32m--> 311\u001b[0;31m             \u001b[0;32mreturn\u001b[0m \u001b[0mfunc\u001b[0m\u001b[0;34m(\u001b[0m\u001b[0;34m*\u001b[0m\u001b[0margs\u001b[0m\u001b[0;34m,\u001b[0m \u001b[0;34m**\u001b[0m\u001b[0mkwargs\u001b[0m\u001b[0;34m)\u001b[0m\u001b[0;34m\u001b[0m\u001b[0;34m\u001b[0m\u001b[0m\n\u001b[0m\u001b[1;32m    312\u001b[0m \u001b[0;34m\u001b[0m\u001b[0m\n\u001b[1;32m    313\u001b[0m         \u001b[0;32mreturn\u001b[0m \u001b[0mwrapper\u001b[0m\u001b[0;34m\u001b[0m\u001b[0;34m\u001b[0m\u001b[0m\n",
      "\u001b[0;32m~/.local/lib/python3.8/site-packages/pandas/core/frame.py\u001b[0m in \u001b[0;36mdrop\u001b[0;34m(self, labels, axis, index, columns, level, inplace, errors)\u001b[0m\n\u001b[1;32m   4904\u001b[0m                 \u001b[0mweight\u001b[0m  \u001b[0;36m1.0\u001b[0m     \u001b[0;36m0.8\u001b[0m\u001b[0;34m\u001b[0m\u001b[0;34m\u001b[0m\u001b[0m\n\u001b[1;32m   4905\u001b[0m         \"\"\"\n\u001b[0;32m-> 4906\u001b[0;31m         return super().drop(\n\u001b[0m\u001b[1;32m   4907\u001b[0m             \u001b[0mlabels\u001b[0m\u001b[0;34m=\u001b[0m\u001b[0mlabels\u001b[0m\u001b[0;34m,\u001b[0m\u001b[0;34m\u001b[0m\u001b[0;34m\u001b[0m\u001b[0m\n\u001b[1;32m   4908\u001b[0m             \u001b[0maxis\u001b[0m\u001b[0;34m=\u001b[0m\u001b[0maxis\u001b[0m\u001b[0;34m,\u001b[0m\u001b[0;34m\u001b[0m\u001b[0;34m\u001b[0m\u001b[0m\n",
      "\u001b[0;32m~/.local/lib/python3.8/site-packages/pandas/core/generic.py\u001b[0m in \u001b[0;36mdrop\u001b[0;34m(self, labels, axis, index, columns, level, inplace, errors)\u001b[0m\n\u001b[1;32m   4148\u001b[0m         \u001b[0;32mfor\u001b[0m \u001b[0maxis\u001b[0m\u001b[0;34m,\u001b[0m \u001b[0mlabels\u001b[0m \u001b[0;32min\u001b[0m \u001b[0maxes\u001b[0m\u001b[0;34m.\u001b[0m\u001b[0mitems\u001b[0m\u001b[0;34m(\u001b[0m\u001b[0;34m)\u001b[0m\u001b[0;34m:\u001b[0m\u001b[0;34m\u001b[0m\u001b[0;34m\u001b[0m\u001b[0m\n\u001b[1;32m   4149\u001b[0m             \u001b[0;32mif\u001b[0m \u001b[0mlabels\u001b[0m \u001b[0;32mis\u001b[0m \u001b[0;32mnot\u001b[0m \u001b[0;32mNone\u001b[0m\u001b[0;34m:\u001b[0m\u001b[0;34m\u001b[0m\u001b[0;34m\u001b[0m\u001b[0m\n\u001b[0;32m-> 4150\u001b[0;31m                 \u001b[0mobj\u001b[0m \u001b[0;34m=\u001b[0m \u001b[0mobj\u001b[0m\u001b[0;34m.\u001b[0m\u001b[0m_drop_axis\u001b[0m\u001b[0;34m(\u001b[0m\u001b[0mlabels\u001b[0m\u001b[0;34m,\u001b[0m \u001b[0maxis\u001b[0m\u001b[0;34m,\u001b[0m \u001b[0mlevel\u001b[0m\u001b[0;34m=\u001b[0m\u001b[0mlevel\u001b[0m\u001b[0;34m,\u001b[0m \u001b[0merrors\u001b[0m\u001b[0;34m=\u001b[0m\u001b[0merrors\u001b[0m\u001b[0;34m)\u001b[0m\u001b[0;34m\u001b[0m\u001b[0;34m\u001b[0m\u001b[0m\n\u001b[0m\u001b[1;32m   4151\u001b[0m \u001b[0;34m\u001b[0m\u001b[0m\n\u001b[1;32m   4152\u001b[0m         \u001b[0;32mif\u001b[0m \u001b[0minplace\u001b[0m\u001b[0;34m:\u001b[0m\u001b[0;34m\u001b[0m\u001b[0;34m\u001b[0m\u001b[0m\n",
      "\u001b[0;32m~/.local/lib/python3.8/site-packages/pandas/core/generic.py\u001b[0m in \u001b[0;36m_drop_axis\u001b[0;34m(self, labels, axis, level, errors)\u001b[0m\n\u001b[1;32m   4183\u001b[0m                 \u001b[0mnew_axis\u001b[0m \u001b[0;34m=\u001b[0m \u001b[0maxis\u001b[0m\u001b[0;34m.\u001b[0m\u001b[0mdrop\u001b[0m\u001b[0;34m(\u001b[0m\u001b[0mlabels\u001b[0m\u001b[0;34m,\u001b[0m \u001b[0mlevel\u001b[0m\u001b[0;34m=\u001b[0m\u001b[0mlevel\u001b[0m\u001b[0;34m,\u001b[0m \u001b[0merrors\u001b[0m\u001b[0;34m=\u001b[0m\u001b[0merrors\u001b[0m\u001b[0;34m)\u001b[0m\u001b[0;34m\u001b[0m\u001b[0;34m\u001b[0m\u001b[0m\n\u001b[1;32m   4184\u001b[0m             \u001b[0;32melse\u001b[0m\u001b[0;34m:\u001b[0m\u001b[0;34m\u001b[0m\u001b[0;34m\u001b[0m\u001b[0m\n\u001b[0;32m-> 4185\u001b[0;31m                 \u001b[0mnew_axis\u001b[0m \u001b[0;34m=\u001b[0m \u001b[0maxis\u001b[0m\u001b[0;34m.\u001b[0m\u001b[0mdrop\u001b[0m\u001b[0;34m(\u001b[0m\u001b[0mlabels\u001b[0m\u001b[0;34m,\u001b[0m \u001b[0merrors\u001b[0m\u001b[0;34m=\u001b[0m\u001b[0merrors\u001b[0m\u001b[0;34m)\u001b[0m\u001b[0;34m\u001b[0m\u001b[0;34m\u001b[0m\u001b[0m\n\u001b[0m\u001b[1;32m   4186\u001b[0m             \u001b[0mresult\u001b[0m \u001b[0;34m=\u001b[0m \u001b[0mself\u001b[0m\u001b[0;34m.\u001b[0m\u001b[0mreindex\u001b[0m\u001b[0;34m(\u001b[0m\u001b[0;34m**\u001b[0m\u001b[0;34m{\u001b[0m\u001b[0maxis_name\u001b[0m\u001b[0;34m:\u001b[0m \u001b[0mnew_axis\u001b[0m\u001b[0;34m}\u001b[0m\u001b[0;34m)\u001b[0m\u001b[0;34m\u001b[0m\u001b[0;34m\u001b[0m\u001b[0m\n\u001b[1;32m   4187\u001b[0m \u001b[0;34m\u001b[0m\u001b[0m\n",
      "\u001b[0;32m~/.local/lib/python3.8/site-packages/pandas/core/indexes/base.py\u001b[0m in \u001b[0;36mdrop\u001b[0;34m(self, labels, errors)\u001b[0m\n\u001b[1;32m   6015\u001b[0m         \u001b[0;32mif\u001b[0m \u001b[0mmask\u001b[0m\u001b[0;34m.\u001b[0m\u001b[0many\u001b[0m\u001b[0;34m(\u001b[0m\u001b[0;34m)\u001b[0m\u001b[0;34m:\u001b[0m\u001b[0;34m\u001b[0m\u001b[0;34m\u001b[0m\u001b[0m\n\u001b[1;32m   6016\u001b[0m             \u001b[0;32mif\u001b[0m \u001b[0merrors\u001b[0m \u001b[0;34m!=\u001b[0m \u001b[0;34m\"ignore\"\u001b[0m\u001b[0;34m:\u001b[0m\u001b[0;34m\u001b[0m\u001b[0;34m\u001b[0m\u001b[0m\n\u001b[0;32m-> 6017\u001b[0;31m                 \u001b[0;32mraise\u001b[0m \u001b[0mKeyError\u001b[0m\u001b[0;34m(\u001b[0m\u001b[0;34mf\"{labels[mask]} not found in axis\"\u001b[0m\u001b[0;34m)\u001b[0m\u001b[0;34m\u001b[0m\u001b[0;34m\u001b[0m\u001b[0m\n\u001b[0m\u001b[1;32m   6018\u001b[0m             \u001b[0mindexer\u001b[0m \u001b[0;34m=\u001b[0m \u001b[0mindexer\u001b[0m\u001b[0;34m[\u001b[0m\u001b[0;34m~\u001b[0m\u001b[0mmask\u001b[0m\u001b[0;34m]\u001b[0m\u001b[0;34m\u001b[0m\u001b[0;34m\u001b[0m\u001b[0m\n\u001b[1;32m   6019\u001b[0m         \u001b[0;32mreturn\u001b[0m \u001b[0mself\u001b[0m\u001b[0;34m.\u001b[0m\u001b[0mdelete\u001b[0m\u001b[0;34m(\u001b[0m\u001b[0mindexer\u001b[0m\u001b[0;34m)\u001b[0m\u001b[0;34m\u001b[0m\u001b[0;34m\u001b[0m\u001b[0m\n",
      "\u001b[0;31mKeyError\u001b[0m: \"['sqft_living15' 'sqft_lot15'] not found in axis\""
     ]
    }
   ],
   "source": [
    "df= df.drop(['sqft_living15','sqft_lot15'],axis=1)\n",
    "\n",
    "\n",
    "\n"
   ]
  },
  {
   "cell_type": "markdown",
   "id": "e59bfe57",
   "metadata": {},
   "source": [
    "## 6. Modifique o tipo a coluna 'yr_built' para date"
   ]
  },
  {
   "cell_type": "code",
   "execution_count": 25,
   "id": "1661b71c",
   "metadata": {},
   "outputs": [],
   "source": [
    "df['yr_built']= pd.to_datetime(df['yr_built'])"
   ]
  },
  {
   "cell_type": "markdown",
   "id": "e5d02a3f",
   "metadata": {},
   "source": [
    "## 7. Modifiqu o tipo a coluna 'yr_renovated' para date"
   ]
  },
  {
   "cell_type": "code",
   "execution_count": 26,
   "id": "103a2bcc",
   "metadata": {},
   "outputs": [],
   "source": [
    "df['yr_renovated']= pd.to_datetime(df['yr_renovated'])"
   ]
  },
  {
   "cell_type": "markdown",
   "id": "89030f36",
   "metadata": {},
   "source": [
    "## 8. Qual é data mais antiga da construção do imóvel?"
   ]
  },
  {
   "cell_type": "code",
   "execution_count": 27,
   "id": "c1e5601a",
   "metadata": {},
   "outputs": [
    {
     "data": {
      "text/plain": [
       "Timestamp('2014-06-10 00:00:00')"
      ]
     },
     "execution_count": 27,
     "metadata": {},
     "output_type": "execute_result"
    }
   ],
   "source": [
    "## selecionar a coluna da construção\n",
    "## ordenar as datas em ordem do menor para maior\n",
    "\n",
    "df[['date','yr_built']].sort_values('yr_built',ascending=True).reset_index(drop=True).loc[0,'date']"
   ]
  },
  {
   "cell_type": "markdown",
   "id": "2f5cc671",
   "metadata": {},
   "source": [
    "## 9. Qual é data mais antiga da renovação de um imóvel?"
   ]
  },
  {
   "cell_type": "code",
   "execution_count": 14,
   "id": "8d7e1410",
   "metadata": {},
   "outputs": [
    {
     "data": {
      "text/plain": [
       "Timestamp('2014-10-13 00:00:00')"
      ]
     },
     "execution_count": 14,
     "metadata": {},
     "output_type": "execute_result"
    }
   ],
   "source": [
    "df[['date','yr_renovated']].sort_values('yr_renovated',ascending=True).reset_index(drop=True).loc[0,'date']"
   ]
  },
  {
   "cell_type": "markdown",
   "id": "a177d710",
   "metadata": {},
   "source": [
    "## 10. Quantos imóveis tem 2 andares?"
   ]
  },
  {
   "cell_type": "code",
   "execution_count": 15,
   "id": "2a36dbb0",
   "metadata": {},
   "outputs": [
    {
     "data": {
      "text/plain": [
       "8241"
      ]
     },
     "execution_count": 15,
     "metadata": {},
     "output_type": "execute_result"
    }
   ],
   "source": [
    "#selecionar a coluna dos andares\n",
    "# fazer um filtro\n",
    "# fazer uma condição boleana com o filtro\n",
    "# contar os imoveis com esse perfil\n",
    "\n",
    "len(df.loc[df['floors']==2,'floors'])"
   ]
  },
  {
   "cell_type": "markdown",
   "id": "545eee68",
   "metadata": {},
   "source": [
    "## 11. Quantos imóveis estão com a condição igual à 'regular'?"
   ]
  },
  {
   "cell_type": "code",
   "execution_count": 16,
   "id": "7a2cd3f3",
   "metadata": {},
   "outputs": [
    {
     "data": {
      "text/plain": [
       "19710"
      ]
     },
     "execution_count": 16,
     "metadata": {},
     "output_type": "execute_result"
    }
   ],
   "source": [
    "# selecionar a coluna do tipo de condição (condition_type)\n",
    "# fazer um filtro\n",
    "# fazer uma condição boleana \n",
    "# contar a quantidade de imoveis com esse perfil\n",
    "\n",
    "df.loc[df['condition_type']=='regular','condition_type'].size"
   ]
  },
  {
   "cell_type": "markdown",
   "id": "4becbff6",
   "metadata": {},
   "source": [
    "## 12. Quantos imóveis estão com condição igual à 'bad' e tem \"vista para água\"?"
   ]
  },
  {
   "cell_type": "code",
   "execution_count": 17,
   "id": "cdbc9f6a",
   "metadata": {},
   "outputs": [
    {
     "data": {
      "text/plain": [
       "44"
      ]
     },
     "execution_count": 17,
     "metadata": {},
     "output_type": "execute_result"
    }
   ],
   "source": [
    "# selecionar as colunas condition_type e waterfront\n",
    "# fazer um filtro com &\n",
    "# fazer uma condição boleana\n",
    "# contar (len/size)\n",
    "\n",
    "df.loc[(df['condition_type']=='bad') & (df['waterfront']==1)].size"
   ]
  },
  {
   "cell_type": "markdown",
   "id": "fc87789d",
   "metadata": {},
   "source": [
    "## 13. Quantos imóveis estão com condição igual á 'good' e são 'new_house'?"
   ]
  },
  {
   "cell_type": "code",
   "execution_count": 18,
   "id": "a64357e9",
   "metadata": {},
   "outputs": [
    {
     "data": {
      "text/plain": [
       "37422"
      ]
     },
     "execution_count": 18,
     "metadata": {},
     "output_type": "execute_result"
    }
   ],
   "source": [
    "# selecionar as coluas condition_tye e house_age\n",
    "# fazer um filtro com condição & e condição boleana\n",
    "# contar (len/size)\n",
    "\n",
    "df.loc[(df['condition_type']=='good') & (df['house_age']=='new_house')].size"
   ]
  },
  {
   "cell_type": "markdown",
   "id": "ec90f1b7",
   "metadata": {},
   "source": [
    "## 14. Qual é o valor do imóvel mais cara do tipo 'studio'?"
   ]
  },
  {
   "cell_type": "code",
   "execution_count": 19,
   "id": "17fc1c07",
   "metadata": {},
   "outputs": [
    {
     "data": {
      "text/plain": [
       "75000.0"
      ]
     },
     "execution_count": 19,
     "metadata": {},
     "output_type": "execute_result"
    }
   ],
   "source": [
    "# selecionar a coluna price e dormitory_type\n",
    "# ordenar do maior preço para o menor\n",
    "\n",
    "df[['price','dormitory_type']].sort_values('price',ascending=True).reset_index(drop=True).loc[0,'price']"
   ]
  },
  {
   "cell_type": "markdown",
   "id": "b0ba4f43",
   "metadata": {},
   "source": [
    "## 15. Quantos imóveis do tipo 'apartament' foram reformados em 2015?"
   ]
  },
  {
   "cell_type": "code",
   "execution_count": 20,
   "id": "0e3363b3",
   "metadata": {},
   "outputs": [
    {
     "data": {
      "text/plain": [
       "2760"
      ]
     },
     "execution_count": 20,
     "metadata": {},
     "output_type": "execute_result"
    }
   ],
   "source": [
    "# selecionar as colunas dormitory_type e  'yr_renovated'\n",
    "# fazer um filtro\n",
    "# contar (len/size)\n",
    "\n",
    "df.loc[df['dormitory_type']=='apartament','yr_renovated'].size"
   ]
  },
  {
   "cell_type": "markdown",
   "id": "ae20b38b",
   "metadata": {},
   "source": [
    "## 16. Qual é o mair número de quartos de um imóvel do tipo 'house' possui?"
   ]
  },
  {
   "cell_type": "code",
   "execution_count": 21,
   "id": "481c9283",
   "metadata": {},
   "outputs": [
    {
     "data": {
      "text/plain": [
       "33"
      ]
     },
     "execution_count": 21,
     "metadata": {},
     "output_type": "execute_result"
    }
   ],
   "source": [
    "# selecionar a coluna bedrooms e dormitory_type\n",
    "# fazer uma condição boleana \n",
    "# ordenar em ordem crescente / ou usar função max()\n",
    "\n",
    "\n",
    "df.loc[df['dormitory_type']=='house','bedrooms'].max()\n",
    "\n",
    "\n"
   ]
  },
  {
   "cell_type": "markdown",
   "id": "4a95a551",
   "metadata": {},
   "source": [
    "## 17. Quantos imóveis 'new_house' foram reformados em 2014?"
   ]
  },
  {
   "cell_type": "code",
   "execution_count": 22,
   "id": "e5a5bc7f",
   "metadata": {},
   "outputs": [
    {
     "data": {
      "text/plain": [
       "0"
      ]
     },
     "execution_count": 22,
     "metadata": {},
     "output_type": "execute_result"
    }
   ],
   "source": [
    "# selecionar a coluna 'house_age'\n",
    "# fazer uma condição boleana\n",
    "# contar (len ou size)\n",
    "\n",
    "df['ano']= df['date'].dt.year\n",
    "\n",
    "\n",
    "df.loc[(df['ano']=='2014') & (df['house_age']=='new_house')].size"
   ]
  },
  {
   "cell_type": "markdown",
   "id": "175ba2f7",
   "metadata": {},
   "source": [
    "## 18.Selecione as colunas 'id', 'date','price','floors','zipcode', pelo método:\n",
    "\n",
    "Direto pelo nomes das colunas;\n",
    "Pelos índices;\n",
    "Pelos índices das linhas e nomes da colunas;\n",
    "Índices Booleanos."
   ]
  },
  {
   "cell_type": "code",
   "execution_count": 23,
   "id": "634bceff",
   "metadata": {},
   "outputs": [],
   "source": [
    "#1 método\n",
    "df_names= df[['id','date','price','floors','zipcode']]\n"
   ]
  },
  {
   "cell_type": "code",
   "execution_count": 24,
   "id": "a7166e3e",
   "metadata": {},
   "outputs": [],
   "source": [
    "#df_indice= df.iloc[:8]\n",
    "\n",
    "df_indice= df_names.iloc[0:0,0:]\n",
    "\n"
   ]
  },
  {
   "cell_type": "code",
   "execution_count": 81,
   "id": "e4156c49",
   "metadata": {},
   "outputs": [
    {
     "data": {
      "text/html": [
       "<div>\n",
       "<style scoped>\n",
       "    .dataframe tbody tr th:only-of-type {\n",
       "        vertical-align: middle;\n",
       "    }\n",
       "\n",
       "    .dataframe tbody tr th {\n",
       "        vertical-align: top;\n",
       "    }\n",
       "\n",
       "    .dataframe thead th {\n",
       "        text-align: right;\n",
       "    }\n",
       "</style>\n",
       "<table border=\"1\" class=\"dataframe\">\n",
       "  <thead>\n",
       "    <tr style=\"text-align: right;\">\n",
       "      <th></th>\n",
       "      <th>id</th>\n",
       "      <th>date</th>\n",
       "      <th>price</th>\n",
       "      <th>floors</th>\n",
       "      <th>zipcode</th>\n",
       "    </tr>\n",
       "  </thead>\n",
       "  <tbody>\n",
       "    <tr>\n",
       "      <th>0</th>\n",
       "      <td>7129300520</td>\n",
       "      <td>2014-10-13</td>\n",
       "      <td>221900.0</td>\n",
       "      <td>1.0</td>\n",
       "      <td>98178</td>\n",
       "    </tr>\n",
       "    <tr>\n",
       "      <th>1</th>\n",
       "      <td>6414100192</td>\n",
       "      <td>2014-12-09</td>\n",
       "      <td>538000.0</td>\n",
       "      <td>2.0</td>\n",
       "      <td>98125</td>\n",
       "    </tr>\n",
       "    <tr>\n",
       "      <th>2</th>\n",
       "      <td>5631500400</td>\n",
       "      <td>2015-02-25</td>\n",
       "      <td>180000.0</td>\n",
       "      <td>1.0</td>\n",
       "      <td>98028</td>\n",
       "    </tr>\n",
       "    <tr>\n",
       "      <th>3</th>\n",
       "      <td>2487200875</td>\n",
       "      <td>2014-12-09</td>\n",
       "      <td>604000.0</td>\n",
       "      <td>1.0</td>\n",
       "      <td>98136</td>\n",
       "    </tr>\n",
       "    <tr>\n",
       "      <th>4</th>\n",
       "      <td>1954400510</td>\n",
       "      <td>2015-02-18</td>\n",
       "      <td>510000.0</td>\n",
       "      <td>1.0</td>\n",
       "      <td>98074</td>\n",
       "    </tr>\n",
       "    <tr>\n",
       "      <th>...</th>\n",
       "      <td>...</td>\n",
       "      <td>...</td>\n",
       "      <td>...</td>\n",
       "      <td>...</td>\n",
       "      <td>...</td>\n",
       "    </tr>\n",
       "    <tr>\n",
       "      <th>21608</th>\n",
       "      <td>263000018</td>\n",
       "      <td>2014-05-21</td>\n",
       "      <td>360000.0</td>\n",
       "      <td>3.0</td>\n",
       "      <td>98103</td>\n",
       "    </tr>\n",
       "    <tr>\n",
       "      <th>21609</th>\n",
       "      <td>6600060120</td>\n",
       "      <td>2015-02-23</td>\n",
       "      <td>400000.0</td>\n",
       "      <td>2.0</td>\n",
       "      <td>98146</td>\n",
       "    </tr>\n",
       "    <tr>\n",
       "      <th>21610</th>\n",
       "      <td>1523300141</td>\n",
       "      <td>2014-06-23</td>\n",
       "      <td>402101.0</td>\n",
       "      <td>2.0</td>\n",
       "      <td>98144</td>\n",
       "    </tr>\n",
       "    <tr>\n",
       "      <th>21611</th>\n",
       "      <td>291310100</td>\n",
       "      <td>2015-01-16</td>\n",
       "      <td>400000.0</td>\n",
       "      <td>2.0</td>\n",
       "      <td>98027</td>\n",
       "    </tr>\n",
       "    <tr>\n",
       "      <th>21612</th>\n",
       "      <td>1523300157</td>\n",
       "      <td>2014-10-15</td>\n",
       "      <td>325000.0</td>\n",
       "      <td>2.0</td>\n",
       "      <td>98144</td>\n",
       "    </tr>\n",
       "  </tbody>\n",
       "</table>\n",
       "<p>21613 rows × 5 columns</p>\n",
       "</div>"
      ],
      "text/plain": [
       "               id       date     price  floors  zipcode\n",
       "0      7129300520 2014-10-13  221900.0     1.0    98178\n",
       "1      6414100192 2014-12-09  538000.0     2.0    98125\n",
       "2      5631500400 2015-02-25  180000.0     1.0    98028\n",
       "3      2487200875 2014-12-09  604000.0     1.0    98136\n",
       "4      1954400510 2015-02-18  510000.0     1.0    98074\n",
       "...           ...        ...       ...     ...      ...\n",
       "21608   263000018 2014-05-21  360000.0     3.0    98103\n",
       "21609  6600060120 2015-02-23  400000.0     2.0    98146\n",
       "21610  1523300141 2014-06-23  402101.0     2.0    98144\n",
       "21611   291310100 2015-01-16  400000.0     2.0    98027\n",
       "21612  1523300157 2014-10-15  325000.0     2.0    98144\n",
       "\n",
       "[21613 rows x 5 columns]"
      ]
     },
     "execution_count": 81,
     "metadata": {},
     "output_type": "execute_result"
    }
   ],
   "source": [
    "df_linha= df_names.iloc[0:,0:]\n",
    "\n",
    "df_linha"
   ]
  },
  {
   "cell_type": "markdown",
   "id": "2cdb08af",
   "metadata": {},
   "source": [
    "## 19. Salve um arquivo .csv somente com as colunas do item 10"
   ]
  },
  {
   "cell_type": "code",
   "execution_count": 25,
   "id": "f3c1ab96",
   "metadata": {},
   "outputs": [],
   "source": [
    "#new_question= pd.to_csv('./new_question_house.csv')"
   ]
  },
  {
   "cell_type": "markdown",
   "id": "c12fa3c2",
   "metadata": {},
   "source": [
    "## 20. Modifique a cor dos pontos do mapa de 'pink' para 'verde-escurto'"
   ]
  },
  {
   "cell_type": "code",
   "execution_count": 34,
   "id": "5a124009",
   "metadata": {},
   "outputs": [],
   "source": [
    "mapa= open('./mapa_house_rocket.html')"
   ]
  },
  {
   "cell_type": "code",
   "execution_count": 36,
   "id": "2b388eb0",
   "metadata": {},
   "outputs": [
    {
     "data": {
      "text/plain": [
       "<_io.TextIOWrapper name='./mapa_house_rocket.html' mode='r' encoding='UTF-8'>"
      ]
     },
     "execution_count": 36,
     "metadata": {},
     "output_type": "execute_result"
    }
   ],
   "source": []
  },
  {
   "cell_type": "code",
   "execution_count": null,
   "id": "4cee8741",
   "metadata": {},
   "outputs": [],
   "source": []
  }
 ],
 "metadata": {
  "kernelspec": {
   "display_name": "Python 3 (ipykernel)",
   "language": "python",
   "name": "python3"
  },
  "language_info": {
   "codemirror_mode": {
    "name": "ipython",
    "version": 3
   },
   "file_extension": ".py",
   "mimetype": "text/x-python",
   "name": "python",
   "nbconvert_exporter": "python",
   "pygments_lexer": "ipython3",
   "version": "3.8.10"
  }
 },
 "nbformat": 4,
 "nbformat_minor": 5
}
