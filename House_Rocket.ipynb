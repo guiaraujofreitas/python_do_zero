{
 "cells": [
  {
   "cell_type": "markdown",
   "id": "293a6577",
   "metadata": {},
   "source": [
    "# 0.0 QUESTIONS OF CEO"
   ]
  },
  {
   "cell_type": "markdown",
   "id": "4c19ab4c",
   "metadata": {},
   "source": [
    "1. Quantas casas estão dísponíveis para venda?\n",
    "\n",
    "2. Quantos atributos as casas posuem?\n",
    "\n",
    "3. Quais são os atributos da casa?\n",
    "\n",
    "4. Qual a casa mais cara? (Casa com maior valor de venda)\n",
    "\n",
    "5. Qual é maior casa com maior número de quartos?\n",
    "\n",
    "6. Qual é soma total de quartos do conjunto de dados?\n",
    "\n",
    "7. Quantas casas possuem 2 banheiros?\n",
    "\n",
    "8. Qual é o preço médio dos conjunto de dados?\n",
    "\n",
    "9. Qual é o preço médio de casas com 2 banheiros?\n",
    "\n",
    "10. Qual é preço mínimo entre as casas com 3 quartos?\n",
    "         \n",
    "11. Quantas casas possuem mais de 300M2 na sala de estar?\n",
    "\n",
    "12. Quantas casas tem mais de 2 andares?\n",
    "\n",
    "13. Quantas casas tem vista para o mar?\n",
    "\n",
    "14. Das casas com vista para o mar, quantas casas tem mais de 3 quartos?\n",
    "\n",
    "15. Das casas com mais de 300M2 de sala de estar, quantas banheiros tem?"
   ]
  },
  {
   "cell_type": "markdown",
   "id": "436213eb",
   "metadata": {},
   "source": [
    "# 0.1 IMPORTS"
   ]
  },
  {
   "cell_type": "code",
   "execution_count": 1,
   "id": "9e6daa39",
   "metadata": {},
   "outputs": [],
   "source": [
    "import pandas as pd"
   ]
  },
  {
   "cell_type": "markdown",
   "id": "51389408",
   "metadata": {},
   "source": [
    "# 0.1 HELP FUNCTIONS"
   ]
  },
  {
   "cell_type": "markdown",
   "id": "9ef5307c",
   "metadata": {},
   "source": [
    "# 0.2 LOARDING DATE"
   ]
  },
  {
   "cell_type": "code",
   "execution_count": 2,
   "id": "95f4ee75",
   "metadata": {},
   "outputs": [],
   "source": [
    "df1= pd.read_csv('./kc_house_data.csv')"
   ]
  },
  {
   "cell_type": "markdown",
   "id": "32a3eeb0",
   "metadata": {},
   "source": [
    "# 1.0 DESCRITION DATE"
   ]
  },
  {
   "cell_type": "code",
   "execution_count": 3,
   "id": "442bc47c",
   "metadata": {},
   "outputs": [
    {
     "data": {
      "text/plain": [
       "Index(['id', 'date', 'price', 'bedrooms', 'bathrooms', 'sqft_living',\n",
       "       'sqft_lot', 'floors', 'waterfront', 'view', 'condition', 'grade',\n",
       "       'sqft_above', 'sqft_basement', 'yr_built', 'yr_renovated', 'zipcode',\n",
       "       'lat', 'long', 'sqft_living15', 'sqft_lot15'],\n",
       "      dtype='object')"
      ]
     },
     "execution_count": 3,
     "metadata": {},
     "output_type": "execute_result"
    }
   ],
   "source": [
    "df1.columns"
   ]
  },
  {
   "cell_type": "markdown",
   "id": "952f1b17",
   "metadata": {},
   "source": [
    "# 1.1 DATE DIMENSION"
   ]
  },
  {
   "cell_type": "code",
   "execution_count": 4,
   "id": "e76150ae",
   "metadata": {},
   "outputs": [
    {
     "name": "stdout",
     "output_type": "stream",
     "text": [
      "Number of Rows 21613\n",
      "Number of Columns 21\n"
     ]
    }
   ],
   "source": [
    "print('Number of Rows {}'.format(df1.shape[0]))\n",
    "print('Number of Columns {}'.format(df1.shape[1]))"
   ]
  },
  {
   "cell_type": "markdown",
   "id": "79c9fafd",
   "metadata": {},
   "source": [
    "# 1.2 DATE TYPE \n"
   ]
  },
  {
   "cell_type": "code",
   "execution_count": 5,
   "id": "a7175156",
   "metadata": {},
   "outputs": [],
   "source": [
    "df1['date']= pd.to_datetime(df1['date'])"
   ]
  },
  {
   "cell_type": "markdown",
   "id": "c465d636",
   "metadata": {},
   "source": [
    "# 1.3 Check NA"
   ]
  },
  {
   "cell_type": "code",
   "execution_count": 6,
   "id": "19dc70e1",
   "metadata": {},
   "outputs": [
    {
     "data": {
      "text/plain": [
       "id               0\n",
       "date             0\n",
       "price            0\n",
       "bedrooms         0\n",
       "bathrooms        0\n",
       "sqft_living      0\n",
       "sqft_lot         0\n",
       "floors           0\n",
       "waterfront       0\n",
       "view             0\n",
       "condition        0\n",
       "grade            0\n",
       "sqft_above       0\n",
       "sqft_basement    0\n",
       "yr_built         0\n",
       "yr_renovated     0\n",
       "zipcode          0\n",
       "lat              0\n",
       "long             0\n",
       "sqft_living15    0\n",
       "sqft_lot15       0\n",
       "dtype: int64"
      ]
     },
     "execution_count": 6,
     "metadata": {},
     "output_type": "execute_result"
    }
   ],
   "source": [
    "df1.isnull().sum()"
   ]
  },
  {
   "cell_type": "markdown",
   "id": "7b090354",
   "metadata": {},
   "source": [
    "# 1.5  Fillout NA"
   ]
  },
  {
   "cell_type": "code",
   "execution_count": 7,
   "id": "f264dcad",
   "metadata": {},
   "outputs": [
    {
     "data": {
      "text/html": [
       "<div>\n",
       "<style scoped>\n",
       "    .dataframe tbody tr th:only-of-type {\n",
       "        vertical-align: middle;\n",
       "    }\n",
       "\n",
       "    .dataframe tbody tr th {\n",
       "        vertical-align: top;\n",
       "    }\n",
       "\n",
       "    .dataframe thead th {\n",
       "        text-align: right;\n",
       "    }\n",
       "</style>\n",
       "<table border=\"1\" class=\"dataframe\">\n",
       "  <thead>\n",
       "    <tr style=\"text-align: right;\">\n",
       "      <th></th>\n",
       "      <th>id</th>\n",
       "      <th>date</th>\n",
       "      <th>price</th>\n",
       "      <th>bedrooms</th>\n",
       "      <th>bathrooms</th>\n",
       "      <th>sqft_living</th>\n",
       "      <th>sqft_lot</th>\n",
       "      <th>floors</th>\n",
       "      <th>waterfront</th>\n",
       "      <th>view</th>\n",
       "      <th>...</th>\n",
       "      <th>grade</th>\n",
       "      <th>sqft_above</th>\n",
       "      <th>sqft_basement</th>\n",
       "      <th>yr_built</th>\n",
       "      <th>yr_renovated</th>\n",
       "      <th>zipcode</th>\n",
       "      <th>lat</th>\n",
       "      <th>long</th>\n",
       "      <th>sqft_living15</th>\n",
       "      <th>sqft_lot15</th>\n",
       "    </tr>\n",
       "  </thead>\n",
       "  <tbody>\n",
       "    <tr>\n",
       "      <th>10433</th>\n",
       "      <td>5364200695</td>\n",
       "      <td>2015-03-17</td>\n",
       "      <td>1084500.0</td>\n",
       "      <td>4</td>\n",
       "      <td>2.75</td>\n",
       "      <td>2640</td>\n",
       "      <td>5000</td>\n",
       "      <td>2.0</td>\n",
       "      <td>0</td>\n",
       "      <td>0</td>\n",
       "      <td>...</td>\n",
       "      <td>9</td>\n",
       "      <td>1840</td>\n",
       "      <td>800</td>\n",
       "      <td>1943</td>\n",
       "      <td>2004</td>\n",
       "      <td>98105</td>\n",
       "      <td>47.6619</td>\n",
       "      <td>-122.275</td>\n",
       "      <td>2010</td>\n",
       "      <td>5000</td>\n",
       "    </tr>\n",
       "  </tbody>\n",
       "</table>\n",
       "<p>1 rows × 21 columns</p>\n",
       "</div>"
      ],
      "text/plain": [
       "               id       date      price  bedrooms  bathrooms  sqft_living  \\\n",
       "10433  5364200695 2015-03-17  1084500.0         4       2.75         2640   \n",
       "\n",
       "       sqft_lot  floors  waterfront  view  ...  grade  sqft_above  \\\n",
       "10433      5000     2.0           0     0  ...      9        1840   \n",
       "\n",
       "       sqft_basement  yr_built  yr_renovated  zipcode      lat     long  \\\n",
       "10433            800      1943          2004    98105  47.6619 -122.275   \n",
       "\n",
       "       sqft_living15  sqft_lot15  \n",
       "10433           2010        5000  \n",
       "\n",
       "[1 rows x 21 columns]"
      ]
     },
     "execution_count": 7,
     "metadata": {},
     "output_type": "execute_result"
    }
   ],
   "source": [
    "df1.sample(1)"
   ]
  },
  {
   "cell_type": "markdown",
   "id": "2353f456",
   "metadata": {},
   "source": [
    "# RESPONSE QUESTION  CEO"
   ]
  },
  {
   "cell_type": "markdown",
   "id": "f3a6b023",
   "metadata": {},
   "source": [
    "### Quantas casas estão dísponíveis para venda?"
   ]
  },
  {
   "cell_type": "code",
   "execution_count": 8,
   "id": "d9961de8",
   "metadata": {},
   "outputs": [
    {
     "data": {
      "text/plain": [
       "21613"
      ]
     },
     "execution_count": 8,
     "metadata": {},
     "output_type": "execute_result"
    }
   ],
   "source": [
    "df1.shape[0]"
   ]
  },
  {
   "cell_type": "markdown",
   "id": "21d5169a",
   "metadata": {},
   "source": [
    "### Quantos atributos as casas posuem?"
   ]
  },
  {
   "cell_type": "code",
   "execution_count": 9,
   "id": "e12a65f8",
   "metadata": {},
   "outputs": [
    {
     "data": {
      "text/plain": [
       "21"
      ]
     },
     "execution_count": 9,
     "metadata": {},
     "output_type": "execute_result"
    }
   ],
   "source": [
    "df1.shape[1] "
   ]
  },
  {
   "cell_type": "markdown",
   "id": "299b24d3",
   "metadata": {},
   "source": [
    "### Quais são os atributos das casas?"
   ]
  },
  {
   "cell_type": "code",
   "execution_count": 10,
   "id": "ac74b98e",
   "metadata": {},
   "outputs": [
    {
     "data": {
      "text/plain": [
       "Index(['id', 'date', 'price', 'bedrooms', 'bathrooms', 'sqft_living',\n",
       "       'sqft_lot', 'floors', 'waterfront', 'view', 'condition', 'grade',\n",
       "       'sqft_above', 'sqft_basement', 'yr_built', 'yr_renovated', 'zipcode',\n",
       "       'lat', 'long', 'sqft_living15', 'sqft_lot15'],\n",
       "      dtype='object')"
      ]
     },
     "execution_count": 10,
     "metadata": {},
     "output_type": "execute_result"
    }
   ],
   "source": [
    "df1.columns"
   ]
  },
  {
   "cell_type": "markdown",
   "id": "e699b9f1",
   "metadata": {},
   "source": [
    "### Qual a casa mais cara? (Casa com maior valor de venda)"
   ]
  },
  {
   "cell_type": "code",
   "execution_count": 11,
   "id": "beb54295",
   "metadata": {},
   "outputs": [
    {
     "name": "stdout",
     "output_type": "stream",
     "text": [
      "The house with price expense has value R$7700000.0\n"
     ]
    }
   ],
   "source": [
    "print('The house with price expense has value R${}'.format(df1['price'].max()))\n",
    "      #rint('Number of Columns {}'.format(df1.shape[1]))"
   ]
  },
  {
   "cell_type": "markdown",
   "id": "f35ed4e0",
   "metadata": {},
   "source": [
    "### Qual é maior casa com maior número de quartos?"
   ]
  },
  {
   "cell_type": "code",
   "execution_count": 12,
   "id": "08fc7c7e",
   "metadata": {},
   "outputs": [
    {
     "data": {
      "text/plain": [
       "bedrooms         33.0\n",
       "price       7700000.0\n",
       "dtype: float64"
      ]
     },
     "execution_count": 12,
     "metadata": {},
     "output_type": "execute_result"
    }
   ],
   "source": [
    "df1[['bedrooms','price']].max()"
   ]
  },
  {
   "cell_type": "markdown",
   "id": "9edb2fbb",
   "metadata": {},
   "source": [
    "### Qual é soma total de quartos do conjunto de dados?\n",
    "\n"
   ]
  },
  {
   "cell_type": "code",
   "execution_count": 13,
   "id": "b81450f5",
   "metadata": {},
   "outputs": [
    {
     "name": "stdout",
     "output_type": "stream",
     "text": [
      "The sum of bedroms in date is 72854.\n"
     ]
    }
   ],
   "source": [
    "print('The sum of bedroms in date is {}.'.format(df1['bedrooms'].sum()))"
   ]
  },
  {
   "cell_type": "markdown",
   "id": "8441937e",
   "metadata": {},
   "source": [
    "### Quantas casas possuem 2 banheiros?"
   ]
  },
  {
   "cell_type": "code",
   "execution_count": 31,
   "id": "b3d4fb5d",
   "metadata": {},
   "outputs": [
    {
     "data": {
      "text/plain": [
       "3860.0"
      ]
     },
     "execution_count": 31,
     "metadata": {},
     "output_type": "execute_result"
    }
   ],
   "source": [
    "df1['bathrooms'].loc[df1['bathrooms']==2].sum()"
   ]
  },
  {
   "cell_type": "markdown",
   "id": "4b6035a5",
   "metadata": {},
   "source": [
    "### Qual é o preço médio dos conjunto de dados?"
   ]
  },
  {
   "cell_type": "code",
   "execution_count": 49,
   "id": "3135c2d8",
   "metadata": {},
   "outputs": [
    {
     "name": "stdout",
     "output_type": "stream",
     "text": [
      "The mean price of houses is R$ 540088.1417665294\n"
     ]
    }
   ],
   "source": [
    "print('The mean price of houses is R$ {}'.format(df1['price'].mean()))"
   ]
  },
  {
   "cell_type": "markdown",
   "id": "f8ae5ec0",
   "metadata": {},
   "source": [
    "### Qual é o preço médio de casas com 2 banheiros?"
   ]
  },
  {
   "cell_type": "code",
   "execution_count": 57,
   "id": "35f45ab8",
   "metadata": {},
   "outputs": [
    {
     "data": {
      "text/plain": [
       "457889.7186528497"
      ]
     },
     "execution_count": 57,
     "metadata": {},
     "output_type": "execute_result"
    }
   ],
   "source": [
    "df1['price'].loc[df1['bathrooms']==2].mean()"
   ]
  },
  {
   "cell_type": "markdown",
   "id": "72ff854a",
   "metadata": {},
   "source": [
    "\n",
    "### Qual é preço mínimo entre as casas com 3 quartos?\n"
   ]
  },
  {
   "cell_type": "code",
   "execution_count": 56,
   "id": "07e78b19",
   "metadata": {},
   "outputs": [
    {
     "data": {
      "text/plain": [
       "82000.0"
      ]
     },
     "execution_count": 56,
     "metadata": {},
     "output_type": "execute_result"
    }
   ],
   "source": [
    "df1['price'].loc[df1['bedrooms']==3].min()"
   ]
  },
  {
   "cell_type": "markdown",
   "id": "f6c48d11",
   "metadata": {},
   "source": [
    "### Quantas casas possuem mais de 300M2 na sala de estar?"
   ]
  },
  {
   "cell_type": "code",
   "execution_count": 64,
   "id": "3af58c26",
   "metadata": {},
   "outputs": [
    {
     "data": {
      "text/plain": [
       "44952583"
      ]
     },
     "execution_count": 64,
     "metadata": {},
     "output_type": "execute_result"
    }
   ],
   "source": [
    "df1['sqft_living'].loc[df1['sqft_living']>300].sum()"
   ]
  },
  {
   "cell_type": "code",
   "execution_count": 65,
   "id": "c823c8c3",
   "metadata": {},
   "outputs": [
    {
     "data": {
      "text/plain": [
       "0     5650\n",
       "1     7242\n",
       "2    10000\n",
       "3     5000\n",
       "4     8080\n",
       "Name: sqft_lot, dtype: int64"
      ]
     },
     "execution_count": 65,
     "metadata": {},
     "output_type": "execute_result"
    }
   ],
   "source": [
    "df1['sqft_lot'].head()"
   ]
  }
 ],
 "metadata": {
  "kernelspec": {
   "display_name": "Python 3 (ipykernel)",
   "language": "python",
   "name": "python3"
  },
  "language_info": {
   "codemirror_mode": {
    "name": "ipython",
    "version": 3
   },
   "file_extension": ".py",
   "mimetype": "text/x-python",
   "name": "python",
   "nbconvert_exporter": "python",
   "pygments_lexer": "ipython3",
   "version": "3.8.10"
  }
 },
 "nbformat": 4,
 "nbformat_minor": 5
}
