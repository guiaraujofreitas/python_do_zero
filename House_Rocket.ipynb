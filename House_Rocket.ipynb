{
 "cells": [
  {
   "cell_type": "markdown",
   "id": "293a6577",
   "metadata": {},
   "source": [
    "# 0.0 QUESTIONS OF CEO"
   ]
  },
  {
   "cell_type": "markdown",
   "id": "4c19ab4c",
   "metadata": {},
   "source": [
    "###### 1. Quantas casas estão dísponíveis para venda?\n",
    "\n",
    "2. Quantos atributos as casas posuem?\n",
    "\n",
    "3. Quais são os atributos da casa?\n",
    "\n",
    "4. Qual a casa mais cara? (Casa com maior valor de venda)\n",
    "\n",
    "5. Qual é maior casa com maior número de quartos?\n",
    "\n",
    "6. Qual é soma total de quartos do conjunto de dados?\n",
    "\n",
    "7. Quantas casas possuem 2 banheiros?\n",
    "\n",
    "8. Qual é o preço médio dos conjunto de dados?\n",
    "\n",
    "9. Qual é o preço médio de casas com 2 banheiros?\n",
    "\n",
    "10. Qual é preço mínimo entre as casas com 3 quartos?\n",
    "         \n",
    "11. Quantas casas possuem mais de 300M2 na sala de estar?\n",
    "\n",
    "12. Quantas casas tem mais de 2 andares?\n",
    "\n",
    "13. Quantas casas tem vista para o mar?\n",
    "\n",
    "14. Das casas com vista para o mar, quantas casas tem mais de 3 quartos?\n",
    "\n",
    "15. Das casas com mais de 300M2 de sala de estar, quantas banheiros tem?"
   ]
  },
  {
   "cell_type": "markdown",
   "id": "436213eb",
   "metadata": {},
   "source": [
    "# 0.1 IMPORTS"
   ]
  },
  {
   "cell_type": "code",
   "execution_count": 1,
   "id": "9e6daa39",
   "metadata": {},
   "outputs": [],
   "source": [
    "import pandas as pd"
   ]
  },
  {
   "cell_type": "markdown",
   "id": "51389408",
   "metadata": {},
   "source": [
    "# 0.1 HELP FUNCTIONS"
   ]
  },
  {
   "cell_type": "markdown",
   "id": "9ef5307c",
   "metadata": {},
   "source": [
    "# 0.2 LOARDING DATE"
   ]
  },
  {
   "cell_type": "code",
   "execution_count": 2,
   "id": "95f4ee75",
   "metadata": {},
   "outputs": [],
   "source": [
    "df1= pd.read_csv('./kc_house_data.csv')"
   ]
  },
  {
   "cell_type": "markdown",
   "id": "32a3eeb0",
   "metadata": {},
   "source": [
    "# 1.0 DESCRITION DATE"
   ]
  },
  {
   "cell_type": "code",
   "execution_count": 3,
   "id": "442bc47c",
   "metadata": {},
   "outputs": [
    {
     "data": {
      "text/plain": [
       "Index(['id', 'date', 'price', 'bedrooms', 'bathrooms', 'sqft_living',\n",
       "       'sqft_lot', 'floors', 'waterfront', 'view', 'condition', 'grade',\n",
       "       'sqft_above', 'sqft_basement', 'yr_built', 'yr_renovated', 'zipcode',\n",
       "       'lat', 'long', 'sqft_living15', 'sqft_lot15'],\n",
       "      dtype='object')"
      ]
     },
     "execution_count": 3,
     "metadata": {},
     "output_type": "execute_result"
    }
   ],
   "source": [
    "df1.columns"
   ]
  },
  {
   "cell_type": "markdown",
   "id": "952f1b17",
   "metadata": {},
   "source": [
    "# 1.1 DATE DIMENSION"
   ]
  },
  {
   "cell_type": "code",
   "execution_count": 4,
   "id": "e76150ae",
   "metadata": {},
   "outputs": [
    {
     "name": "stdout",
     "output_type": "stream",
     "text": [
      "Number of Rows 21613\n",
      "Number of Columns 21\n"
     ]
    }
   ],
   "source": [
    "print('Number of Rows {}'.format(df1.shape[0]))\n",
    "print('Number of Columns {}'.format(df1.shape[1]))"
   ]
  },
  {
   "cell_type": "markdown",
   "id": "79c9fafd",
   "metadata": {},
   "source": [
    "# 1.2 DATE TYPE \n"
   ]
  },
  {
   "cell_type": "code",
   "execution_count": 5,
   "id": "a7175156",
   "metadata": {},
   "outputs": [],
   "source": [
    "df1['date']= pd.to_datetime(df1['date'])"
   ]
  },
  {
   "cell_type": "markdown",
   "id": "c465d636",
   "metadata": {},
   "source": [
    "# 1.3 Check NA"
   ]
  },
  {
   "cell_type": "code",
   "execution_count": 6,
   "id": "19dc70e1",
   "metadata": {},
   "outputs": [
    {
     "data": {
      "text/plain": [
       "id               0\n",
       "date             0\n",
       "price            0\n",
       "bedrooms         0\n",
       "bathrooms        0\n",
       "sqft_living      0\n",
       "sqft_lot         0\n",
       "floors           0\n",
       "waterfront       0\n",
       "view             0\n",
       "condition        0\n",
       "grade            0\n",
       "sqft_above       0\n",
       "sqft_basement    0\n",
       "yr_built         0\n",
       "yr_renovated     0\n",
       "zipcode          0\n",
       "lat              0\n",
       "long             0\n",
       "sqft_living15    0\n",
       "sqft_lot15       0\n",
       "dtype: int64"
      ]
     },
     "execution_count": 6,
     "metadata": {},
     "output_type": "execute_result"
    }
   ],
   "source": [
    "df1.isnull().sum()"
   ]
  },
  {
   "cell_type": "markdown",
   "id": "7b090354",
   "metadata": {},
   "source": [
    "# 1.5  Fillout NA"
   ]
  },
  {
   "cell_type": "code",
   "execution_count": 7,
   "id": "f264dcad",
   "metadata": {},
   "outputs": [
    {
     "data": {
      "text/html": [
       "<div>\n",
       "<style scoped>\n",
       "    .dataframe tbody tr th:only-of-type {\n",
       "        vertical-align: middle;\n",
       "    }\n",
       "\n",
       "    .dataframe tbody tr th {\n",
       "        vertical-align: top;\n",
       "    }\n",
       "\n",
       "    .dataframe thead th {\n",
       "        text-align: right;\n",
       "    }\n",
       "</style>\n",
       "<table border=\"1\" class=\"dataframe\">\n",
       "  <thead>\n",
       "    <tr style=\"text-align: right;\">\n",
       "      <th></th>\n",
       "      <th>id</th>\n",
       "      <th>date</th>\n",
       "      <th>price</th>\n",
       "      <th>bedrooms</th>\n",
       "      <th>bathrooms</th>\n",
       "      <th>sqft_living</th>\n",
       "      <th>sqft_lot</th>\n",
       "      <th>floors</th>\n",
       "      <th>waterfront</th>\n",
       "      <th>view</th>\n",
       "      <th>...</th>\n",
       "      <th>grade</th>\n",
       "      <th>sqft_above</th>\n",
       "      <th>sqft_basement</th>\n",
       "      <th>yr_built</th>\n",
       "      <th>yr_renovated</th>\n",
       "      <th>zipcode</th>\n",
       "      <th>lat</th>\n",
       "      <th>long</th>\n",
       "      <th>sqft_living15</th>\n",
       "      <th>sqft_lot15</th>\n",
       "    </tr>\n",
       "  </thead>\n",
       "  <tbody>\n",
       "    <tr>\n",
       "      <th>19361</th>\n",
       "      <td>3992700475</td>\n",
       "      <td>2014-11-11</td>\n",
       "      <td>450000.0</td>\n",
       "      <td>3</td>\n",
       "      <td>1.75</td>\n",
       "      <td>1350</td>\n",
       "      <td>7200</td>\n",
       "      <td>1.0</td>\n",
       "      <td>0</td>\n",
       "      <td>0</td>\n",
       "      <td>...</td>\n",
       "      <td>7</td>\n",
       "      <td>1350</td>\n",
       "      <td>0</td>\n",
       "      <td>1954</td>\n",
       "      <td>0</td>\n",
       "      <td>98125</td>\n",
       "      <td>47.713</td>\n",
       "      <td>-122.284</td>\n",
       "      <td>1100</td>\n",
       "      <td>7200</td>\n",
       "    </tr>\n",
       "  </tbody>\n",
       "</table>\n",
       "<p>1 rows × 21 columns</p>\n",
       "</div>"
      ],
      "text/plain": [
       "               id       date     price  bedrooms  bathrooms  sqft_living  \\\n",
       "19361  3992700475 2014-11-11  450000.0         3       1.75         1350   \n",
       "\n",
       "       sqft_lot  floors  waterfront  view  ...  grade  sqft_above  \\\n",
       "19361      7200     1.0           0     0  ...      7        1350   \n",
       "\n",
       "       sqft_basement  yr_built  yr_renovated  zipcode     lat     long  \\\n",
       "19361              0      1954             0    98125  47.713 -122.284   \n",
       "\n",
       "       sqft_living15  sqft_lot15  \n",
       "19361           1100        7200  \n",
       "\n",
       "[1 rows x 21 columns]"
      ]
     },
     "execution_count": 7,
     "metadata": {},
     "output_type": "execute_result"
    }
   ],
   "source": [
    "df1.sample(1)"
   ]
  },
  {
   "cell_type": "markdown",
   "id": "2353f456",
   "metadata": {},
   "source": [
    "# RESPONSE QUESTION  CEO"
   ]
  },
  {
   "cell_type": "markdown",
   "id": "f3a6b023",
   "metadata": {},
   "source": [
    "### 1. Quantas casas estão dísponíveis para venda?"
   ]
  },
  {
   "cell_type": "code",
   "execution_count": 61,
   "id": "d9961de8",
   "metadata": {},
   "outputs": [
    {
     "name": "stdout",
     "output_type": "stream",
     "text": [
      "O número de casas disponível para vendas são 21436\n"
     ]
    }
   ],
   "source": [
    "# Estrategy: \n",
    "# 1.selecionar coluna de referência das\n",
    "# 2.Contar a quantidade de casas\n",
    "\n",
    "houses= len(df1['id'].unique())\n",
    "\n",
    "print('O número de casas disponível para vendas são {}'.format(houses))"
   ]
  },
  {
   "cell_type": "markdown",
   "id": "21d5169a",
   "metadata": {},
   "source": [
    "###  2. Quantos atributos as casas posuem?"
   ]
  },
  {
   "cell_type": "code",
   "execution_count": 70,
   "id": "e12a65f8",
   "metadata": {},
   "outputs": [
    {
     "data": {
      "text/plain": [
       "19"
      ]
     },
     "execution_count": 70,
     "metadata": {},
     "output_type": "execute_result"
    }
   ],
   "source": [
    "# As colunas id e date não são considerados neste notebook como atributos.\n",
    "\n",
    "len(df1.drop(['id','date'],axis=1).columns)"
   ]
  },
  {
   "cell_type": "markdown",
   "id": "299b24d3",
   "metadata": {},
   "source": [
    "### 3. Quais são os atributos das casas?"
   ]
  },
  {
   "cell_type": "code",
   "execution_count": 82,
   "id": "ac74b98e",
   "metadata": {},
   "outputs": [
    {
     "data": {
      "text/plain": [
       "Index(['price', 'bedrooms', 'bathrooms', 'sqft_living', 'sqft_lot', 'floors',\n",
       "       'waterfront', 'view', 'condition', 'grade', 'sqft_above',\n",
       "       'sqft_basement', 'yr_built', 'yr_renovated', 'zipcode', 'lat', 'long',\n",
       "       'sqft_living15', 'sqft_lot15'],\n",
       "      dtype='object')"
      ]
     },
     "execution_count": 82,
     "metadata": {},
     "output_type": "execute_result"
    }
   ],
   "source": [
    "df1.drop(['id','date'],axis=1).columns"
   ]
  },
  {
   "cell_type": "markdown",
   "id": "e699b9f1",
   "metadata": {},
   "source": [
    "### 4. Qual a casa mais cara? (Casa com maior valor de venda)"
   ]
  },
  {
   "cell_type": "code",
   "execution_count": 114,
   "id": "beb54295",
   "metadata": {},
   "outputs": [
    {
     "data": {
      "text/plain": [
       "6762700020"
      ]
     },
     "execution_count": 114,
     "metadata": {},
     "output_type": "execute_result"
    }
   ],
   "source": [
    "## tenho que selecionar a referência da casa ('id') e selecionar coluna preço ('price')\n",
    "# depois tenho que ordenar os valores do maior para o menor\n",
    "# resertar as colunas para criar novos nomes nas linhas (reset_idex)\n",
    "# filtrar achar o código(nome) da casa mais cara.\n",
    "\n",
    "df1[['id','price']].sort_values('price',ascending=False).reset_index(drop=True).loc[0,'id']\n",
    "\n",
    "\n",
    "\n"
   ]
  },
  {
   "cell_type": "markdown",
   "id": "f35ed4e0",
   "metadata": {},
   "source": [
    "### 5. Qual é maior casa com maior número de quartos?"
   ]
  },
  {
   "cell_type": "code",
   "execution_count": 12,
   "id": "08fc7c7e",
   "metadata": {},
   "outputs": [
    {
     "data": {
      "text/plain": [
       "bedrooms         33.0\n",
       "price       7700000.0\n",
       "dtype: float64"
      ]
     },
     "execution_count": 12,
     "metadata": {},
     "output_type": "execute_result"
    }
   ],
   "source": [
    "df1[['bedrooms','price']].max()"
   ]
  },
  {
   "cell_type": "markdown",
   "id": "9edb2fbb",
   "metadata": {},
   "source": [
    "### 6. Qual é soma total de quartos do conjunto de dados?\n",
    "\n"
   ]
  },
  {
   "cell_type": "code",
   "execution_count": 13,
   "id": "b81450f5",
   "metadata": {},
   "outputs": [
    {
     "name": "stdout",
     "output_type": "stream",
     "text": [
      "The sum of bedroms in date is 72854.\n"
     ]
    }
   ],
   "source": [
    "print('The sum of bedroms in date is {}.'.format(df1['bedrooms'].sum()))"
   ]
  },
  {
   "cell_type": "markdown",
   "id": "8441937e",
   "metadata": {},
   "source": [
    "### 7. Quantas casas possuem 2 banheiros?"
   ]
  },
  {
   "cell_type": "code",
   "execution_count": 14,
   "id": "b3d4fb5d",
   "metadata": {},
   "outputs": [
    {
     "data": {
      "text/plain": [
       "3860.0"
      ]
     },
     "execution_count": 14,
     "metadata": {},
     "output_type": "execute_result"
    }
   ],
   "source": [
    "df1['bathrooms'].loc[df1['bathrooms']==2].sum()"
   ]
  },
  {
   "cell_type": "markdown",
   "id": "4b6035a5",
   "metadata": {},
   "source": [
    "### 8. Qual é o preço médio dos conjunto de dados?"
   ]
  },
  {
   "cell_type": "code",
   "execution_count": 15,
   "id": "3135c2d8",
   "metadata": {},
   "outputs": [
    {
     "name": "stdout",
     "output_type": "stream",
     "text": [
      "The mean price of houses is R$ 540088.1417665294\n"
     ]
    }
   ],
   "source": [
    "print('The mean price of houses is R$ {}'.format(df1['price'].mean()))"
   ]
  },
  {
   "cell_type": "markdown",
   "id": "f8ae5ec0",
   "metadata": {},
   "source": [
    "### 9. Qual é o preço médio de casas com 2 banheiros?"
   ]
  },
  {
   "cell_type": "code",
   "execution_count": 16,
   "id": "35f45ab8",
   "metadata": {},
   "outputs": [
    {
     "data": {
      "text/plain": [
       "457889.7186528497"
      ]
     },
     "execution_count": 16,
     "metadata": {},
     "output_type": "execute_result"
    }
   ],
   "source": [
    "df1['price'].loc[df1['bathrooms']==2].mean()"
   ]
  },
  {
   "cell_type": "markdown",
   "id": "72ff854a",
   "metadata": {},
   "source": [
    "\n",
    "### 10. Qual é preço mínimo entre as casas com 3 quartos?\n"
   ]
  },
  {
   "cell_type": "code",
   "execution_count": 17,
   "id": "07e78b19",
   "metadata": {},
   "outputs": [
    {
     "data": {
      "text/plain": [
       "82000.0"
      ]
     },
     "execution_count": 17,
     "metadata": {},
     "output_type": "execute_result"
    }
   ],
   "source": [
    "df1['price'].loc[df1['bedrooms']==3].min()"
   ]
  },
  {
   "cell_type": "markdown",
   "id": "f6c48d11",
   "metadata": {},
   "source": [
    "### 11. Quantas casas possuem mais de 300M2 na sala de estar?"
   ]
  },
  {
   "cell_type": "code",
   "execution_count": 18,
   "id": "3af58c26",
   "metadata": {},
   "outputs": [
    {
     "data": {
      "text/plain": [
       "44952583"
      ]
     },
     "execution_count": 18,
     "metadata": {},
     "output_type": "execute_result"
    }
   ],
   "source": [
    "df1['sqft_living'].loc[df1['sqft_living']>300].sum()"
   ]
  },
  {
   "cell_type": "markdown",
   "id": "16069945",
   "metadata": {},
   "source": [
    "###### 12. Quantas casas tem mais de 2 andares?"
   ]
  },
  {
   "cell_type": "code",
   "execution_count": 24,
   "id": "8772b275",
   "metadata": {},
   "outputs": [
    {
     "data": {
      "text/plain": [
       "2269.5"
      ]
     },
     "execution_count": 24,
     "metadata": {},
     "output_type": "execute_result"
    }
   ],
   "source": [
    "df1['floors'].loc[df1['floors']>2].sum()"
   ]
  },
  {
   "cell_type": "markdown",
   "id": "f539bcb3",
   "metadata": {},
   "source": [
    "### 13. Quantas casas tem vista para o mar?"
   ]
  },
  {
   "cell_type": "code",
   "execution_count": 51,
   "id": "a15ea16f",
   "metadata": {},
   "outputs": [
    {
     "data": {
      "text/plain": [
       "21613"
      ]
     },
     "execution_count": 51,
     "metadata": {},
     "output_type": "execute_result"
    }
   ],
   "source": [
    "len(df1['waterfront'].loc[df1['waterfront']])"
   ]
  },
  {
   "cell_type": "markdown",
   "id": "554b252e",
   "metadata": {},
   "source": [
    "### 14. Das casas com vista para o mar, quantas casas tem mais de 3 quartos?"
   ]
  },
  {
   "cell_type": "markdown",
   "id": "013b9266",
   "metadata": {},
   "source": [
    "Conforme respondido da pergunta 13 deste notebook, não há casas com vistas para o mar."
   ]
  },
  {
   "cell_type": "markdown",
   "id": "edb3778d",
   "metadata": {},
   "source": [
    "\n",
    "### 15. Das casas com mais de 300M2 de sala de estar, quantas banheiros tem?"
   ]
  },
  {
   "cell_type": "code",
   "execution_count": 49,
   "id": "38aa3ece",
   "metadata": {},
   "outputs": [
    {
     "data": {
      "text/plain": [
       "21612"
      ]
     },
     "execution_count": 49,
     "metadata": {},
     "output_type": "execute_result"
    }
   ],
   "source": [
    "len(df1['bathrooms'].loc[df1['sqft_living']>300])"
   ]
  },
  {
   "cell_type": "code",
   "execution_count": null,
   "id": "7fc20584",
   "metadata": {},
   "outputs": [],
   "source": []
  },
  {
   "cell_type": "code",
   "execution_count": null,
   "id": "e80b4bf8",
   "metadata": {},
   "outputs": [],
   "source": []
  }
 ],
 "metadata": {
  "kernelspec": {
   "display_name": "Python 3 (ipykernel)",
   "language": "python",
   "name": "python3"
  },
  "language_info": {
   "codemirror_mode": {
    "name": "ipython",
    "version": 3
   },
   "file_extension": ".py",
   "mimetype": "text/x-python",
   "name": "python",
   "nbconvert_exporter": "python",
   "pygments_lexer": "ipython3",
   "version": "3.8.10"
  }
 },
 "nbformat": 4,
 "nbformat_minor": 5
}
